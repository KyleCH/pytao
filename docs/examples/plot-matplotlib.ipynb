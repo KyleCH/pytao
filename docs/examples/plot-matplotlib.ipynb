{
 "cells": [
  {
   "cell_type": "markdown",
   "metadata": {},
   "source": [
    "# PyTao plotting with Matplotlib"
   ]
  },
  {
   "cell_type": "markdown",
   "metadata": {},
   "source": [
    "PyTao supports plotting directly from the notebook, without a separate (X11) plot window.\n",
    "\n",
    "PyTao provides two backends:\n",
    "* Bokeh (with interactive plotting support)\n",
    "* Matplotlib \n",
    "\n",
    "When plotting is enabled, PyTao will automatically select the best available backend.\n",
    "\n",
    "\n",
    "The plotting backend may be specified explicitly, as we will do in this notebook in order to show off\n",
    "this backend's functionality."
   ]
  },
  {
   "cell_type": "markdown",
   "metadata": {},
   "source": [
    "---\n",
    "## Tao setup"
   ]
  },
  {
   "cell_type": "code",
   "execution_count": null,
   "metadata": {
    "execution": {
     "iopub.execute_input": "2024-08-08T19:06:29.651449Z",
     "iopub.status.busy": "2024-08-08T19:06:29.651032Z",
     "iopub.status.idle": "2024-08-08T19:06:29.661795Z",
     "shell.execute_reply": "2024-08-08T19:06:29.661178Z"
    }
   },
   "outputs": [],
   "source": [
    "%config InlineBackend.figure_format = \"retina\"   # Higher resolution plots, if available on your platform."
   ]
  },
  {
   "cell_type": "code",
   "execution_count": null,
   "metadata": {
    "execution": {
     "iopub.execute_input": "2024-08-08T19:06:29.665314Z",
     "iopub.status.busy": "2024-08-08T19:06:29.665037Z",
     "iopub.status.idle": "2024-08-08T19:06:30.077718Z",
     "shell.execute_reply": "2024-08-08T19:06:30.077334Z"
    }
   },
   "outputs": [],
   "source": [
    "import pytao\n",
    "from pytao import Tao\n",
    "\n",
    "import matplotlib.pyplot as plt"
   ]
  },
  {
   "cell_type": "code",
   "execution_count": null,
   "metadata": {
    "execution": {
     "iopub.execute_input": "2024-08-08T19:06:30.079851Z",
     "iopub.status.busy": "2024-08-08T19:06:30.079653Z",
     "iopub.status.idle": "2024-08-08T19:06:30.148527Z",
     "shell.execute_reply": "2024-08-08T19:06:30.148082Z"
    }
   },
   "outputs": [],
   "source": [
    "init_file = \"$ACC_ROOT_DIR/bmad-doc/tao_examples/optics_matching/tao.init\"\n",
    "\n",
    "tao = Tao(init_file=init_file, plot=\"mpl\")"
   ]
  },
  {
   "cell_type": "markdown",
   "metadata": {},
   "source": [
    "## The floor plan"
   ]
  },
  {
   "cell_type": "code",
   "execution_count": null,
   "metadata": {
    "execution": {
     "iopub.execute_input": "2024-08-08T19:06:30.150523Z",
     "iopub.status.busy": "2024-08-08T19:06:30.150364Z",
     "iopub.status.idle": "2024-08-08T19:06:30.269720Z",
     "shell.execute_reply": "2024-08-08T19:06:30.269311Z"
    }
   },
   "outputs": [],
   "source": [
    "tao.plot(\"floor_plan\", ylim=(-2, 2), figsize=(6, 4))"
   ]
  },
  {
   "cell_type": "markdown",
   "metadata": {},
   "source": [
    "## Single data plots"
   ]
  },
  {
   "cell_type": "code",
   "execution_count": null,
   "metadata": {
    "execution": {
     "iopub.execute_input": "2024-08-08T19:06:30.290504Z",
     "iopub.status.busy": "2024-08-08T19:06:30.290371Z",
     "iopub.status.idle": "2024-08-08T19:06:30.535833Z",
     "shell.execute_reply": "2024-08-08T19:06:30.535552Z"
    }
   },
   "outputs": [],
   "source": [
    "tao.plot(\"dispersion\", include_layout=True)"
   ]
  },
  {
   "cell_type": "markdown",
   "metadata": {},
   "source": [
    "## Plot fields"
   ]
  },
  {
   "cell_type": "code",
   "execution_count": null,
   "metadata": {
    "execution": {
     "iopub.execute_input": "2024-08-08T19:06:30.537455Z",
     "iopub.status.busy": "2024-08-08T19:06:30.537354Z",
     "iopub.status.idle": "2024-08-08T19:06:30.942083Z",
     "shell.execute_reply": "2024-08-08T19:06:30.941761Z"
    }
   },
   "outputs": [],
   "source": [
    "tao.cmd(\"set var quad[1]|model = -5\")\n",
    "tao.plot_field(\"Q1\")"
   ]
  },
  {
   "cell_type": "markdown",
   "metadata": {},
   "source": [
    "## Stacked plots"
   ]
  },
  {
   "cell_type": "code",
   "execution_count": null,
   "metadata": {
    "execution": {
     "iopub.execute_input": "2024-08-08T19:06:30.943602Z",
     "iopub.status.busy": "2024-08-08T19:06:30.943488Z",
     "iopub.status.idle": "2024-08-08T19:06:31.179321Z",
     "shell.execute_reply": "2024-08-08T19:06:31.179060Z"
    }
   },
   "outputs": [],
   "source": [
    "tao.plot([\"alpha\", \"beta\"])"
   ]
  },
  {
   "cell_type": "code",
   "execution_count": null,
   "metadata": {
    "execution": {
     "iopub.execute_input": "2024-08-08T19:06:31.180613Z",
     "iopub.status.busy": "2024-08-08T19:06:31.180539Z",
     "iopub.status.idle": "2024-08-08T19:06:31.406329Z",
     "shell.execute_reply": "2024-08-08T19:06:31.406062Z"
    }
   },
   "outputs": [],
   "source": [
    "tao.plot([\"alpha\", \"beta\"], include_layout=False)"
   ]
  },
  {
   "cell_type": "markdown",
   "metadata": {},
   "source": [
    "## Gridded plots"
   ]
  },
  {
   "cell_type": "code",
   "execution_count": null,
   "metadata": {
    "execution": {
     "iopub.execute_input": "2024-08-08T19:06:31.407860Z",
     "iopub.status.busy": "2024-08-08T19:06:31.407744Z",
     "iopub.status.idle": "2024-08-08T19:06:31.921616Z",
     "shell.execute_reply": "2024-08-08T19:06:31.921360Z"
    }
   },
   "outputs": [],
   "source": [
    "tao.plot([\"beta\", \"dispersion\", \"orbit\"], grid=(2, 2), figsize=(8, 8))"
   ]
  },
  {
   "cell_type": "markdown",
   "metadata": {},
   "source": [
    "## Saving plots\n",
    "\n",
    "The parameter `save` makes it convenient to simultaneously display and save the plot to a file."
   ]
  },
  {
   "cell_type": "code",
   "execution_count": null,
   "metadata": {
    "execution": {
     "iopub.execute_input": "2024-08-08T19:06:31.923235Z",
     "iopub.status.busy": "2024-08-08T19:06:31.923122Z",
     "iopub.status.idle": "2024-08-08T19:06:32.072710Z",
     "shell.execute_reply": "2024-08-08T19:06:32.072420Z"
    }
   },
   "outputs": [],
   "source": [
    "tao.plot(\"beta\", save=\"beta.png\", figsize=(3, 3), include_layout=False)"
   ]
  },
  {
   "cell_type": "markdown",
   "metadata": {},
   "source": [
    "## Customized plots"
   ]
  },
  {
   "cell_type": "code",
   "execution_count": null,
   "metadata": {
    "execution": {
     "iopub.execute_input": "2024-08-08T19:06:32.074137Z",
     "iopub.status.busy": "2024-08-08T19:06:32.074039Z",
     "iopub.status.idle": "2024-08-08T19:06:32.511395Z",
     "shell.execute_reply": "2024-08-08T19:06:32.511118Z"
    }
   },
   "outputs": [],
   "source": [
    "tao.plot([\"beta\", \"dispersion\", \"orbit\"], grid=(2, 2))\n",
    "\n",
    "# Access the figure by using `plt.gcf()` (\"get current figure\")\n",
    "fig = plt.gcf()\n",
    "fig.suptitle(\"Customized plot title\")\n",
    "\n",
    "# Access individual Axes objects by indexing `fig.axes`:\n",
    "fig.axes[0].set_title(\"Beta [model]\")\n",
    "fig.tight_layout()"
   ]
  },
  {
   "cell_type": "markdown",
   "metadata": {},
   "source": [
    "## Change defaults"
   ]
  },
  {
   "cell_type": "code",
   "execution_count": null,
   "metadata": {
    "execution": {
     "iopub.execute_input": "2024-08-08T19:06:32.512861Z",
     "iopub.status.busy": "2024-08-08T19:06:32.512763Z",
     "iopub.status.idle": "2024-08-08T19:06:32.514430Z",
     "shell.execute_reply": "2024-08-08T19:06:32.514201Z"
    }
   },
   "outputs": [],
   "source": [
    "pytao.plotting.mpl.set_defaults(layout_height=0.25, figsize=(4, 4))"
   ]
  },
  {
   "cell_type": "code",
   "execution_count": null,
   "metadata": {
    "execution": {
     "iopub.execute_input": "2024-08-08T19:06:32.515679Z",
     "iopub.status.busy": "2024-08-08T19:06:32.515605Z",
     "iopub.status.idle": "2024-08-08T19:06:32.725558Z",
     "shell.execute_reply": "2024-08-08T19:06:32.725225Z"
    }
   },
   "outputs": [],
   "source": [
    "tao.plot(\"beta\")"
   ]
  },
  {
   "cell_type": "markdown",
   "metadata": {},
   "source": [
    "## Accessing plot data"
   ]
  },
  {
   "cell_type": "code",
   "execution_count": null,
   "metadata": {
    "execution": {
     "iopub.execute_input": "2024-08-08T19:06:32.726991Z",
     "iopub.status.busy": "2024-08-08T19:06:32.726894Z",
     "iopub.status.idle": "2024-08-08T19:06:32.728517Z",
     "shell.execute_reply": "2024-08-08T19:06:32.728269Z"
    }
   },
   "outputs": [],
   "source": [
    "graphs, beta_fig, beta_ax = tao.last_plot"
   ]
  },
  {
   "cell_type": "code",
   "execution_count": null,
   "metadata": {
    "execution": {
     "iopub.execute_input": "2024-08-08T19:06:32.729740Z",
     "iopub.status.busy": "2024-08-08T19:06:32.729654Z",
     "iopub.status.idle": "2024-08-08T19:06:32.731812Z",
     "shell.execute_reply": "2024-08-08T19:06:32.731584Z"
    }
   },
   "outputs": [],
   "source": [
    "graphs[0].curves[0].line.xs[:10]"
   ]
  },
  {
   "cell_type": "markdown",
   "metadata": {},
   "source": [
    "## Advanced plotting settings\n",
    "\n",
    "`TaoGraphSettings` may be used to customize per-graph settings in single or gridded plots.\n",
    "\n",
    "Since each graph has its own settings, we specify a list of `TaoGraphSettings`.\n",
    "`TaoGraphSettings` includes customization of titles, legends, scales, per-axis settings (with `TaoAxisSettings`), and so on.  \n",
    "\n",
    "For example, to change the title of a plot, one could use:\n",
    "`TaoGraphSettings(title=\"something\")` - or equivalently a custom Tao command can be sent with `TaoGraphSettings(commands=[\"set graph {graph} title = something\"])`.\n",
    "\n",
    "See `TaoGraphSettings` documentation for further information on what may be customized. Not all settings will be supported by PyTao's plotting backends."
   ]
  },
  {
   "cell_type": "code",
   "execution_count": null,
   "metadata": {
    "execution": {
     "iopub.execute_input": "2024-08-08T19:06:32.733224Z",
     "iopub.status.busy": "2024-08-08T19:06:32.733146Z",
     "iopub.status.idle": "2024-08-08T19:06:34.634597Z",
     "shell.execute_reply": "2024-08-08T19:06:34.634279Z"
    }
   },
   "outputs": [],
   "source": [
    "from pytao.plotting import TaoGraphSettings, TaoAxisSettings\n",
    "\n",
    "# Let's use SubprocessTao to make an independent Tao instance in a subprocess.\n",
    "# Now we can use `tao` from above (`optics_matching`) and `erl` here simultaneously.\n",
    "erl = pytao.SubprocessTao(init_file=\"$ACC_ROOT_DIR/bmad-doc/tao_examples/erl/tao.init\", plot=\"mpl\")\n",
    "\n",
    "erl.plot(\n",
    "    \"alpha\",\n",
    "    settings=TaoGraphSettings(\n",
    "        title=\"My Custom Alpha Plot\",\n",
    "        component=\"model\",\n",
    "        draw_grid=False,\n",
    "        x=TaoAxisSettings(\n",
    "            label=\"Position - s [m]\",\n",
    "        ),\n",
    "    ),\n",
    ")"
   ]
  },
  {
   "cell_type": "markdown",
   "metadata": {},
   "source": [
    "## Advanced curve settings\n",
    "\n",
    "`TaoCurveSettings` may be used to customize per-curve settings in simple or gridded plots.\n",
    "\n",
    "The below example has 4 plots in a 2x2 grid.\n",
    "\n",
    "Since each plot has a set of curves, we must specify a dictionary for each plot.\n",
    "\n",
    "That dictionary contains a mapping of `curve_index` (starting with 1) to a `TaoCurveSettings` instance.\n",
    "\n",
    "See `TaoCurveSettings` for further information on what may be customized."
   ]
  },
  {
   "cell_type": "code",
   "execution_count": null,
   "metadata": {
    "execution": {
     "iopub.execute_input": "2024-08-08T19:06:34.636208Z",
     "iopub.status.busy": "2024-08-08T19:06:34.636093Z",
     "iopub.status.idle": "2024-08-08T19:06:35.015872Z",
     "shell.execute_reply": "2024-08-08T19:06:35.015613Z"
    }
   },
   "outputs": [],
   "source": [
    "from pytao.plotting import TaoCurveSettings\n",
    "\n",
    "erl.plot(\n",
    "    [\"zphase\", \"zphase\", \"zphase\", \"zphase2\"],\n",
    "    grid=(2, 2),\n",
    "    curves=[\n",
    "        {1: TaoCurveSettings(ele_ref_name=r\"linac.beg\\1\")},\n",
    "        {1: TaoCurveSettings(ele_ref_name=r\"linac.end\\1\")},\n",
    "        {1: TaoCurveSettings(ele_ref_name=r\"linac.beg\\2\")},\n",
    "        {1: TaoCurveSettings(ele_ref_name=r\"linac.end\\2\")},\n",
    "    ],\n",
    "    share_x=False,\n",
    "    include_layout=False,\n",
    "    figsize=(6, 6),\n",
    ")"
   ]
  }
 ],
 "metadata": {
  "kernelspec": {
   "display_name": "Python 3 (ipykernel)",
   "language": "python",
   "name": "python3"
  },
  "language_info": {
   "codemirror_mode": {
    "name": "ipython",
    "version": 3
   },
   "file_extension": ".py",
   "mimetype": "text/x-python",
   "name": "python",
   "nbconvert_exporter": "python",
   "pygments_lexer": "ipython3",
   "version": "3.12.0"
  },
  "vscode": {
   "interpreter": {
    "hash": "610c699f0cd8c4f129acd9140687fff6866bed0eb8e82f249fc8848b827b628c"
   }
  }
 },
 "nbformat": 4,
 "nbformat_minor": 4
}
