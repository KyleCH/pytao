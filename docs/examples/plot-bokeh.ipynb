{
 "cells": [
  {
   "cell_type": "markdown",
   "metadata": {},
   "source": [
    "# PyTao plotting with Bokeh"
   ]
  },
  {
   "cell_type": "markdown",
   "metadata": {},
   "source": [
    "PyTao supports plotting directly from the notebook, without a separate (X11) plot window.\n",
    "\n",
    "PyTao provides two backends:\n",
    "* Bokeh (with interactive plotting support)\n",
    "* Matplotlib \n",
    "\n",
    "When plotting is enabled, PyTao will automatically select the best available backend.\n",
    "\n",
    "\n",
    "The plotting backend may be specified explicitly, as we will do in this notebook in order to show off\n",
    "this backend's functionality."
   ]
  },
  {
   "cell_type": "markdown",
   "metadata": {},
   "source": [
    "---\n",
    "## Tao setup"
   ]
  },
  {
   "cell_type": "code",
   "execution_count": 1,
   "metadata": {},
   "outputs": [],
   "source": [
    "from pytao import SubprocessTao, Tao"
   ]
  },
  {
   "cell_type": "code",
   "execution_count": 2,
   "metadata": {},
   "outputs": [],
   "source": [
    "init_file = \"$ACC_ROOT_DIR/bmad-doc/tao_examples/optics_matching/tao.init\"\n",
    "\n",
    "tao = Tao(init_file=init_file, plot=\"bokeh\")"
   ]
  },
  {
   "cell_type": "markdown",
   "metadata": {},
   "source": [
    "## The floor plan"
   ]
  },
  {
   "cell_type": "code",
   "execution_count": 3,
   "metadata": {},
   "outputs": [
    {
     "data": {
      "text/html": [
       "<!-- Detected Jupyter. -->"
      ],
      "text/plain": []
     },
     "metadata": {},
     "output_type": "display_data"
    },
    {
     "data": {
      "text/html": [
       "    <style>\n",
       "        .bk-notebook-logo {\n",
       "            display: block;\n",
       "            width: 20px;\n",
       "            height: 20px;\n",
       "            background-image: url(data:image/png;base64,iVBORw0KGgoAAAANSUhEUgAAABQAAAAUCAYAAACNiR0NAAAABHNCSVQICAgIfAhkiAAAAAlwSFlzAAALEgAACxIB0t1+/AAAABx0RVh0U29mdHdhcmUAQWRvYmUgRmlyZXdvcmtzIENTNui8sowAAAOkSURBVDiNjZRtaJVlGMd/1/08zzln5zjP1LWcU9N0NkN8m2CYjpgQYQXqSs0I84OLIC0hkEKoPtiH3gmKoiJDU7QpLgoLjLIQCpEsNJ1vqUOdO7ppbuec5+V+rj4ctwzd8IIbbi6u+8f1539dt3A78eXC7QizUF7gyV1fD1Yqg4JWz84yffhm0qkFqBogB9rM8tZdtwVsPUhWhGcFJngGeWrPzHm5oaMmkfEg1usvLFyc8jLRqDOMru7AyC8saQr7GG7f5fvDeH7Ej8CM66nIF+8yngt6HWaKh7k49Soy9nXurCi1o3qUbS3zWfrYeQDTB/Qj6kX6Ybhw4B+bOYoLKCC9H3Nu/leUTZ1JdRWkkn2ldcCamzrcf47KKXdAJllSlxAOkRgyHsGC/zRday5Qld9DyoM4/q/rUoy/CXh3jzOu3bHUVZeU+DEn8FInkPBFlu3+nW3Nw0mk6vCDiWg8CeJaxEwuHS3+z5RgY+YBR6V1Z1nxSOfoaPa4LASWxxdNp+VWTk7+4vzaou8v8PN+xo+KY2xsw6une2frhw05CTYOmQvsEhjhWjn0bmXPjpE1+kplmmkP3suftwTubK9Vq22qKmrBhpY4jvd5afdRA3wGjFAgcnTK2s4hY0/GPNIb0nErGMCRxWOOX64Z8RAC4oCXdklmEvcL8o0BfkNK4lUg9HTl+oPlQxdNo3Mg4Nv175e/1LDGzZen30MEjRUtmXSfiTVu1kK8W4txyV6BMKlbgk3lMwYCiusNy9fVfvvwMxv8Ynl6vxoByANLTWplvuj/nF9m2+PDtt1eiHPBr1oIfhCChQMBw6Aw0UulqTKZdfVvfG7VcfIqLG9bcldL/+pdWTLxLUy8Qq38heUIjh4XlzZxzQm19lLFlr8vdQ97rjZVOLf8nclzckbcD4wxXMidpX30sFd37Fv/GtwwhzhxGVAprjbg0gCAEeIgwCZyTV2Z1REEW8O4py0wsjeloKoMr6iCY6dP92H6Vw/oTyICIthibxjm/DfN9lVz8IqtqKYLUXfoKVMVQVVJOElGjrnnUt9T9wbgp8AyYKaGlqingHZU/uG2NTZSVqwHQTWkx9hxjkpWDaCg6Ckj5qebgBVbT3V3NNXMSiWSDdGV3hrtzla7J+duwPOToIg42ChPQOQjspnSlp1V+Gjdged7+8UN5CRAV7a5EdFNwCjEaBR27b3W890TE7g24NAP/mMDXRWrGoFPQI9ls/MWO2dWFAar/xcOIImbbpA3zgAAAABJRU5ErkJggg==);\n",
       "        }\n",
       "    </style>\n",
       "    <div>\n",
       "        <a href=\"https://bokeh.org\" target=\"_blank\" class=\"bk-notebook-logo\"></a>\n",
       "        <span id=\"edca3b17-63b6-48fe-bd45-d693d731da82\">Loading BokehJS ...</span>\n",
       "    </div>\n"
      ]
     },
     "metadata": {},
     "output_type": "display_data"
    },
    {
     "data": {
      "application/javascript": [
       "'use strict';\n",
       "(function(root) {\n",
       "  function now() {\n",
       "    return new Date();\n",
       "  }\n",
       "\n",
       "  const force = true;\n",
       "\n",
       "  if (typeof root._bokeh_onload_callbacks === \"undefined\" || force === true) {\n",
       "    root._bokeh_onload_callbacks = [];\n",
       "    root._bokeh_is_loading = undefined;\n",
       "  }\n",
       "\n",
       "const JS_MIME_TYPE = 'application/javascript';\n",
       "  const HTML_MIME_TYPE = 'text/html';\n",
       "  const EXEC_MIME_TYPE = 'application/vnd.bokehjs_exec.v0+json';\n",
       "  const CLASS_NAME = 'output_bokeh rendered_html';\n",
       "\n",
       "  /**\n",
       "   * Render data to the DOM node\n",
       "   */\n",
       "  function render(props, node) {\n",
       "    const script = document.createElement(\"script\");\n",
       "    node.appendChild(script);\n",
       "  }\n",
       "\n",
       "  /**\n",
       "   * Handle when an output is cleared or removed\n",
       "   */\n",
       "  function handleClearOutput(event, handle) {\n",
       "    function drop(id) {\n",
       "      const view = Bokeh.index.get_by_id(id)\n",
       "      if (view != null) {\n",
       "        view.model.document.clear()\n",
       "        Bokeh.index.delete(view)\n",
       "      }\n",
       "    }\n",
       "\n",
       "    const cell = handle.cell;\n",
       "\n",
       "    const id = cell.output_area._bokeh_element_id;\n",
       "    const server_id = cell.output_area._bokeh_server_id;\n",
       "\n",
       "    // Clean up Bokeh references\n",
       "    if (id != null) {\n",
       "      drop(id)\n",
       "    }\n",
       "\n",
       "    if (server_id !== undefined) {\n",
       "      // Clean up Bokeh references\n",
       "      const cmd_clean = \"from bokeh.io.state import curstate; print(curstate().uuid_to_server['\" + server_id + \"'].get_sessions()[0].document.roots[0]._id)\";\n",
       "      cell.notebook.kernel.execute(cmd_clean, {\n",
       "        iopub: {\n",
       "          output: function(msg) {\n",
       "            const id = msg.content.text.trim()\n",
       "            drop(id)\n",
       "          }\n",
       "        }\n",
       "      });\n",
       "      // Destroy server and session\n",
       "      const cmd_destroy = \"import bokeh.io.notebook as ion; ion.destroy_server('\" + server_id + \"')\";\n",
       "      cell.notebook.kernel.execute(cmd_destroy);\n",
       "    }\n",
       "  }\n",
       "\n",
       "  /**\n",
       "   * Handle when a new output is added\n",
       "   */\n",
       "  function handleAddOutput(event, handle) {\n",
       "    const output_area = handle.output_area;\n",
       "    const output = handle.output;\n",
       "\n",
       "    // limit handleAddOutput to display_data with EXEC_MIME_TYPE content only\n",
       "    if ((output.output_type != \"display_data\") || (!Object.prototype.hasOwnProperty.call(output.data, EXEC_MIME_TYPE))) {\n",
       "      return\n",
       "    }\n",
       "\n",
       "    const toinsert = output_area.element.find(\".\" + CLASS_NAME.split(' ')[0]);\n",
       "\n",
       "    if (output.metadata[EXEC_MIME_TYPE][\"id\"] !== undefined) {\n",
       "      toinsert[toinsert.length - 1].firstChild.textContent = output.data[JS_MIME_TYPE];\n",
       "      // store reference to embed id on output_area\n",
       "      output_area._bokeh_element_id = output.metadata[EXEC_MIME_TYPE][\"id\"];\n",
       "    }\n",
       "    if (output.metadata[EXEC_MIME_TYPE][\"server_id\"] !== undefined) {\n",
       "      const bk_div = document.createElement(\"div\");\n",
       "      bk_div.innerHTML = output.data[HTML_MIME_TYPE];\n",
       "      const script_attrs = bk_div.children[0].attributes;\n",
       "      for (let i = 0; i < script_attrs.length; i++) {\n",
       "        toinsert[toinsert.length - 1].firstChild.setAttribute(script_attrs[i].name, script_attrs[i].value);\n",
       "        toinsert[toinsert.length - 1].firstChild.textContent = bk_div.children[0].textContent\n",
       "      }\n",
       "      // store reference to server id on output_area\n",
       "      output_area._bokeh_server_id = output.metadata[EXEC_MIME_TYPE][\"server_id\"];\n",
       "    }\n",
       "  }\n",
       "\n",
       "  function register_renderer(events, OutputArea) {\n",
       "\n",
       "    function append_mime(data, metadata, element) {\n",
       "      // create a DOM node to render to\n",
       "      const toinsert = this.create_output_subarea(\n",
       "        metadata,\n",
       "        CLASS_NAME,\n",
       "        EXEC_MIME_TYPE\n",
       "      );\n",
       "      this.keyboard_manager.register_events(toinsert);\n",
       "      // Render to node\n",
       "      const props = {data: data, metadata: metadata[EXEC_MIME_TYPE]};\n",
       "      render(props, toinsert[toinsert.length - 1]);\n",
       "      element.append(toinsert);\n",
       "      return toinsert\n",
       "    }\n",
       "\n",
       "    /* Handle when an output is cleared or removed */\n",
       "    events.on('clear_output.CodeCell', handleClearOutput);\n",
       "    events.on('delete.Cell', handleClearOutput);\n",
       "\n",
       "    /* Handle when a new output is added */\n",
       "    events.on('output_added.OutputArea', handleAddOutput);\n",
       "\n",
       "    /**\n",
       "     * Register the mime type and append_mime function with output_area\n",
       "     */\n",
       "    OutputArea.prototype.register_mime_type(EXEC_MIME_TYPE, append_mime, {\n",
       "      /* Is output safe? */\n",
       "      safe: true,\n",
       "      /* Index of renderer in `output_area.display_order` */\n",
       "      index: 0\n",
       "    });\n",
       "  }\n",
       "\n",
       "  // register the mime type if in Jupyter Notebook environment and previously unregistered\n",
       "  if (root.Jupyter !== undefined) {\n",
       "    const events = require('base/js/events');\n",
       "    const OutputArea = require('notebook/js/outputarea').OutputArea;\n",
       "\n",
       "    if (OutputArea.prototype.mime_types().indexOf(EXEC_MIME_TYPE) == -1) {\n",
       "      register_renderer(events, OutputArea);\n",
       "    }\n",
       "  }\n",
       "  if (typeof (root._bokeh_timeout) === \"undefined\" || force === true) {\n",
       "    root._bokeh_timeout = Date.now() + 5000;\n",
       "    root._bokeh_failed_load = false;\n",
       "  }\n",
       "\n",
       "  const NB_LOAD_WARNING = {'data': {'text/html':\n",
       "     \"<div style='background-color: #fdd'>\\n\"+\n",
       "     \"<p>\\n\"+\n",
       "     \"BokehJS does not appear to have successfully loaded. If loading BokehJS from CDN, this \\n\"+\n",
       "     \"may be due to a slow or bad network connection. Possible fixes:\\n\"+\n",
       "     \"</p>\\n\"+\n",
       "     \"<ul>\\n\"+\n",
       "     \"<li>re-rerun `output_notebook()` to attempt to load from CDN again, or</li>\\n\"+\n",
       "     \"<li>use INLINE resources instead, as so:</li>\\n\"+\n",
       "     \"</ul>\\n\"+\n",
       "     \"<code>\\n\"+\n",
       "     \"from bokeh.resources import INLINE\\n\"+\n",
       "     \"output_notebook(resources=INLINE)\\n\"+\n",
       "     \"</code>\\n\"+\n",
       "     \"</div>\"}};\n",
       "\n",
       "  function display_loaded(error = null) {\n",
       "    const el = document.getElementById(\"edca3b17-63b6-48fe-bd45-d693d731da82\");\n",
       "    if (el != null) {\n",
       "      const html = (() => {\n",
       "        if (typeof root.Bokeh === \"undefined\") {\n",
       "          if (error == null) {\n",
       "            return \"BokehJS is loading ...\";\n",
       "          } else {\n",
       "            return \"BokehJS failed to load.\";\n",
       "          }\n",
       "        } else {\n",
       "          const prefix = `BokehJS ${root.Bokeh.version}`;\n",
       "          if (error == null) {\n",
       "            return `${prefix} successfully loaded.`;\n",
       "          } else {\n",
       "            return `${prefix} <b>encountered errors</b> while loading and may not function as expected.`;\n",
       "          }\n",
       "        }\n",
       "      })();\n",
       "      el.innerHTML = html;\n",
       "\n",
       "      if (error != null) {\n",
       "        const wrapper = document.createElement(\"div\");\n",
       "        wrapper.style.overflow = \"auto\";\n",
       "        wrapper.style.height = \"5em\";\n",
       "        wrapper.style.resize = \"vertical\";\n",
       "        const content = document.createElement(\"div\");\n",
       "        content.style.fontFamily = \"monospace\";\n",
       "        content.style.whiteSpace = \"pre-wrap\";\n",
       "        content.style.backgroundColor = \"rgb(255, 221, 221)\";\n",
       "        content.textContent = error.stack ?? error.toString();\n",
       "        wrapper.append(content);\n",
       "        el.append(wrapper);\n",
       "      }\n",
       "    } else if (Date.now() < root._bokeh_timeout) {\n",
       "      setTimeout(() => display_loaded(error), 100);\n",
       "    }\n",
       "  }\n",
       "\n",
       "  function run_callbacks() {\n",
       "    try {\n",
       "      root._bokeh_onload_callbacks.forEach(function(callback) {\n",
       "        if (callback != null)\n",
       "          callback();\n",
       "      });\n",
       "    } finally {\n",
       "      delete root._bokeh_onload_callbacks\n",
       "    }\n",
       "    console.debug(\"Bokeh: all callbacks have finished\");\n",
       "  }\n",
       "\n",
       "  function load_libs(css_urls, js_urls, callback) {\n",
       "    if (css_urls == null) css_urls = [];\n",
       "    if (js_urls == null) js_urls = [];\n",
       "\n",
       "    root._bokeh_onload_callbacks.push(callback);\n",
       "    if (root._bokeh_is_loading > 0) {\n",
       "      console.debug(\"Bokeh: BokehJS is being loaded, scheduling callback at\", now());\n",
       "      return null;\n",
       "    }\n",
       "    if (js_urls == null || js_urls.length === 0) {\n",
       "      run_callbacks();\n",
       "      return null;\n",
       "    }\n",
       "    console.debug(\"Bokeh: BokehJS not loaded, scheduling load and callback at\", now());\n",
       "    root._bokeh_is_loading = css_urls.length + js_urls.length;\n",
       "\n",
       "    function on_load() {\n",
       "      root._bokeh_is_loading--;\n",
       "      if (root._bokeh_is_loading === 0) {\n",
       "        console.debug(\"Bokeh: all BokehJS libraries/stylesheets loaded\");\n",
       "        run_callbacks()\n",
       "      }\n",
       "    }\n",
       "\n",
       "    function on_error(url) {\n",
       "      console.error(\"failed to load \" + url);\n",
       "    }\n",
       "\n",
       "    for (let i = 0; i < css_urls.length; i++) {\n",
       "      const url = css_urls[i];\n",
       "      const element = document.createElement(\"link\");\n",
       "      element.onload = on_load;\n",
       "      element.onerror = on_error.bind(null, url);\n",
       "      element.rel = \"stylesheet\";\n",
       "      element.type = \"text/css\";\n",
       "      element.href = url;\n",
       "      console.debug(\"Bokeh: injecting link tag for BokehJS stylesheet: \", url);\n",
       "      document.body.appendChild(element);\n",
       "    }\n",
       "\n",
       "    for (let i = 0; i < js_urls.length; i++) {\n",
       "      const url = js_urls[i];\n",
       "      const element = document.createElement('script');\n",
       "      element.onload = on_load;\n",
       "      element.onerror = on_error.bind(null, url);\n",
       "      element.async = false;\n",
       "      element.src = url;\n",
       "      console.debug(\"Bokeh: injecting script tag for BokehJS library: \", url);\n",
       "      document.head.appendChild(element);\n",
       "    }\n",
       "  };\n",
       "\n",
       "  function inject_raw_css(css) {\n",
       "    const element = document.createElement(\"style\");\n",
       "    element.appendChild(document.createTextNode(css));\n",
       "    document.body.appendChild(element);\n",
       "  }\n",
       "\n",
       "  const js_urls = [\"https://cdn.bokeh.org/bokeh/release/bokeh-3.4.2.min.js\", \"https://cdn.bokeh.org/bokeh/release/bokeh-gl-3.4.2.min.js\", \"https://cdn.bokeh.org/bokeh/release/bokeh-widgets-3.4.2.min.js\", \"https://cdn.bokeh.org/bokeh/release/bokeh-tables-3.4.2.min.js\", \"https://cdn.bokeh.org/bokeh/release/bokeh-mathjax-3.4.2.min.js\"];\n",
       "  const css_urls = [];\n",
       "\n",
       "  const inline_js = [    function(Bokeh) {\n",
       "      Bokeh.set_log_level(\"info\");\n",
       "    },\n",
       "function(Bokeh) {\n",
       "    }\n",
       "  ];\n",
       "\n",
       "  function run_inline_js() {\n",
       "    if (root.Bokeh !== undefined || force === true) {\n",
       "      try {\n",
       "            for (let i = 0; i < inline_js.length; i++) {\n",
       "      inline_js[i].call(root, root.Bokeh);\n",
       "    }\n",
       "\n",
       "      } catch (error) {display_loaded(error);throw error;\n",
       "      }if (force === true) {\n",
       "        display_loaded();\n",
       "      }} else if (Date.now() < root._bokeh_timeout) {\n",
       "      setTimeout(run_inline_js, 100);\n",
       "    } else if (!root._bokeh_failed_load) {\n",
       "      console.log(\"Bokeh: BokehJS failed to load within specified timeout.\");\n",
       "      root._bokeh_failed_load = true;\n",
       "    } else if (force !== true) {\n",
       "      const cell = $(document.getElementById(\"edca3b17-63b6-48fe-bd45-d693d731da82\")).parents('.cell').data().cell;\n",
       "      cell.output_area.append_execute_result(NB_LOAD_WARNING)\n",
       "    }\n",
       "  }\n",
       "\n",
       "  if (root._bokeh_is_loading === 0) {\n",
       "    console.debug(\"Bokeh: BokehJS loaded, going straight to plotting\");\n",
       "    run_inline_js();\n",
       "  } else {\n",
       "    load_libs(css_urls, js_urls, function() {\n",
       "      console.debug(\"Bokeh: BokehJS plotting callback run at\", now());\n",
       "      run_inline_js();\n",
       "    });\n",
       "  }\n",
       "}(window));"
      ],
      "application/vnd.bokehjs_load.v0+json": "'use strict';\n(function(root) {\n  function now() {\n    return new Date();\n  }\n\n  const force = true;\n\n  if (typeof root._bokeh_onload_callbacks === \"undefined\" || force === true) {\n    root._bokeh_onload_callbacks = [];\n    root._bokeh_is_loading = undefined;\n  }\n\n\n  if (typeof (root._bokeh_timeout) === \"undefined\" || force === true) {\n    root._bokeh_timeout = Date.now() + 5000;\n    root._bokeh_failed_load = false;\n  }\n\n  const NB_LOAD_WARNING = {'data': {'text/html':\n     \"<div style='background-color: #fdd'>\\n\"+\n     \"<p>\\n\"+\n     \"BokehJS does not appear to have successfully loaded. If loading BokehJS from CDN, this \\n\"+\n     \"may be due to a slow or bad network connection. Possible fixes:\\n\"+\n     \"</p>\\n\"+\n     \"<ul>\\n\"+\n     \"<li>re-rerun `output_notebook()` to attempt to load from CDN again, or</li>\\n\"+\n     \"<li>use INLINE resources instead, as so:</li>\\n\"+\n     \"</ul>\\n\"+\n     \"<code>\\n\"+\n     \"from bokeh.resources import INLINE\\n\"+\n     \"output_notebook(resources=INLINE)\\n\"+\n     \"</code>\\n\"+\n     \"</div>\"}};\n\n  function display_loaded(error = null) {\n    const el = document.getElementById(\"edca3b17-63b6-48fe-bd45-d693d731da82\");\n    if (el != null) {\n      const html = (() => {\n        if (typeof root.Bokeh === \"undefined\") {\n          if (error == null) {\n            return \"BokehJS is loading ...\";\n          } else {\n            return \"BokehJS failed to load.\";\n          }\n        } else {\n          const prefix = `BokehJS ${root.Bokeh.version}`;\n          if (error == null) {\n            return `${prefix} successfully loaded.`;\n          } else {\n            return `${prefix} <b>encountered errors</b> while loading and may not function as expected.`;\n          }\n        }\n      })();\n      el.innerHTML = html;\n\n      if (error != null) {\n        const wrapper = document.createElement(\"div\");\n        wrapper.style.overflow = \"auto\";\n        wrapper.style.height = \"5em\";\n        wrapper.style.resize = \"vertical\";\n        const content = document.createElement(\"div\");\n        content.style.fontFamily = \"monospace\";\n        content.style.whiteSpace = \"pre-wrap\";\n        content.style.backgroundColor = \"rgb(255, 221, 221)\";\n        content.textContent = error.stack ?? error.toString();\n        wrapper.append(content);\n        el.append(wrapper);\n      }\n    } else if (Date.now() < root._bokeh_timeout) {\n      setTimeout(() => display_loaded(error), 100);\n    }\n  }\n\n  function run_callbacks() {\n    try {\n      root._bokeh_onload_callbacks.forEach(function(callback) {\n        if (callback != null)\n          callback();\n      });\n    } finally {\n      delete root._bokeh_onload_callbacks\n    }\n    console.debug(\"Bokeh: all callbacks have finished\");\n  }\n\n  function load_libs(css_urls, js_urls, callback) {\n    if (css_urls == null) css_urls = [];\n    if (js_urls == null) js_urls = [];\n\n    root._bokeh_onload_callbacks.push(callback);\n    if (root._bokeh_is_loading > 0) {\n      console.debug(\"Bokeh: BokehJS is being loaded, scheduling callback at\", now());\n      return null;\n    }\n    if (js_urls == null || js_urls.length === 0) {\n      run_callbacks();\n      return null;\n    }\n    console.debug(\"Bokeh: BokehJS not loaded, scheduling load and callback at\", now());\n    root._bokeh_is_loading = css_urls.length + js_urls.length;\n\n    function on_load() {\n      root._bokeh_is_loading--;\n      if (root._bokeh_is_loading === 0) {\n        console.debug(\"Bokeh: all BokehJS libraries/stylesheets loaded\");\n        run_callbacks()\n      }\n    }\n\n    function on_error(url) {\n      console.error(\"failed to load \" + url);\n    }\n\n    for (let i = 0; i < css_urls.length; i++) {\n      const url = css_urls[i];\n      const element = document.createElement(\"link\");\n      element.onload = on_load;\n      element.onerror = on_error.bind(null, url);\n      element.rel = \"stylesheet\";\n      element.type = \"text/css\";\n      element.href = url;\n      console.debug(\"Bokeh: injecting link tag for BokehJS stylesheet: \", url);\n      document.body.appendChild(element);\n    }\n\n    for (let i = 0; i < js_urls.length; i++) {\n      const url = js_urls[i];\n      const element = document.createElement('script');\n      element.onload = on_load;\n      element.onerror = on_error.bind(null, url);\n      element.async = false;\n      element.src = url;\n      console.debug(\"Bokeh: injecting script tag for BokehJS library: \", url);\n      document.head.appendChild(element);\n    }\n  };\n\n  function inject_raw_css(css) {\n    const element = document.createElement(\"style\");\n    element.appendChild(document.createTextNode(css));\n    document.body.appendChild(element);\n  }\n\n  const js_urls = [\"https://cdn.bokeh.org/bokeh/release/bokeh-3.4.2.min.js\", \"https://cdn.bokeh.org/bokeh/release/bokeh-gl-3.4.2.min.js\", \"https://cdn.bokeh.org/bokeh/release/bokeh-widgets-3.4.2.min.js\", \"https://cdn.bokeh.org/bokeh/release/bokeh-tables-3.4.2.min.js\", \"https://cdn.bokeh.org/bokeh/release/bokeh-mathjax-3.4.2.min.js\"];\n  const css_urls = [];\n\n  const inline_js = [    function(Bokeh) {\n      Bokeh.set_log_level(\"info\");\n    },\nfunction(Bokeh) {\n    }\n  ];\n\n  function run_inline_js() {\n    if (root.Bokeh !== undefined || force === true) {\n      try {\n            for (let i = 0; i < inline_js.length; i++) {\n      inline_js[i].call(root, root.Bokeh);\n    }\n\n      } catch (error) {display_loaded(error);throw error;\n      }if (force === true) {\n        display_loaded();\n      }} else if (Date.now() < root._bokeh_timeout) {\n      setTimeout(run_inline_js, 100);\n    } else if (!root._bokeh_failed_load) {\n      console.log(\"Bokeh: BokehJS failed to load within specified timeout.\");\n      root._bokeh_failed_load = true;\n    } else if (force !== true) {\n      const cell = $(document.getElementById(\"edca3b17-63b6-48fe-bd45-d693d731da82\")).parents('.cell').data().cell;\n      cell.output_area.append_execute_result(NB_LOAD_WARNING)\n    }\n  }\n\n  if (root._bokeh_is_loading === 0) {\n    console.debug(\"Bokeh: BokehJS loaded, going straight to plotting\");\n    run_inline_js();\n  } else {\n    load_libs(css_urls, js_urls, function() {\n      console.debug(\"Bokeh: BokehJS plotting callback run at\", now());\n      run_inline_js();\n    });\n  }\n}(window));"
     },
     "metadata": {},
     "output_type": "display_data"
    },
    {
     "data": {
      "application/vnd.bokehjs_exec.v0+json": "",
      "text/html": [
       "<script id=\"b97c0c1a-e35f-4078-bd09-4f725cb34f52\">\n",
       "  (function() {\n",
       "    const xhr = new XMLHttpRequest()\n",
       "    xhr.responseType = 'blob';\n",
       "    xhr.open('GET', \"http://localhost:62336/autoload.js?bokeh-autoload-element=b97c0c1a-e35f-4078-bd09-4f725cb34f52&bokeh-absolute-url=http://localhost:62336&resources=none\", true);\n",
       "    xhr.onload = function (event) {\n",
       "      const script = document.createElement('script');\n",
       "      const src = URL.createObjectURL(event.target.response);\n",
       "      script.src = src;\n",
       "      document.body.appendChild(script);\n",
       "    };\n",
       "    xhr.send();\n",
       "  })();\n",
       "</script>"
      ]
     },
     "metadata": {
      "application/vnd.bokehjs_exec.v0+json": {
       "server_id": "48f72eec23124060829303ac6cd45837"
      }
     },
     "output_type": "display_data"
    }
   ],
   "source": [
    "tao.plot(\"floor_plan\")"
   ]
  },
  {
   "cell_type": "markdown",
   "metadata": {},
   "source": [
    "## Single data plots"
   ]
  },
  {
   "cell_type": "code",
   "execution_count": 4,
   "metadata": {},
   "outputs": [
    {
     "data": {
      "application/vnd.bokehjs_exec.v0+json": "",
      "text/html": [
       "<script id=\"c379d4d1-57e9-4bf6-ab65-761528bbebaa\">\n",
       "  (function() {\n",
       "    const xhr = new XMLHttpRequest()\n",
       "    xhr.responseType = 'blob';\n",
       "    xhr.open('GET', \"http://localhost:62338/autoload.js?bokeh-autoload-element=c379d4d1-57e9-4bf6-ab65-761528bbebaa&bokeh-absolute-url=http://localhost:62338&resources=none\", true);\n",
       "    xhr.onload = function (event) {\n",
       "      const script = document.createElement('script');\n",
       "      const src = URL.createObjectURL(event.target.response);\n",
       "      script.src = src;\n",
       "      document.body.appendChild(script);\n",
       "    };\n",
       "    xhr.send();\n",
       "  })();\n",
       "</script>"
      ]
     },
     "metadata": {
      "application/vnd.bokehjs_exec.v0+json": {
       "server_id": "ba32ae60eac64cf9b04e02d45f533d11"
      }
     },
     "output_type": "display_data"
    }
   ],
   "source": [
    "tao.plot(\"dispersion\", include_layout=True, width=400, height=400)"
   ]
  },
  {
   "cell_type": "markdown",
   "metadata": {},
   "source": [
    "## Plot fields"
   ]
  },
  {
   "cell_type": "code",
   "execution_count": 5,
   "metadata": {},
   "outputs": [
    {
     "data": {
      "text/html": [
       "\n",
       "  <div id=\"feba52e8-5313-4241-a9e0-fc1bd5afce00\" data-root-id=\"p1869\" style=\"display: contents;\"></div>\n"
      ]
     },
     "metadata": {},
     "output_type": "display_data"
    },
    {
     "data": {
      "application/javascript": [
       "(function(root) {\n",
       "  function embed_document(root) {\n",
       "  const docs_json = {\"78b81bba-3ed8-462e-b055-ede26fed9c40\":{\"version\":\"3.4.2\",\"title\":\"Bokeh Application\",\"roots\":[{\"type\":\"object\",\"name\":\"Figure\",\"id\":\"p1869\",\"attributes\":{\"height\":400,\"x_range\":{\"type\":\"object\",\"name\":\"DataRange1d\",\"id\":\"p1870\"},\"y_range\":{\"type\":\"object\",\"name\":\"DataRange1d\",\"id\":\"p1871\"},\"x_scale\":{\"type\":\"object\",\"name\":\"LinearScale\",\"id\":\"p1879\"},\"y_scale\":{\"type\":\"object\",\"name\":\"LinearScale\",\"id\":\"p1880\"},\"title\":{\"type\":\"object\",\"name\":\"Title\",\"id\":\"p1872\",\"attributes\":{\"text\":\"Field of Q1\"}},\"renderers\":[{\"type\":\"object\",\"name\":\"GlyphRenderer\",\"id\":\"p1915\",\"attributes\":{\"name\":\"field_images\",\"data_source\":{\"type\":\"object\",\"name\":\"ColumnDataSource\",\"id\":\"p1902\",\"attributes\":{\"selected\":{\"type\":\"object\",\"name\":\"Selection\",\"id\":\"p1903\",\"attributes\":{\"indices\":[],\"line_indices\":[]}},\"selection_policy\":{\"type\":\"object\",\"name\":\"UnionRenderers\",\"id\":\"p1904\"},\"data\":{\"type\":\"map\",\"entries\":[[\"ele_id\",[\"Q1\"]],[\"by\",[{\"type\":\"ndarray\",\"array\":{\"type\":\"bytes\",\"data\":\"Sp6Wvqd3ZD9Knpa+p3dkP0qelr6nd2Q/Sp6Wvqd3ZD9Knpa+p3dkP0qelr6nd2Q/Sp6Wvqd3ZD9Knpa+p3dkP0qelr6nd2Q/Sp6Wvqd3ZD9Knpa+p3dkP0qelr6nd2Q/Sp6Wvqd3ZD9Knpa+p3dkP0qelr6nd2Q/Sp6Wvqd3ZD9Knpa+p3dkP0qelr6nd2Q/Sp6Wvqd3ZD9Knpa+p3dkP0qelr6nd2Q/Sp6Wvqd3ZD9Knpa+p3dkP0qelr6nd2Q/Sp6Wvqd3ZD9Knpa+p3dkP0qelr6nd2Q/Sp6Wvqd3ZD9Knpa+p3dkP0qelr6nd2Q/Sp6Wvqd3ZD9Knpa+p3dkP0qelr6nd2Q/Sp6Wvqd3ZD9Knpa+p3dkP0qelr6nd2Q/Sp6Wvqd3ZD9Knpa+p3dkP0qelr6nd2Q/Sp6Wvqd3ZD9Knpa+p3dkP0qelr6nd2Q/Sp6Wvqd3ZD9Knpa+p3dkP0qelr6nd2Q/Sp6Wvqd3ZD9Knpa+p3dkP0qelr6nd2Q/Sp6Wvqd3ZD9Knpa+p3dkP0qelr6nd2Q/Sp6Wvqd3ZD9Knpa+p3dkP0qelr6nd2Q/Sp6Wvqd3ZD9Knpa+p3dkP0qelr6nd2Q/Sp6Wvqd3ZD9Knpa+p3dkP0qelr6nd2Q/Sp6Wvqd3ZD9Knpa+p3dkP0qelr6nd2Q/Sp6Wvqd3ZD9Knpa+p3dkP0qelr6nd2Q/Sp6Wvqd3ZD9Knpa+p3dkP0qelr6nd2Q/Sp6Wvqd3ZD9Knpa+p3dkP0qelr6nd2Q/Sp6Wvqd3ZD9Knpa+p3dkP0qelr6nd2Q/Sp6Wvqd3ZD9Knpa+p3dkP0qelr6nd2Q/Sp6Wvqd3ZD9Knpa+p3dkP0qelr6nd2Q/Sp6Wvqd3ZD9Knpa+p3dkP0qelr6nd2Q/Sp6Wvqd3ZD9Knpa+p3dkP0qelr6nd2Q/Sp6Wvqd3ZD9Knpa+p3dkP0qelr6nd2Q/Sp6Wvqd3ZD9Knpa+p3dkP0qelr6nd2Q/Sp6Wvqd3ZD9Knpa+p3dkP0qelr6nd2Q/Sp6Wvqd3ZD9Knpa+p3dkP0qelr6nd2Q/Sp6Wvqd3ZD8C87y6zQ1kPwLzvLrNDWQ/AvO8us0NZD8C87y6zQ1kPwLzvLrNDWQ/AvO8us0NZD8C87y6zQ1kPwLzvLrNDWQ/AvO8us0NZD8C87y6zQ1kPwLzvLrNDWQ/AvO8us0NZD8C87y6zQ1kPwLzvLrNDWQ/AvO8us0NZD8C87y6zQ1kPwLzvLrNDWQ/AvO8us0NZD8C87y6zQ1kPwLzvLrNDWQ/AvO8us0NZD8C87y6zQ1kPwLzvLrNDWQ/AvO8us0NZD8C87y6zQ1kPwLzvLrNDWQ/AvO8us0NZD8C87y6zQ1kPwLzvLrNDWQ/AvO8us0NZD8C87y6zQ1kPwLzvLrNDWQ/AvO8us0NZD8C87y6zQ1kPwLzvLrNDWQ/AvO8us0NZD8C87y6zQ1kPwLzvLrNDWQ/AvO8us0NZD8C87y6zQ1kPwLzvLrNDWQ/AvO8us0NZD8C87y6zQ1kPwLzvLrNDWQ/AvO8us0NZD8C87y6zQ1kPwLzvLrNDWQ/AvO8us0NZD8C87y6zQ1kPwLzvLrNDWQ/AvO8us0NZD8C87y6zQ1kPwLzvLrNDWQ/AvO8us0NZD8C87y6zQ1kPwLzvLrNDWQ/AvO8us0NZD8C87y6zQ1kPwLzvLrNDWQ/AvO8us0NZD8C87y6zQ1kPwLzvLrNDWQ/AvO8us0NZD8C87y6zQ1kPwLzvLrNDWQ/AvO8us0NZD8C87y6zQ1kPwLzvLrNDWQ/AvO8us0NZD8C87y6zQ1kPwLzvLrNDWQ/AvO8us0NZD8C87y6zQ1kPwLzvLrNDWQ/AvO8us0NZD8C87y6zQ1kPwLzvLrNDWQ/AvO8us0NZD8C87y6zQ1kPwLzvLrNDWQ/AvO8us0NZD8C87y6zQ1kPwLzvLrNDWQ/AvO8us0NZD8C87y6zQ1kPwLzvLrNDWQ/AvO8us0NZD8C87y6zQ1kPwLzvLrNDWQ/AvO8us0NZD8C87y6zQ1kPwLzvLrNDWQ/AvO8us0NZD8C87y6zQ1kPwLzvLrNDWQ/AvO8us0NZD8C87y6zQ1kPwLzvLrNDWQ/AvO8us0NZD8C87y6zQ1kP7tH47bzo2M/u0fjtvOjYz+7R+O286NjP7tH47bzo2M/u0fjtvOjYz+7R+O286NjP7tH47bzo2M/u0fjtvOjYz+7R+O286NjP7tH47bzo2M/u0fjtvOjYz+7R+O286NjP7tH47bzo2M/u0fjtvOjYz+7R+O286NjP7tH47bzo2M/u0fjtvOjYz+7R+O286NjP7tH47bzo2M/u0fjtvOjYz+7R+O286NjP7tH47bzo2M/u0fjtvOjYz+7R+O286NjP7tH47bzo2M/u0fjtvOjYz+7R+O286NjP7tH47bzo2M/u0fjtvOjYz+7R+O286NjP7tH47bzo2M/u0fjtvOjYz+7R+O286NjP7tH47bzo2M/u0fjtvOjYz+7R+O286NjP7tH47bzo2M/u0fjtvOjYz+7R+O286NjP7tH47bzo2M/u0fjtvOjYz+7R+O286NjP7tH47bzo2M/u0fjtvOjYz+7R+O286NjP7tH47bzo2M/u0fjtvOjYz+7R+O286NjP7tH47bzo2M/u0fjtvOjYz+7R+O286NjP7tH47bzo2M/u0fjtvOjYz+7R+O286NjP7tH47bzo2M/u0fjtvOjYz+7R+O286NjP7tH47bzo2M/u0fjtvOjYz+7R+O286NjP7tH47bzo2M/u0fjtvOjYz+7R+O286NjP7tH47bzo2M/u0fjtvOjYz+7R+O286NjP7tH47bzo2M/u0fjtvOjYz+7R+O286NjP7tH47bzo2M/u0fjtvOjYz+7R+O286NjP7tH47bzo2M/u0fjtvOjYz+7R+O286NjP7tH47bzo2M/u0fjtvOjYz+7R+O286NjP7tH47bzo2M/u0fjtvOjYz+7R+O286NjP7tH47bzo2M/u0fjtvOjYz+7R+O286NjP7tH47bzo2M/u0fjtvOjYz+7R+O286NjP7tH47bzo2M/u0fjtvOjYz+7R+O286NjP7tH47bzo2M/u0fjtvOjYz+7R+O286NjP7tH47bzo2M/u0fjtvOjYz+7R+O286NjP7tH47bzo2M/u0fjtvOjYz+7R+O286NjP7tH47bzo2M/dJwJsxk6Yz90nAmzGTpjP3ScCbMZOmM/dJwJsxk6Yz90nAmzGTpjP3ScCbMZOmM/dJwJsxk6Yz90nAmzGTpjP3ScCbMZOmM/dJwJsxk6Yz90nAmzGTpjP3ScCbMZOmM/dJwJsxk6Yz90nAmzGTpjP3ScCbMZOmM/dJwJsxk6Yz90nAmzGTpjP3ScCbMZOmM/dJwJsxk6Yz90nAmzGTpjP3ScCbMZOmM/dJwJsxk6Yz90nAmzGTpjP3ScCbMZOmM/dJwJsxk6Yz90nAmzGTpjP3ScCbMZOmM/dJwJsxk6Yz90nAmzGTpjP3ScCbMZOmM/dJwJsxk6Yz90nAmzGTpjP3ScCbMZOmM/dJwJsxk6Yz90nAmzGTpjP3ScCbMZOmM/dJwJsxk6Yz90nAmzGTpjP3ScCbMZOmM/dJwJsxk6Yz90nAmzGTpjP3ScCbMZOmM/dJwJsxk6Yz90nAmzGTpjP3ScCbMZOmM/dJwJsxk6Yz90nAmzGTpjP3ScCbMZOmM/dJwJsxk6Yz90nAmzGTpjP3ScCbMZOmM/dJwJsxk6Yz90nAmzGTpjP3ScCbMZOmM/dJwJsxk6Yz90nAmzGTpjP3ScCbMZOmM/dJwJsxk6Yz90nAmzGTpjP3ScCbMZOmM/dJwJsxk6Yz90nAmzGTpjP3ScCbMZOmM/dJwJsxk6Yz90nAmzGTpjP3ScCbMZOmM/dJwJsxk6Yz90nAmzGTpjP3ScCbMZOmM/dJwJsxk6Yz90nAmzGTpjP3ScCbMZOmM/dJwJsxk6Yz90nAmzGTpjP3ScCbMZOmM/dJwJsxk6Yz90nAmzGTpjP3ScCbMZOmM/dJwJsxk6Yz90nAmzGTpjP3ScCbMZOmM/dJwJsxk6Yz90nAmzGTpjP3ScCbMZOmM/dJwJsxk6Yz90nAmzGTpjP3ScCbMZOmM/dJwJsxk6Yz90nAmzGTpjP3ScCbMZOmM/dJwJsxk6Yz90nAmzGTpjP3ScCbMZOmM/dJwJsxk6Yz90nAmzGTpjP3ScCbMZOmM/dJwJsxk6Yz90nAmzGTpjP3ScCbMZOmM/dJwJsxk6Yz8s8S+vP9BiPyzxL68/0GI/LPEvrz/QYj8s8S+vP9BiPyzxL68/0GI/LPEvrz/QYj8s8S+vP9BiPyzxL68/0GI/LPEvrz/QYj8s8S+vP9BiPyzxL68/0GI/LPEvrz/QYj8s8S+vP9BiPyzxL68/0GI/LPEvrz/QYj8s8S+vP9BiPyzxL68/0GI/LPEvrz/QYj8s8S+vP9BiPyzxL68/0GI/LPEvrz/QYj8s8S+vP9BiPyzxL68/0GI/LPEvrz/QYj8s8S+vP9BiPyzxL68/0GI/LPEvrz/QYj8s8S+vP9BiPyzxL68/0GI/LPEvrz/QYj8s8S+vP9BiPyzxL68/0GI/LPEvrz/QYj8s8S+vP9BiPyzxL68/0GI/LPEvrz/QYj8s8S+vP9BiPyzxL68/0GI/LPEvrz/QYj8s8S+vP9BiPyzxL68/0GI/LPEvrz/QYj8s8S+vP9BiPyzxL68/0GI/LPEvrz/QYj8s8S+vP9BiPyzxL68/0GI/LPEvrz/QYj8s8S+vP9BiPyzxL68/0GI/LPEvrz/QYj8s8S+vP9BiPyzxL68/0GI/LPEvrz/QYj8s8S+vP9BiPyzxL68/0GI/LPEvrz/QYj8s8S+vP9BiPyzxL68/0GI/LPEvrz/QYj8s8S+vP9BiPyzxL68/0GI/LPEvrz/QYj8s8S+vP9BiPyzxL68/0GI/LPEvrz/QYj8s8S+vP9BiPyzxL68/0GI/LPEvrz/QYj8s8S+vP9BiPyzxL68/0GI/LPEvrz/QYj8s8S+vP9BiPyzxL68/0GI/LPEvrz/QYj8s8S+vP9BiPyzxL68/0GI/LPEvrz/QYj8s8S+vP9BiPyzxL68/0GI/LPEvrz/QYj8s8S+vP9BiPyzxL68/0GI/LPEvrz/QYj8s8S+vP9BiPyzxL68/0GI/LPEvrz/QYj8s8S+vP9BiPyzxL68/0GI/LPEvrz/QYj8s8S+vP9BiPyzxL68/0GI/LPEvrz/QYj8s8S+vP9BiPyzxL68/0GI/LPEvrz/QYj8s8S+vP9BiPyzxL68/0GI/LPEvrz/QYj8s8S+vP9BiP+VFVqtlZmI/5UVWq2VmYj/lRVarZWZiP+VFVqtlZmI/5UVWq2VmYj/lRVarZWZiP+VFVqtlZmI/5UVWq2VmYj/lRVarZWZiP+VFVqtlZmI/5UVWq2VmYj/lRVarZWZiP+VFVqtlZmI/5UVWq2VmYj/lRVarZWZiP+VFVqtlZmI/5UVWq2VmYj/lRVarZWZiP+VFVqtlZmI/5UVWq2VmYj/lRVarZWZiP+VFVqtlZmI/5UVWq2VmYj/lRVarZWZiP+VFVqtlZmI/5UVWq2VmYj/lRVarZWZiP+VFVqtlZmI/5UVWq2VmYj/lRVarZWZiP+VFVqtlZmI/5UVWq2VmYj/lRVarZWZiP+VFVqtlZmI/5UVWq2VmYj/lRVarZWZiP+VFVqtlZmI/5UVWq2VmYj/lRVarZWZiP+VFVqtlZmI/5UVWq2VmYj/lRVarZWZiP+VFVqtlZmI/5UVWq2VmYj/lRVarZWZiP+VFVqtlZmI/5UVWq2VmYj/lRVarZWZiP+VFVqtlZmI/5UVWq2VmYj/lRVarZWZiP+VFVqtlZmI/5UVWq2VmYj/lRVarZWZiP+VFVqtlZmI/5UVWq2VmYj/lRVarZWZiP+VFVqtlZmI/5UVWq2VmYj/lRVarZWZiP+VFVqtlZmI/5UVWq2VmYj/lRVarZWZiP+VFVqtlZmI/5UVWq2VmYj/lRVarZWZiP+VFVqtlZmI/5UVWq2VmYj/lRVarZWZiP+VFVqtlZmI/5UVWq2VmYj/lRVarZWZiP+VFVqtlZmI/5UVWq2VmYj/lRVarZWZiP+VFVqtlZmI/5UVWq2VmYj/lRVarZWZiP+VFVqtlZmI/5UVWq2VmYj/lRVarZWZiP+VFVqtlZmI/5UVWq2VmYj/lRVarZWZiP+VFVqtlZmI/5UVWq2VmYj/lRVarZWZiP+VFVqtlZmI/5UVWq2VmYj/lRVarZWZiP+VFVqtlZmI/5UVWq2VmYj/lRVarZWZiP+VFVqtlZmI/5UVWq2VmYj/lRVarZWZiP+VFVqtlZmI/5UVWq2VmYj/lRVarZWZiP+VFVqtlZmI/npp8p4v8YT+emnyni/xhP56afKeL/GE/npp8p4v8YT+emnyni/xhP56afKeL/GE/npp8p4v8YT+emnyni/xhP56afKeL/GE/npp8p4v8YT+emnyni/xhP56afKeL/GE/npp8p4v8YT+emnyni/xhP56afKeL/GE/npp8p4v8YT+emnyni/xhP56afKeL/GE/npp8p4v8YT+emnyni/xhP56afKeL/GE/npp8p4v8YT+emnyni/xhP56afKeL/GE/npp8p4v8YT+emnyni/xhP56afKeL/GE/npp8p4v8YT+emnyni/xhP56afKeL/GE/npp8p4v8YT+emnyni/xhP56afKeL/GE/npp8p4v8YT+emnyni/xhP56afKeL/GE/npp8p4v8YT+emnyni/xhP56afKeL/GE/npp8p4v8YT+emnyni/xhP56afKeL/GE/npp8p4v8YT+emnyni/xhP56afKeL/GE/npp8p4v8YT+emnyni/xhP56afKeL/GE/npp8p4v8YT+emnyni/xhP56afKeL/GE/npp8p4v8YT+emnyni/xhP56afKeL/GE/npp8p4v8YT+emnyni/xhP56afKeL/GE/npp8p4v8YT+emnyni/xhP56afKeL/GE/npp8p4v8YT+emnyni/xhP56afKeL/GE/npp8p4v8YT+emnyni/xhP56afKeL/GE/npp8p4v8YT+emnyni/xhP56afKeL/GE/npp8p4v8YT+emnyni/xhP56afKeL/GE/npp8p4v8YT+emnyni/xhP56afKeL/GE/npp8p4v8YT+emnyni/xhP56afKeL/GE/npp8p4v8YT+emnyni/xhP56afKeL/GE/npp8p4v8YT+emnyni/xhP56afKeL/GE/npp8p4v8YT+emnyni/xhP56afKeL/GE/npp8p4v8YT+emnyni/xhP56afKeL/GE/npp8p4v8YT+emnyni/xhP56afKeL/GE/npp8p4v8YT+emnyni/xhP56afKeL/GE/npp8p4v8YT+emnyni/xhP56afKeL/GE/npp8p4v8YT9W76KjsZJhP1bvoqOxkmE/Vu+io7GSYT9W76KjsZJhP1bvoqOxkmE/Vu+io7GSYT9W76KjsZJhP1bvoqOxkmE/Vu+io7GSYT9W76KjsZJhP1bvoqOxkmE/Vu+io7GSYT9W76KjsZJhP1bvoqOxkmE/Vu+io7GSYT9W76KjsZJhP1bvoqOxkmE/Vu+io7GSYT9W76KjsZJhP1bvoqOxkmE/Vu+io7GSYT9W76KjsZJhP1bvoqOxkmE/Vu+io7GSYT9W76KjsZJhP1bvoqOxkmE/Vu+io7GSYT9W76KjsZJhP1bvoqOxkmE/Vu+io7GSYT9W76KjsZJhP1bvoqOxkmE/Vu+io7GSYT9W76KjsZJhP1bvoqOxkmE/Vu+io7GSYT9W76KjsZJhP1bvoqOxkmE/Vu+io7GSYT9W76KjsZJhP1bvoqOxkmE/Vu+io7GSYT9W76KjsZJhP1bvoqOxkmE/Vu+io7GSYT9W76KjsZJhP1bvoqOxkmE/Vu+io7GSYT9W76KjsZJhP1bvoqOxkmE/Vu+io7GSYT9W76KjsZJhP1bvoqOxkmE/Vu+io7GSYT9W76KjsZJhP1bvoqOxkmE/Vu+io7GSYT9W76KjsZJhP1bvoqOxkmE/Vu+io7GSYT9W76KjsZJhP1bvoqOxkmE/Vu+io7GSYT9W76KjsZJhP1bvoqOxkmE/Vu+io7GSYT9W76KjsZJhP1bvoqOxkmE/Vu+io7GSYT9W76KjsZJhP1bvoqOxkmE/Vu+io7GSYT9W76KjsZJhP1bvoqOxkmE/Vu+io7GSYT9W76KjsZJhP1bvoqOxkmE/Vu+io7GSYT9W76KjsZJhP1bvoqOxkmE/Vu+io7GSYT9W76KjsZJhP1bvoqOxkmE/Vu+io7GSYT9W76KjsZJhP1bvoqOxkmE/Vu+io7GSYT9W76KjsZJhP1bvoqOxkmE/Vu+io7GSYT9W76KjsZJhP1bvoqOxkmE/Vu+io7GSYT9W76KjsZJhP1bvoqOxkmE/Vu+io7GSYT9W76KjsZJhP1bvoqOxkmE/Vu+io7GSYT9W76KjsZJhPw9EyZ/XKGE/D0TJn9coYT8PRMmf1yhhPw9EyZ/XKGE/D0TJn9coYT8PRMmf1yhhPw9EyZ/XKGE/D0TJn9coYT8PRMmf1yhhPw9EyZ/XKGE/D0TJn9coYT8PRMmf1yhhPw9EyZ/XKGE/D0TJn9coYT8PRMmf1yhhPw9EyZ/XKGE/D0TJn9coYT8PRMmf1yhhPw9EyZ/XKGE/D0TJn9coYT8PRMmf1yhhPw9EyZ/XKGE/D0TJn9coYT8PRMmf1yhhPw9EyZ/XKGE/D0TJn9coYT8PRMmf1yhhPw9EyZ/XKGE/D0TJn9coYT8PRMmf1yhhPw9EyZ/XKGE/D0TJn9coYT8PRMmf1yhhPw9EyZ/XKGE/D0TJn9coYT8PRMmf1yhhPw9EyZ/XKGE/D0TJn9coYT8PRMmf1yhhPw9EyZ/XKGE/D0TJn9coYT8PRMmf1yhhPw9EyZ/XKGE/D0TJn9coYT8PRMmf1yhhPw9EyZ/XKGE/D0TJn9coYT8PRMmf1yhhPw9EyZ/XKGE/D0TJn9coYT8PRMmf1yhhPw9EyZ/XKGE/D0TJn9coYT8PRMmf1yhhPw9EyZ/XKGE/D0TJn9coYT8PRMmf1yhhPw9EyZ/XKGE/D0TJn9coYT8PRMmf1yhhPw9EyZ/XKGE/D0TJn9coYT8PRMmf1yhhPw9EyZ/XKGE/D0TJn9coYT8PRMmf1yhhPw9EyZ/XKGE/D0TJn9coYT8PRMmf1yhhPw9EyZ/XKGE/D0TJn9coYT8PRMmf1yhhPw9EyZ/XKGE/D0TJn9coYT8PRMmf1yhhPw9EyZ/XKGE/D0TJn9coYT8PRMmf1yhhPw9EyZ/XKGE/D0TJn9coYT8PRMmf1yhhPw9EyZ/XKGE/D0TJn9coYT8PRMmf1yhhPw9EyZ/XKGE/D0TJn9coYT8PRMmf1yhhPw9EyZ/XKGE/D0TJn9coYT8PRMmf1yhhPw9EyZ/XKGE/D0TJn9coYT8PRMmf1yhhPw9EyZ/XKGE/D0TJn9coYT8PRMmf1yhhPw9EyZ/XKGE/D0TJn9coYT8PRMmf1yhhPw9EyZ/XKGE/yJjvm/2+YD/ImO+b/b5gP8iY75v9vmA/yJjvm/2+YD/ImO+b/b5gP8iY75v9vmA/yJjvm/2+YD/ImO+b/b5gP8iY75v9vmA/yJjvm/2+YD/ImO+b/b5gP8iY75v9vmA/yJjvm/2+YD/ImO+b/b5gP8iY75v9vmA/yJjvm/2+YD/ImO+b/b5gP8iY75v9vmA/yJjvm/2+YD/ImO+b/b5gP8iY75v9vmA/yJjvm/2+YD/ImO+b/b5gP8iY75v9vmA/yJjvm/2+YD/ImO+b/b5gP8iY75v9vmA/yJjvm/2+YD/ImO+b/b5gP8iY75v9vmA/yJjvm/2+YD/ImO+b/b5gP8iY75v9vmA/yJjvm/2+YD/ImO+b/b5gP8iY75v9vmA/yJjvm/2+YD/ImO+b/b5gP8iY75v9vmA/yJjvm/2+YD/ImO+b/b5gP8iY75v9vmA/yJjvm/2+YD/ImO+b/b5gP8iY75v9vmA/yJjvm/2+YD/ImO+b/b5gP8iY75v9vmA/yJjvm/2+YD/ImO+b/b5gP8iY75v9vmA/yJjvm/2+YD/ImO+b/b5gP8iY75v9vmA/yJjvm/2+YD/ImO+b/b5gP8iY75v9vmA/yJjvm/2+YD/ImO+b/b5gP8iY75v9vmA/yJjvm/2+YD/ImO+b/b5gP8iY75v9vmA/yJjvm/2+YD/ImO+b/b5gP8iY75v9vmA/yJjvm/2+YD/ImO+b/b5gP8iY75v9vmA/yJjvm/2+YD/ImO+b/b5gP8iY75v9vmA/yJjvm/2+YD/ImO+b/b5gP8iY75v9vmA/yJjvm/2+YD/ImO+b/b5gP8iY75v9vmA/yJjvm/2+YD/ImO+b/b5gP8iY75v9vmA/yJjvm/2+YD/ImO+b/b5gP8iY75v9vmA/yJjvm/2+YD/ImO+b/b5gP8iY75v9vmA/yJjvm/2+YD/ImO+b/b5gP8iY75v9vmA/yJjvm/2+YD/ImO+b/b5gP8iY75v9vmA/yJjvm/2+YD/ImO+b/b5gP8iY75v9vmA/yJjvm/2+YD/ImO+b/b5gP8iY75v9vmA/yJjvm/2+YD+B7RWYI1VgP4HtFZgjVWA/ge0VmCNVYD+B7RWYI1VgP4HtFZgjVWA/ge0VmCNVYD+B7RWYI1VgP4HtFZgjVWA/ge0VmCNVYD+B7RWYI1VgP4HtFZgjVWA/ge0VmCNVYD+B7RWYI1VgP4HtFZgjVWA/ge0VmCNVYD+B7RWYI1VgP4HtFZgjVWA/ge0VmCNVYD+B7RWYI1VgP4HtFZgjVWA/ge0VmCNVYD+B7RWYI1VgP4HtFZgjVWA/ge0VmCNVYD+B7RWYI1VgP4HtFZgjVWA/ge0VmCNVYD+B7RWYI1VgP4HtFZgjVWA/ge0VmCNVYD+B7RWYI1VgP4HtFZgjVWA/ge0VmCNVYD+B7RWYI1VgP4HtFZgjVWA/ge0VmCNVYD+B7RWYI1VgP4HtFZgjVWA/ge0VmCNVYD+B7RWYI1VgP4HtFZgjVWA/ge0VmCNVYD+B7RWYI1VgP4HtFZgjVWA/ge0VmCNVYD+B7RWYI1VgP4HtFZgjVWA/ge0VmCNVYD+B7RWYI1VgP4HtFZgjVWA/ge0VmCNVYD+B7RWYI1VgP4HtFZgjVWA/ge0VmCNVYD+B7RWYI1VgP4HtFZgjVWA/ge0VmCNVYD+B7RWYI1VgP4HtFZgjVWA/ge0VmCNVYD+B7RWYI1VgP4HtFZgjVWA/ge0VmCNVYD+B7RWYI1VgP4HtFZgjVWA/ge0VmCNVYD+B7RWYI1VgP4HtFZgjVWA/ge0VmCNVYD+B7RWYI1VgP4HtFZgjVWA/ge0VmCNVYD+B7RWYI1VgP4HtFZgjVWA/ge0VmCNVYD+B7RWYI1VgP4HtFZgjVWA/ge0VmCNVYD+B7RWYI1VgP4HtFZgjVWA/ge0VmCNVYD+B7RWYI1VgP4HtFZgjVWA/ge0VmCNVYD+B7RWYI1VgP4HtFZgjVWA/ge0VmCNVYD+B7RWYI1VgP4HtFZgjVWA/ge0VmCNVYD+B7RWYI1VgP4HtFZgjVWA/ge0VmCNVYD+B7RWYI1VgP4HtFZgjVWA/ge0VmCNVYD+B7RWYI1VgP4HtFZgjVWA/ge0VmCNVYD+B7RWYI1VgP3KEeCiT1l8/coR4KJPWXz9yhHgok9ZfP3KEeCiT1l8/coR4KJPWXz9yhHgok9ZfP3KEeCiT1l8/coR4KJPWXz9yhHgok9ZfP3KEeCiT1l8/coR4KJPWXz9yhHgok9ZfP3KEeCiT1l8/coR4KJPWXz9yhHgok9ZfP3KEeCiT1l8/coR4KJPWXz9yhHgok9ZfP3KEeCiT1l8/coR4KJPWXz9yhHgok9ZfP3KEeCiT1l8/coR4KJPWXz9yhHgok9ZfP3KEeCiT1l8/coR4KJPWXz9yhHgok9ZfP3KEeCiT1l8/coR4KJPWXz9yhHgok9ZfP3KEeCiT1l8/coR4KJPWXz9yhHgok9ZfP3KEeCiT1l8/coR4KJPWXz9yhHgok9ZfP3KEeCiT1l8/coR4KJPWXz9yhHgok9ZfP3KEeCiT1l8/coR4KJPWXz9yhHgok9ZfP3KEeCiT1l8/coR4KJPWXz9yhHgok9ZfP3KEeCiT1l8/coR4KJPWXz9yhHgok9ZfP3KEeCiT1l8/coR4KJPWXz9yhHgok9ZfP3KEeCiT1l8/coR4KJPWXz9yhHgok9ZfP3KEeCiT1l8/coR4KJPWXz9yhHgok9ZfP3KEeCiT1l8/coR4KJPWXz9yhHgok9ZfP3KEeCiT1l8/coR4KJPWXz9yhHgok9ZfP3KEeCiT1l8/coR4KJPWXz9yhHgok9ZfP3KEeCiT1l8/coR4KJPWXz9yhHgok9ZfP3KEeCiT1l8/coR4KJPWXz9yhHgok9ZfP3KEeCiT1l8/coR4KJPWXz9yhHgok9ZfP3KEeCiT1l8/coR4KJPWXz9yhHgok9ZfP3KEeCiT1l8/coR4KJPWXz9yhHgok9ZfP3KEeCiT1l8/coR4KJPWXz9yhHgok9ZfP3KEeCiT1l8/coR4KJPWXz9yhHgok9ZfP3KEeCiT1l8/coR4KJPWXz9yhHgok9ZfP3KEeCiT1l8/coR4KJPWXz9yhHgok9ZfP3KEeCiT1l8/coR4KJPWXz9yhHgok9ZfP3KEeCiT1l8/coR4KJPWXz9yhHgok9ZfP3KEeCiT1l8/5C3FIN8CXz/kLcUg3wJfP+QtxSDfAl8/5C3FIN8CXz/kLcUg3wJfP+QtxSDfAl8/5C3FIN8CXz/kLcUg3wJfP+QtxSDfAl8/5C3FIN8CXz/kLcUg3wJfP+QtxSDfAl8/5C3FIN8CXz/kLcUg3wJfP+QtxSDfAl8/5C3FIN8CXz/kLcUg3wJfP+QtxSDfAl8/5C3FIN8CXz/kLcUg3wJfP+QtxSDfAl8/5C3FIN8CXz/kLcUg3wJfP+QtxSDfAl8/5C3FIN8CXz/kLcUg3wJfP+QtxSDfAl8/5C3FIN8CXz/kLcUg3wJfP+QtxSDfAl8/5C3FIN8CXz/kLcUg3wJfP+QtxSDfAl8/5C3FIN8CXz/kLcUg3wJfP+QtxSDfAl8/5C3FIN8CXz/kLcUg3wJfP+QtxSDfAl8/5C3FIN8CXz/kLcUg3wJfP+QtxSDfAl8/5C3FIN8CXz/kLcUg3wJfP+QtxSDfAl8/5C3FIN8CXz/kLcUg3wJfP+QtxSDfAl8/5C3FIN8CXz/kLcUg3wJfP+QtxSDfAl8/5C3FIN8CXz/kLcUg3wJfP+QtxSDfAl8/5C3FIN8CXz/kLcUg3wJfP+QtxSDfAl8/5C3FIN8CXz/kLcUg3wJfP+QtxSDfAl8/5C3FIN8CXz/kLcUg3wJfP+QtxSDfAl8/5C3FIN8CXz/kLcUg3wJfP+QtxSDfAl8/5C3FIN8CXz/kLcUg3wJfP+QtxSDfAl8/5C3FIN8CXz/kLcUg3wJfP+QtxSDfAl8/5C3FIN8CXz/kLcUg3wJfP+QtxSDfAl8/5C3FIN8CXz/kLcUg3wJfP+QtxSDfAl8/5C3FIN8CXz/kLcUg3wJfP+QtxSDfAl8/5C3FIN8CXz/kLcUg3wJfP+QtxSDfAl8/5C3FIN8CXz/kLcUg3wJfP+QtxSDfAl8/5C3FIN8CXz/kLcUg3wJfP+QtxSDfAl8/5C3FIN8CXz/kLcUg3wJfP+QtxSDfAl8/5C3FIN8CXz/kLcUg3wJfP+QtxSDfAl8/5C3FIN8CXz/kLcUg3wJfP+QtxSDfAl8/5C3FIN8CXz9V1xEZKy9eP1XXERkrL14/VdcRGSsvXj9V1xEZKy9eP1XXERkrL14/VdcRGSsvXj9V1xEZKy9eP1XXERkrL14/VdcRGSsvXj9V1xEZKy9eP1XXERkrL14/VdcRGSsvXj9V1xEZKy9eP1XXERkrL14/VdcRGSsvXj9V1xEZKy9eP1XXERkrL14/VdcRGSsvXj9V1xEZKy9eP1XXERkrL14/VdcRGSsvXj9V1xEZKy9eP1XXERkrL14/VdcRGSsvXj9V1xEZKy9eP1XXERkrL14/VdcRGSsvXj9V1xEZKy9eP1XXERkrL14/VdcRGSsvXj9V1xEZKy9eP1XXERkrL14/VdcRGSsvXj9V1xEZKy9eP1XXERkrL14/VdcRGSsvXj9V1xEZKy9eP1XXERkrL14/VdcRGSsvXj9V1xEZKy9eP1XXERkrL14/VdcRGSsvXj9V1xEZKy9eP1XXERkrL14/VdcRGSsvXj9V1xEZKy9eP1XXERkrL14/VdcRGSsvXj9V1xEZKy9eP1XXERkrL14/VdcRGSsvXj9V1xEZKy9eP1XXERkrL14/VdcRGSsvXj9V1xEZKy9eP1XXERkrL14/VdcRGSsvXj9V1xEZKy9eP1XXERkrL14/VdcRGSsvXj9V1xEZKy9eP1XXERkrL14/VdcRGSsvXj9V1xEZKy9eP1XXERkrL14/VdcRGSsvXj9V1xEZKy9eP1XXERkrL14/VdcRGSsvXj9V1xEZKy9eP1XXERkrL14/VdcRGSsvXj9V1xEZKy9eP1XXERkrL14/VdcRGSsvXj9V1xEZKy9eP1XXERkrL14/VdcRGSsvXj9V1xEZKy9eP1XXERkrL14/VdcRGSsvXj9V1xEZKy9eP1XXERkrL14/VdcRGSsvXj9V1xEZKy9eP1XXERkrL14/VdcRGSsvXj9V1xEZKy9eP1XXERkrL14/VdcRGSsvXj9V1xEZKy9eP1XXERkrL14/VdcRGSsvXj9V1xEZKy9eP1XXERkrL14/VdcRGSsvXj9V1xEZKy9eP1XXERkrL14/VdcRGSsvXj9V1xEZKy9eP8eAXhF3W10/x4BeEXdbXT/HgF4Rd1tdP8eAXhF3W10/x4BeEXdbXT/HgF4Rd1tdP8eAXhF3W10/x4BeEXdbXT/HgF4Rd1tdP8eAXhF3W10/x4BeEXdbXT/HgF4Rd1tdP8eAXhF3W10/x4BeEXdbXT/HgF4Rd1tdP8eAXhF3W10/x4BeEXdbXT/HgF4Rd1tdP8eAXhF3W10/x4BeEXdbXT/HgF4Rd1tdP8eAXhF3W10/x4BeEXdbXT/HgF4Rd1tdP8eAXhF3W10/x4BeEXdbXT/HgF4Rd1tdP8eAXhF3W10/x4BeEXdbXT/HgF4Rd1tdP8eAXhF3W10/x4BeEXdbXT/HgF4Rd1tdP8eAXhF3W10/x4BeEXdbXT/HgF4Rd1tdP8eAXhF3W10/x4BeEXdbXT/HgF4Rd1tdP8eAXhF3W10/x4BeEXdbXT/HgF4Rd1tdP8eAXhF3W10/x4BeEXdbXT/HgF4Rd1tdP8eAXhF3W10/x4BeEXdbXT/HgF4Rd1tdP8eAXhF3W10/x4BeEXdbXT/HgF4Rd1tdP8eAXhF3W10/x4BeEXdbXT/HgF4Rd1tdP8eAXhF3W10/x4BeEXdbXT/HgF4Rd1tdP8eAXhF3W10/x4BeEXdbXT/HgF4Rd1tdP8eAXhF3W10/x4BeEXdbXT/HgF4Rd1tdP8eAXhF3W10/x4BeEXdbXT/HgF4Rd1tdP8eAXhF3W10/x4BeEXdbXT/HgF4Rd1tdP8eAXhF3W10/x4BeEXdbXT/HgF4Rd1tdP8eAXhF3W10/x4BeEXdbXT/HgF4Rd1tdP8eAXhF3W10/x4BeEXdbXT/HgF4Rd1tdP8eAXhF3W10/x4BeEXdbXT/HgF4Rd1tdP8eAXhF3W10/x4BeEXdbXT/HgF4Rd1tdP8eAXhF3W10/x4BeEXdbXT/HgF4Rd1tdP8eAXhF3W10/x4BeEXdbXT/HgF4Rd1tdP8eAXhF3W10/x4BeEXdbXT/HgF4Rd1tdP8eAXhF3W10/x4BeEXdbXT/HgF4Rd1tdP8eAXhF3W10/x4BeEXdbXT/HgF4Rd1tdP8eAXhF3W10/OCqrCcOHXD84KqsJw4dcPzgqqwnDh1w/OCqrCcOHXD84KqsJw4dcPzgqqwnDh1w/OCqrCcOHXD84KqsJw4dcPzgqqwnDh1w/OCqrCcOHXD84KqsJw4dcPzgqqwnDh1w/OCqrCcOHXD84KqsJw4dcPzgqqwnDh1w/OCqrCcOHXD84KqsJw4dcPzgqqwnDh1w/OCqrCcOHXD84KqsJw4dcPzgqqwnDh1w/OCqrCcOHXD84KqsJw4dcPzgqqwnDh1w/OCqrCcOHXD84KqsJw4dcPzgqqwnDh1w/OCqrCcOHXD84KqsJw4dcPzgqqwnDh1w/OCqrCcOHXD84KqsJw4dcPzgqqwnDh1w/OCqrCcOHXD84KqsJw4dcPzgqqwnDh1w/OCqrCcOHXD84KqsJw4dcPzgqqwnDh1w/OCqrCcOHXD84KqsJw4dcPzgqqwnDh1w/OCqrCcOHXD84KqsJw4dcPzgqqwnDh1w/OCqrCcOHXD84KqsJw4dcPzgqqwnDh1w/OCqrCcOHXD84KqsJw4dcPzgqqwnDh1w/OCqrCcOHXD84KqsJw4dcPzgqqwnDh1w/OCqrCcOHXD84KqsJw4dcPzgqqwnDh1w/OCqrCcOHXD84KqsJw4dcPzgqqwnDh1w/OCqrCcOHXD84KqsJw4dcPzgqqwnDh1w/OCqrCcOHXD84KqsJw4dcPzgqqwnDh1w/OCqrCcOHXD84KqsJw4dcPzgqqwnDh1w/OCqrCcOHXD84KqsJw4dcPzgqqwnDh1w/OCqrCcOHXD84KqsJw4dcPzgqqwnDh1w/OCqrCcOHXD84KqsJw4dcPzgqqwnDh1w/OCqrCcOHXD84KqsJw4dcPzgqqwnDh1w/OCqrCcOHXD84KqsJw4dcPzgqqwnDh1w/OCqrCcOHXD84KqsJw4dcPzgqqwnDh1w/OCqrCcOHXD84KqsJw4dcPzgqqwnDh1w/OCqrCcOHXD84KqsJw4dcPzgqqwnDh1w/OCqrCcOHXD84KqsJw4dcPzgqqwnDh1w/OCqrCcOHXD84KqsJw4dcPzgqqwnDh1w/OCqrCcOHXD+p0/cBD7RbP6nT9wEPtFs/qdP3AQ+0Wz+p0/cBD7RbP6nT9wEPtFs/qdP3AQ+0Wz+p0/cBD7RbP6nT9wEPtFs/qdP3AQ+0Wz+p0/cBD7RbP6nT9wEPtFs/qdP3AQ+0Wz+p0/cBD7RbP6nT9wEPtFs/qdP3AQ+0Wz+p0/cBD7RbP6nT9wEPtFs/qdP3AQ+0Wz+p0/cBD7RbP6nT9wEPtFs/qdP3AQ+0Wz+p0/cBD7RbP6nT9wEPtFs/qdP3AQ+0Wz+p0/cBD7RbP6nT9wEPtFs/qdP3AQ+0Wz+p0/cBD7RbP6nT9wEPtFs/qdP3AQ+0Wz+p0/cBD7RbP6nT9wEPtFs/qdP3AQ+0Wz+p0/cBD7RbP6nT9wEPtFs/qdP3AQ+0Wz+p0/cBD7RbP6nT9wEPtFs/qdP3AQ+0Wz+p0/cBD7RbP6nT9wEPtFs/qdP3AQ+0Wz+p0/cBD7RbP6nT9wEPtFs/qdP3AQ+0Wz+p0/cBD7RbP6nT9wEPtFs/qdP3AQ+0Wz+p0/cBD7RbP6nT9wEPtFs/qdP3AQ+0Wz+p0/cBD7RbP6nT9wEPtFs/qdP3AQ+0Wz+p0/cBD7RbP6nT9wEPtFs/qdP3AQ+0Wz+p0/cBD7RbP6nT9wEPtFs/qdP3AQ+0Wz+p0/cBD7RbP6nT9wEPtFs/qdP3AQ+0Wz+p0/cBD7RbP6nT9wEPtFs/qdP3AQ+0Wz+p0/cBD7RbP6nT9wEPtFs/qdP3AQ+0Wz+p0/cBD7RbP6nT9wEPtFs/qdP3AQ+0Wz+p0/cBD7RbP6nT9wEPtFs/qdP3AQ+0Wz+p0/cBD7RbP6nT9wEPtFs/qdP3AQ+0Wz+p0/cBD7RbP6nT9wEPtFs/qdP3AQ+0Wz+p0/cBD7RbP6nT9wEPtFs/qdP3AQ+0Wz+p0/cBD7RbP6nT9wEPtFs/qdP3AQ+0Wz+p0/cBD7RbP6nT9wEPtFs/qdP3AQ+0Wz+p0/cBD7RbP6nT9wEPtFs/qdP3AQ+0Wz+p0/cBD7RbP6nT9wEPtFs/qdP3AQ+0Wz+p0/cBD7RbP6nT9wEPtFs/qdP3AQ+0Wz+p0/cBD7RbPxt9RPpa4Fo/G31E+lrgWj8bfUT6WuBaPxt9RPpa4Fo/G31E+lrgWj8bfUT6WuBaPxt9RPpa4Fo/G31E+lrgWj8bfUT6WuBaPxt9RPpa4Fo/G31E+lrgWj8bfUT6WuBaPxt9RPpa4Fo/G31E+lrgWj8bfUT6WuBaPxt9RPpa4Fo/G31E+lrgWj8bfUT6WuBaPxt9RPpa4Fo/G31E+lrgWj8bfUT6WuBaPxt9RPpa4Fo/G31E+lrgWj8bfUT6WuBaPxt9RPpa4Fo/G31E+lrgWj8bfUT6WuBaPxt9RPpa4Fo/G31E+lrgWj8bfUT6WuBaPxt9RPpa4Fo/G31E+lrgWj8bfUT6WuBaPxt9RPpa4Fo/G31E+lrgWj8bfUT6WuBaPxt9RPpa4Fo/G31E+lrgWj8bfUT6WuBaPxt9RPpa4Fo/G31E+lrgWj8bfUT6WuBaPxt9RPpa4Fo/G31E+lrgWj8bfUT6WuBaPxt9RPpa4Fo/G31E+lrgWj8bfUT6WuBaPxt9RPpa4Fo/G31E+lrgWj8bfUT6WuBaPxt9RPpa4Fo/G31E+lrgWj8bfUT6WuBaPxt9RPpa4Fo/G31E+lrgWj8bfUT6WuBaPxt9RPpa4Fo/G31E+lrgWj8bfUT6WuBaPxt9RPpa4Fo/G31E+lrgWj8bfUT6WuBaPxt9RPpa4Fo/G31E+lrgWj8bfUT6WuBaPxt9RPpa4Fo/G31E+lrgWj8bfUT6WuBaPxt9RPpa4Fo/G31E+lrgWj8bfUT6WuBaPxt9RPpa4Fo/G31E+lrgWj8bfUT6WuBaPxt9RPpa4Fo/G31E+lrgWj8bfUT6WuBaPxt9RPpa4Fo/G31E+lrgWj8bfUT6WuBaPxt9RPpa4Fo/G31E+lrgWj8bfUT6WuBaPxt9RPpa4Fo/G31E+lrgWj8bfUT6WuBaPxt9RPpa4Fo/G31E+lrgWj8bfUT6WuBaPxt9RPpa4Fo/G31E+lrgWj8bfUT6WuBaPxt9RPpa4Fo/G31E+lrgWj8bfUT6WuBaPxt9RPpa4Fo/G31E+lrgWj8bfUT6WuBaPxt9RPpa4Fo/jCaR8qYMWj+MJpHypgxaP4wmkfKmDFo/jCaR8qYMWj+MJpHypgxaP4wmkfKmDFo/jCaR8qYMWj+MJpHypgxaP4wmkfKmDFo/jCaR8qYMWj+MJpHypgxaP4wmkfKmDFo/jCaR8qYMWj+MJpHypgxaP4wmkfKmDFo/jCaR8qYMWj+MJpHypgxaP4wmkfKmDFo/jCaR8qYMWj+MJpHypgxaP4wmkfKmDFo/jCaR8qYMWj+MJpHypgxaP4wmkfKmDFo/jCaR8qYMWj+MJpHypgxaP4wmkfKmDFo/jCaR8qYMWj+MJpHypgxaP4wmkfKmDFo/jCaR8qYMWj+MJpHypgxaP4wmkfKmDFo/jCaR8qYMWj+MJpHypgxaP4wmkfKmDFo/jCaR8qYMWj+MJpHypgxaP4wmkfKmDFo/jCaR8qYMWj+MJpHypgxaP4wmkfKmDFo/jCaR8qYMWj+MJpHypgxaP4wmkfKmDFo/jCaR8qYMWj+MJpHypgxaP4wmkfKmDFo/jCaR8qYMWj+MJpHypgxaP4wmkfKmDFo/jCaR8qYMWj+MJpHypgxaP4wmkfKmDFo/jCaR8qYMWj+MJpHypgxaP4wmkfKmDFo/jCaR8qYMWj+MJpHypgxaP4wmkfKmDFo/jCaR8qYMWj+MJpHypgxaP4wmkfKmDFo/jCaR8qYMWj+MJpHypgxaP4wmkfKmDFo/jCaR8qYMWj+MJpHypgxaP4wmkfKmDFo/jCaR8qYMWj+MJpHypgxaP4wmkfKmDFo/jCaR8qYMWj+MJpHypgxaP4wmkfKmDFo/jCaR8qYMWj+MJpHypgxaP4wmkfKmDFo/jCaR8qYMWj+MJpHypgxaP4wmkfKmDFo/jCaR8qYMWj+MJpHypgxaP4wmkfKmDFo/jCaR8qYMWj+MJpHypgxaP4wmkfKmDFo/jCaR8qYMWj+MJpHypgxaP4wmkfKmDFo/jCaR8qYMWj+MJpHypgxaP4wmkfKmDFo/jCaR8qYMWj+MJpHypgxaP4wmkfKmDFo/jCaR8qYMWj+MJpHypgxaP4wmkfKmDFo/jCaR8qYMWj/+z93q8jhZP/7P3eryOFk//s/d6vI4WT/+z93q8jhZP/7P3eryOFk//s/d6vI4WT/+z93q8jhZP/7P3eryOFk//s/d6vI4WT/+z93q8jhZP/7P3eryOFk//s/d6vI4WT/+z93q8jhZP/7P3eryOFk//s/d6vI4WT/+z93q8jhZP/7P3eryOFk//s/d6vI4WT/+z93q8jhZP/7P3eryOFk//s/d6vI4WT/+z93q8jhZP/7P3eryOFk//s/d6vI4WT/+z93q8jhZP/7P3eryOFk//s/d6vI4WT/+z93q8jhZP/7P3eryOFk//s/d6vI4WT/+z93q8jhZP/7P3eryOFk//s/d6vI4WT/+z93q8jhZP/7P3eryOFk//s/d6vI4WT/+z93q8jhZP/7P3eryOFk//s/d6vI4WT/+z93q8jhZP/7P3eryOFk//s/d6vI4WT/+z93q8jhZP/7P3eryOFk//s/d6vI4WT/+z93q8jhZP/7P3eryOFk//s/d6vI4WT/+z93q8jhZP/7P3eryOFk//s/d6vI4WT/+z93q8jhZP/7P3eryOFk//s/d6vI4WT/+z93q8jhZP/7P3eryOFk//s/d6vI4WT/+z93q8jhZP/7P3eryOFk//s/d6vI4WT/+z93q8jhZP/7P3eryOFk//s/d6vI4WT/+z93q8jhZP/7P3eryOFk//s/d6vI4WT/+z93q8jhZP/7P3eryOFk//s/d6vI4WT/+z93q8jhZP/7P3eryOFk//s/d6vI4WT/+z93q8jhZP/7P3eryOFk//s/d6vI4WT/+z93q8jhZP/7P3eryOFk//s/d6vI4WT/+z93q8jhZP/7P3eryOFk//s/d6vI4WT/+z93q8jhZP/7P3eryOFk//s/d6vI4WT/+z93q8jhZP/7P3eryOFk//s/d6vI4WT/+z93q8jhZP/7P3eryOFk//s/d6vI4WT/+z93q8jhZP/7P3eryOFk//s/d6vI4WT/+z93q8jhZP/7P3eryOFk//s/d6vI4WT/+z93q8jhZP/7P3eryOFk//s/d6vI4WT/+z93q8jhZP295KuM+ZVg/b3kq4z5lWD9veSrjPmVYP295KuM+ZVg/b3kq4z5lWD9veSrjPmVYP295KuM+ZVg/b3kq4z5lWD9veSrjPmVYP295KuM+ZVg/b3kq4z5lWD9veSrjPmVYP295KuM+ZVg/b3kq4z5lWD9veSrjPmVYP295KuM+ZVg/b3kq4z5lWD9veSrjPmVYP295KuM+ZVg/b3kq4z5lWD9veSrjPmVYP295KuM+ZVg/b3kq4z5lWD9veSrjPmVYP295KuM+ZVg/b3kq4z5lWD9veSrjPmVYP295KuM+ZVg/b3kq4z5lWD9veSrjPmVYP295KuM+ZVg/b3kq4z5lWD9veSrjPmVYP295KuM+ZVg/b3kq4z5lWD9veSrjPmVYP295KuM+ZVg/b3kq4z5lWD9veSrjPmVYP295KuM+ZVg/b3kq4z5lWD9veSrjPmVYP295KuM+ZVg/b3kq4z5lWD9veSrjPmVYP295KuM+ZVg/b3kq4z5lWD9veSrjPmVYP295KuM+ZVg/b3kq4z5lWD9veSrjPmVYP295KuM+ZVg/b3kq4z5lWD9veSrjPmVYP295KuM+ZVg/b3kq4z5lWD9veSrjPmVYP295KuM+ZVg/b3kq4z5lWD9veSrjPmVYP295KuM+ZVg/b3kq4z5lWD9veSrjPmVYP295KuM+ZVg/b3kq4z5lWD9veSrjPmVYP295KuM+ZVg/b3kq4z5lWD9veSrjPmVYP295KuM+ZVg/b3kq4z5lWD9veSrjPmVYP295KuM+ZVg/b3kq4z5lWD9veSrjPmVYP295KuM+ZVg/b3kq4z5lWD9veSrjPmVYP295KuM+ZVg/b3kq4z5lWD9veSrjPmVYP295KuM+ZVg/b3kq4z5lWD9veSrjPmVYP295KuM+ZVg/b3kq4z5lWD9veSrjPmVYP295KuM+ZVg/b3kq4z5lWD9veSrjPmVYP295KuM+ZVg/b3kq4z5lWD9veSrjPmVYP295KuM+ZVg/b3kq4z5lWD9veSrjPmVYP295KuM+ZVg/b3kq4z5lWD9veSrjPmVYP295KuM+ZVg/4CJ324qRVz/gInfbipFXP+Aid9uKkVc/4CJ324qRVz/gInfbipFXP+Aid9uKkVc/4CJ324qRVz/gInfbipFXP+Aid9uKkVc/4CJ324qRVz/gInfbipFXP+Aid9uKkVc/4CJ324qRVz/gInfbipFXP+Aid9uKkVc/4CJ324qRVz/gInfbipFXP+Aid9uKkVc/4CJ324qRVz/gInfbipFXP+Aid9uKkVc/4CJ324qRVz/gInfbipFXP+Aid9uKkVc/4CJ324qRVz/gInfbipFXP+Aid9uKkVc/4CJ324qRVz/gInfbipFXP+Aid9uKkVc/4CJ324qRVz/gInfbipFXP+Aid9uKkVc/4CJ324qRVz/gInfbipFXP+Aid9uKkVc/4CJ324qRVz/gInfbipFXP+Aid9uKkVc/4CJ324qRVz/gInfbipFXP+Aid9uKkVc/4CJ324qRVz/gInfbipFXP+Aid9uKkVc/4CJ324qRVz/gInfbipFXP+Aid9uKkVc/4CJ324qRVz/gInfbipFXP+Aid9uKkVc/4CJ324qRVz/gInfbipFXP+Aid9uKkVc/4CJ324qRVz/gInfbipFXP+Aid9uKkVc/4CJ324qRVz/gInfbipFXP+Aid9uKkVc/4CJ324qRVz/gInfbipFXP+Aid9uKkVc/4CJ324qRVz/gInfbipFXP+Aid9uKkVc/4CJ324qRVz/gInfbipFXP+Aid9uKkVc/4CJ324qRVz/gInfbipFXP+Aid9uKkVc/4CJ324qRVz/gInfbipFXP+Aid9uKkVc/4CJ324qRVz/gInfbipFXP+Aid9uKkVc/4CJ324qRVz/gInfbipFXP+Aid9uKkVc/4CJ324qRVz/gInfbipFXP+Aid9uKkVc/4CJ324qRVz/gInfbipFXP+Aid9uKkVc/4CJ324qRVz/gInfbipFXP+Aid9uKkVc/4CJ324qRVz/gInfbipFXP+Aid9uKkVc/4CJ324qRVz/gInfbipFXP+Aid9uKkVc/4CJ324qRVz/gInfbipFXP+Aid9uKkVc/4CJ324qRVz9SzMPT1r1WP1LMw9PWvVY/UszD09a9Vj9SzMPT1r1WP1LMw9PWvVY/UszD09a9Vj9SzMPT1r1WP1LMw9PWvVY/UszD09a9Vj9SzMPT1r1WP1LMw9PWvVY/UszD09a9Vj9SzMPT1r1WP1LMw9PWvVY/UszD09a9Vj9SzMPT1r1WP1LMw9PWvVY/UszD09a9Vj9SzMPT1r1WP1LMw9PWvVY/UszD09a9Vj9SzMPT1r1WP1LMw9PWvVY/UszD09a9Vj9SzMPT1r1WP1LMw9PWvVY/UszD09a9Vj9SzMPT1r1WP1LMw9PWvVY/UszD09a9Vj9SzMPT1r1WP1LMw9PWvVY/UszD09a9Vj9SzMPT1r1WP1LMw9PWvVY/UszD09a9Vj9SzMPT1r1WP1LMw9PWvVY/UszD09a9Vj9SzMPT1r1WP1LMw9PWvVY/UszD09a9Vj9SzMPT1r1WP1LMw9PWvVY/UszD09a9Vj9SzMPT1r1WP1LMw9PWvVY/UszD09a9Vj9SzMPT1r1WP1LMw9PWvVY/UszD09a9Vj9SzMPT1r1WP1LMw9PWvVY/UszD09a9Vj9SzMPT1r1WP1LMw9PWvVY/UszD09a9Vj9SzMPT1r1WP1LMw9PWvVY/UszD09a9Vj9SzMPT1r1WP1LMw9PWvVY/UszD09a9Vj9SzMPT1r1WP1LMw9PWvVY/UszD09a9Vj9SzMPT1r1WP1LMw9PWvVY/UszD09a9Vj9SzMPT1r1WP1LMw9PWvVY/UszD09a9Vj9SzMPT1r1WP1LMw9PWvVY/UszD09a9Vj9SzMPT1r1WP1LMw9PWvVY/UszD09a9Vj9SzMPT1r1WP1LMw9PWvVY/UszD09a9Vj9SzMPT1r1WP1LMw9PWvVY/UszD09a9Vj9SzMPT1r1WP1LMw9PWvVY/UszD09a9Vj9SzMPT1r1WP1LMw9PWvVY/UszD09a9Vj9SzMPT1r1WP1LMw9PWvVY/UszD09a9Vj9SzMPT1r1WP1LMw9PWvVY/UszD09a9Vj9SzMPT1r1WP1LMw9PWvVY/UszD09a9Vj9SzMPT1r1WP8N1EMwi6lU/w3UQzCLqVT/DdRDMIupVP8N1EMwi6lU/w3UQzCLqVT/DdRDMIupVP8N1EMwi6lU/w3UQzCLqVT/DdRDMIupVP8N1EMwi6lU/w3UQzCLqVT/DdRDMIupVP8N1EMwi6lU/w3UQzCLqVT/DdRDMIupVP8N1EMwi6lU/w3UQzCLqVT/DdRDMIupVP8N1EMwi6lU/w3UQzCLqVT/DdRDMIupVP8N1EMwi6lU/w3UQzCLqVT/DdRDMIupVP8N1EMwi6lU/w3UQzCLqVT/DdRDMIupVP8N1EMwi6lU/w3UQzCLqVT/DdRDMIupVP8N1EMwi6lU/w3UQzCLqVT/DdRDMIupVP8N1EMwi6lU/w3UQzCLqVT/DdRDMIupVP8N1EMwi6lU/w3UQzCLqVT/DdRDMIupVP8N1EMwi6lU/w3UQzCLqVT/DdRDMIupVP8N1EMwi6lU/w3UQzCLqVT/DdRDMIupVP8N1EMwi6lU/w3UQzCLqVT/DdRDMIupVP8N1EMwi6lU/w3UQzCLqVT/DdRDMIupVP8N1EMwi6lU/w3UQzCLqVT/DdRDMIupVP8N1EMwi6lU/w3UQzCLqVT/DdRDMIupVP8N1EMwi6lU/w3UQzCLqVT/DdRDMIupVP8N1EMwi6lU/w3UQzCLqVT/DdRDMIupVP8N1EMwi6lU/w3UQzCLqVT/DdRDMIupVP8N1EMwi6lU/w3UQzCLqVT/DdRDMIupVP8N1EMwi6lU/w3UQzCLqVT/DdRDMIupVP8N1EMwi6lU/w3UQzCLqVT/DdRDMIupVP8N1EMwi6lU/w3UQzCLqVT/DdRDMIupVP8N1EMwi6lU/w3UQzCLqVT/DdRDMIupVP8N1EMwi6lU/w3UQzCLqVT/DdRDMIupVP8N1EMwi6lU/w3UQzCLqVT/DdRDMIupVP8N1EMwi6lU/w3UQzCLqVT/DdRDMIupVP8N1EMwi6lU/w3UQzCLqVT/DdRDMIupVP8N1EMwi6lU/w3UQzCLqVT/DdRDMIupVP8N1EMwi6lU/w3UQzCLqVT/DdRDMIupVP8N1EMwi6lU/NR9dxG4WVT81H13EbhZVPzUfXcRuFlU/NR9dxG4WVT81H13EbhZVPzUfXcRuFlU/NR9dxG4WVT81H13EbhZVPzUfXcRuFlU/NR9dxG4WVT81H13EbhZVPzUfXcRuFlU/NR9dxG4WVT81H13EbhZVPzUfXcRuFlU/NR9dxG4WVT81H13EbhZVPzUfXcRuFlU/NR9dxG4WVT81H13EbhZVPzUfXcRuFlU/NR9dxG4WVT81H13EbhZVPzUfXcRuFlU/NR9dxG4WVT81H13EbhZVPzUfXcRuFlU/NR9dxG4WVT81H13EbhZVPzUfXcRuFlU/NR9dxG4WVT81H13EbhZVPzUfXcRuFlU/NR9dxG4WVT81H13EbhZVPzUfXcRuFlU/NR9dxG4WVT81H13EbhZVPzUfXcRuFlU/NR9dxG4WVT81H13EbhZVPzUfXcRuFlU/NR9dxG4WVT81H13EbhZVPzUfXcRuFlU/NR9dxG4WVT81H13EbhZVPzUfXcRuFlU/NR9dxG4WVT81H13EbhZVPzUfXcRuFlU/NR9dxG4WVT81H13EbhZVPzUfXcRuFlU/NR9dxG4WVT81H13EbhZVPzUfXcRuFlU/NR9dxG4WVT81H13EbhZVPzUfXcRuFlU/NR9dxG4WVT81H13EbhZVPzUfXcRuFlU/NR9dxG4WVT81H13EbhZVPzUfXcRuFlU/NR9dxG4WVT81H13EbhZVPzUfXcRuFlU/NR9dxG4WVT81H13EbhZVPzUfXcRuFlU/NR9dxG4WVT81H13EbhZVPzUfXcRuFlU/NR9dxG4WVT81H13EbhZVPzUfXcRuFlU/NR9dxG4WVT81H13EbhZVPzUfXcRuFlU/NR9dxG4WVT81H13EbhZVPzUfXcRuFlU/NR9dxG4WVT81H13EbhZVPzUfXcRuFlU/NR9dxG4WVT81H13EbhZVPzUfXcRuFlU/NR9dxG4WVT81H13EbhZVPzUfXcRuFlU/NR9dxG4WVT81H13EbhZVPzUfXcRuFlU/NR9dxG4WVT81H13EbhZVPzUfXcRuFlU/NR9dxG4WVT+myKm8ukJUP6bIqby6QlQ/psipvLpCVD+myKm8ukJUP6bIqby6QlQ/psipvLpCVD+myKm8ukJUP6bIqby6QlQ/psipvLpCVD+myKm8ukJUP6bIqby6QlQ/psipvLpCVD+myKm8ukJUP6bIqby6QlQ/psipvLpCVD+myKm8ukJUP6bIqby6QlQ/psipvLpCVD+myKm8ukJUP6bIqby6QlQ/psipvLpCVD+myKm8ukJUP6bIqby6QlQ/psipvLpCVD+myKm8ukJUP6bIqby6QlQ/psipvLpCVD+myKm8ukJUP6bIqby6QlQ/psipvLpCVD+myKm8ukJUP6bIqby6QlQ/psipvLpCVD+myKm8ukJUP6bIqby6QlQ/psipvLpCVD+myKm8ukJUP6bIqby6QlQ/psipvLpCVD+myKm8ukJUP6bIqby6QlQ/psipvLpCVD+myKm8ukJUP6bIqby6QlQ/psipvLpCVD+myKm8ukJUP6bIqby6QlQ/psipvLpCVD+myKm8ukJUP6bIqby6QlQ/psipvLpCVD+myKm8ukJUP6bIqby6QlQ/psipvLpCVD+myKm8ukJUP6bIqby6QlQ/psipvLpCVD+myKm8ukJUP6bIqby6QlQ/psipvLpCVD+myKm8ukJUP6bIqby6QlQ/psipvLpCVD+myKm8ukJUP6bIqby6QlQ/psipvLpCVD+myKm8ukJUP6bIqby6QlQ/psipvLpCVD+myKm8ukJUP6bIqby6QlQ/psipvLpCVD+myKm8ukJUP6bIqby6QlQ/psipvLpCVD+myKm8ukJUP6bIqby6QlQ/psipvLpCVD+myKm8ukJUP6bIqby6QlQ/psipvLpCVD+myKm8ukJUP6bIqby6QlQ/psipvLpCVD+myKm8ukJUP6bIqby6QlQ/psipvLpCVD+myKm8ukJUP6bIqby6QlQ/psipvLpCVD+myKm8ukJUP6bIqby6QlQ/psipvLpCVD+myKm8ukJUP6bIqby6QlQ/psipvLpCVD+myKm8ukJUP6bIqby6QlQ/psipvLpCVD+myKm8ukJUPxdy9rQGb1M/F3L2tAZvUz8Xcva0Bm9TPxdy9rQGb1M/F3L2tAZvUz8Xcva0Bm9TPxdy9rQGb1M/F3L2tAZvUz8Xcva0Bm9TPxdy9rQGb1M/F3L2tAZvUz8Xcva0Bm9TPxdy9rQGb1M/F3L2tAZvUz8Xcva0Bm9TPxdy9rQGb1M/F3L2tAZvUz8Xcva0Bm9TPxdy9rQGb1M/F3L2tAZvUz8Xcva0Bm9TPxdy9rQGb1M/F3L2tAZvUz8Xcva0Bm9TPxdy9rQGb1M/F3L2tAZvUz8Xcva0Bm9TPxdy9rQGb1M/F3L2tAZvUz8Xcva0Bm9TPxdy9rQGb1M/F3L2tAZvUz8Xcva0Bm9TPxdy9rQGb1M/F3L2tAZvUz8Xcva0Bm9TPxdy9rQGb1M/F3L2tAZvUz8Xcva0Bm9TPxdy9rQGb1M/F3L2tAZvUz8Xcva0Bm9TPxdy9rQGb1M/F3L2tAZvUz8Xcva0Bm9TPxdy9rQGb1M/F3L2tAZvUz8Xcva0Bm9TPxdy9rQGb1M/F3L2tAZvUz8Xcva0Bm9TPxdy9rQGb1M/F3L2tAZvUz8Xcva0Bm9TPxdy9rQGb1M/F3L2tAZvUz8Xcva0Bm9TPxdy9rQGb1M/F3L2tAZvUz8Xcva0Bm9TPxdy9rQGb1M/F3L2tAZvUz8Xcva0Bm9TPxdy9rQGb1M/F3L2tAZvUz8Xcva0Bm9TPxdy9rQGb1M/F3L2tAZvUz8Xcva0Bm9TPxdy9rQGb1M/F3L2tAZvUz8Xcva0Bm9TPxdy9rQGb1M/F3L2tAZvUz8Xcva0Bm9TPxdy9rQGb1M/F3L2tAZvUz8Xcva0Bm9TPxdy9rQGb1M/F3L2tAZvUz8Xcva0Bm9TPxdy9rQGb1M/F3L2tAZvUz8Xcva0Bm9TPxdy9rQGb1M/F3L2tAZvUz8Xcva0Bm9TPxdy9rQGb1M/F3L2tAZvUz8Xcva0Bm9TPxdy9rQGb1M/F3L2tAZvUz8Xcva0Bm9TPxdy9rQGb1M/F3L2tAZvUz8Xcva0Bm9TPxdy9rQGb1M/F3L2tAZvUz8Xcva0Bm9TPxdy9rQGb1M/iRtDrVKbUj+JG0OtUptSP4kbQ61Sm1I/iRtDrVKbUj+JG0OtUptSP4kbQ61Sm1I/iRtDrVKbUj+JG0OtUptSP4kbQ61Sm1I/iRtDrVKbUj+JG0OtUptSP4kbQ61Sm1I/iRtDrVKbUj+JG0OtUptSP4kbQ61Sm1I/iRtDrVKbUj+JG0OtUptSP4kbQ61Sm1I/iRtDrVKbUj+JG0OtUptSP4kbQ61Sm1I/iRtDrVKbUj+JG0OtUptSP4kbQ61Sm1I/iRtDrVKbUj+JG0OtUptSP4kbQ61Sm1I/iRtDrVKbUj+JG0OtUptSP4kbQ61Sm1I/iRtDrVKbUj+JG0OtUptSP4kbQ61Sm1I/iRtDrVKbUj+JG0OtUptSP4kbQ61Sm1I/iRtDrVKbUj+JG0OtUptSP4kbQ61Sm1I/iRtDrVKbUj+JG0OtUptSP4kbQ61Sm1I/iRtDrVKbUj+JG0OtUptSP4kbQ61Sm1I/iRtDrVKbUj+JG0OtUptSP4kbQ61Sm1I/iRtDrVKbUj+JG0OtUptSP4kbQ61Sm1I/iRtDrVKbUj+JG0OtUptSP4kbQ61Sm1I/iRtDrVKbUj+JG0OtUptSP4kbQ61Sm1I/iRtDrVKbUj+JG0OtUptSP4kbQ61Sm1I/iRtDrVKbUj+JG0OtUptSP4kbQ61Sm1I/iRtDrVKbUj+JG0OtUptSP4kbQ61Sm1I/iRtDrVKbUj+JG0OtUptSP4kbQ61Sm1I/iRtDrVKbUj+JG0OtUptSP4kbQ61Sm1I/iRtDrVKbUj+JG0OtUptSP4kbQ61Sm1I/iRtDrVKbUj+JG0OtUptSP4kbQ61Sm1I/iRtDrVKbUj+JG0OtUptSP4kbQ61Sm1I/iRtDrVKbUj+JG0OtUptSP4kbQ61Sm1I/iRtDrVKbUj+JG0OtUptSP4kbQ61Sm1I/iRtDrVKbUj+JG0OtUptSP4kbQ61Sm1I/iRtDrVKbUj+JG0OtUptSP4kbQ61Sm1I/iRtDrVKbUj+JG0OtUptSP4kbQ61Sm1I/iRtDrVKbUj+JG0OtUptSP4kbQ61Sm1I/iRtDrVKbUj/6xI+lnsdRP/rEj6Wex1E/+sSPpZ7HUT/6xI+lnsdRP/rEj6Wex1E/+sSPpZ7HUT/6xI+lnsdRP/rEj6Wex1E/+sSPpZ7HUT/6xI+lnsdRP/rEj6Wex1E/+sSPpZ7HUT/6xI+lnsdRP/rEj6Wex1E/+sSPpZ7HUT/6xI+lnsdRP/rEj6Wex1E/+sSPpZ7HUT/6xI+lnsdRP/rEj6Wex1E/+sSPpZ7HUT/6xI+lnsdRP/rEj6Wex1E/+sSPpZ7HUT/6xI+lnsdRP/rEj6Wex1E/+sSPpZ7HUT/6xI+lnsdRP/rEj6Wex1E/+sSPpZ7HUT/6xI+lnsdRP/rEj6Wex1E/+sSPpZ7HUT/6xI+lnsdRP/rEj6Wex1E/+sSPpZ7HUT/6xI+lnsdRP/rEj6Wex1E/+sSPpZ7HUT/6xI+lnsdRP/rEj6Wex1E/+sSPpZ7HUT/6xI+lnsdRP/rEj6Wex1E/+sSPpZ7HUT/6xI+lnsdRP/rEj6Wex1E/+sSPpZ7HUT/6xI+lnsdRP/rEj6Wex1E/+sSPpZ7HUT/6xI+lnsdRP/rEj6Wex1E/+sSPpZ7HUT/6xI+lnsdRP/rEj6Wex1E/+sSPpZ7HUT/6xI+lnsdRP/rEj6Wex1E/+sSPpZ7HUT/6xI+lnsdRP/rEj6Wex1E/+sSPpZ7HUT/6xI+lnsdRP/rEj6Wex1E/+sSPpZ7HUT/6xI+lnsdRP/rEj6Wex1E/+sSPpZ7HUT/6xI+lnsdRP/rEj6Wex1E/+sSPpZ7HUT/6xI+lnsdRP/rEj6Wex1E/+sSPpZ7HUT/6xI+lnsdRP/rEj6Wex1E/+sSPpZ7HUT/6xI+lnsdRP/rEj6Wex1E/+sSPpZ7HUT/6xI+lnsdRP/rEj6Wex1E/+sSPpZ7HUT/6xI+lnsdRP/rEj6Wex1E/+sSPpZ7HUT/6xI+lnsdRP/rEj6Wex1E/+sSPpZ7HUT/6xI+lnsdRP/rEj6Wex1E/+sSPpZ7HUT/6xI+lnsdRP/rEj6Wex1E/+sSPpZ7HUT/6xI+lnsdRP/rEj6Wex1E/+sSPpZ7HUT/6xI+lnsdRP2xu3J3q81A/bG7cnerzUD9sbtyd6vNQP2xu3J3q81A/bG7cnerzUD9sbtyd6vNQP2xu3J3q81A/bG7cnerzUD9sbtyd6vNQP2xu3J3q81A/bG7cnerzUD9sbtyd6vNQP2xu3J3q81A/bG7cnerzUD9sbtyd6vNQP2xu3J3q81A/bG7cnerzUD9sbtyd6vNQP2xu3J3q81A/bG7cnerzUD9sbtyd6vNQP2xu3J3q81A/bG7cnerzUD9sbtyd6vNQP2xu3J3q81A/bG7cnerzUD9sbtyd6vNQP2xu3J3q81A/bG7cnerzUD9sbtyd6vNQP2xu3J3q81A/bG7cnerzUD9sbtyd6vNQP2xu3J3q81A/bG7cnerzUD9sbtyd6vNQP2xu3J3q81A/bG7cnerzUD9sbtyd6vNQP2xu3J3q81A/bG7cnerzUD9sbtyd6vNQP2xu3J3q81A/bG7cnerzUD9sbtyd6vNQP2xu3J3q81A/bG7cnerzUD9sbtyd6vNQP2xu3J3q81A/bG7cnerzUD9sbtyd6vNQP2xu3J3q81A/bG7cnerzUD9sbtyd6vNQP2xu3J3q81A/bG7cnerzUD9sbtyd6vNQP2xu3J3q81A/bG7cnerzUD9sbtyd6vNQP2xu3J3q81A/bG7cnerzUD9sbtyd6vNQP2xu3J3q81A/bG7cnerzUD9sbtyd6vNQP2xu3J3q81A/bG7cnerzUD9sbtyd6vNQP2xu3J3q81A/bG7cnerzUD9sbtyd6vNQP2xu3J3q81A/bG7cnerzUD9sbtyd6vNQP2xu3J3q81A/bG7cnerzUD9sbtyd6vNQP2xu3J3q81A/bG7cnerzUD9sbtyd6vNQP2xu3J3q81A/bG7cnerzUD9sbtyd6vNQP2xu3J3q81A/bG7cnerzUD9sbtyd6vNQP2xu3J3q81A/bG7cnerzUD9sbtyd6vNQP2xu3J3q81A/bG7cnerzUD9sbtyd6vNQP2xu3J3q81A/bG7cnerzUD9sbtyd6vNQP2xu3J3q81A/bG7cnerzUD9sbtyd6vNQP2xu3J3q81A/5hcpljYgUD/mFymWNiBQP+YXKZY2IFA/5hcpljYgUD/mFymWNiBQP+YXKZY2IFA/5hcpljYgUD/mFymWNiBQP+YXKZY2IFA/5hcpljYgUD/mFymWNiBQP+YXKZY2IFA/5hcpljYgUD/mFymWNiBQP+YXKZY2IFA/5hcpljYgUD/mFymWNiBQP+YXKZY2IFA/5hcpljYgUD/mFymWNiBQP+YXKZY2IFA/5hcpljYgUD/mFymWNiBQP+YXKZY2IFA/5hcpljYgUD/mFymWNiBQP+YXKZY2IFA/5hcpljYgUD/mFymWNiBQP+YXKZY2IFA/5hcpljYgUD/mFymWNiBQP+YXKZY2IFA/5hcpljYgUD/mFymWNiBQP+YXKZY2IFA/5hcpljYgUD/mFymWNiBQP+YXKZY2IFA/5hcpljYgUD/mFymWNiBQP+YXKZY2IFA/5hcpljYgUD/mFymWNiBQP+YXKZY2IFA/5hcpljYgUD/mFymWNiBQP+YXKZY2IFA/5hcpljYgUD/mFymWNiBQP+YXKZY2IFA/5hcpljYgUD/mFymWNiBQP+YXKZY2IFA/5hcpljYgUD/mFymWNiBQP+YXKZY2IFA/5hcpljYgUD/mFymWNiBQP+YXKZY2IFA/5hcpljYgUD/mFymWNiBQP+YXKZY2IFA/5hcpljYgUD/mFymWNiBQP+YXKZY2IFA/5hcpljYgUD/mFymWNiBQP+YXKZY2IFA/5hcpljYgUD/mFymWNiBQP+YXKZY2IFA/5hcpljYgUD/mFymWNiBQP+YXKZY2IFA/5hcpljYgUD/mFymWNiBQP+YXKZY2IFA/5hcpljYgUD/mFymWNiBQP+YXKZY2IFA/5hcpljYgUD/mFymWNiBQP+YXKZY2IFA/5hcpljYgUD/mFymWNiBQP+YXKZY2IFA/5hcpljYgUD/mFymWNiBQP+YXKZY2IFA/5hcpljYgUD/mFymWNiBQP+YXKZY2IFA/5hcpljYgUD/mFymWNiBQP+YXKZY2IFA/5hcpljYgUD/mFymWNiBQP+YXKZY2IFA/5hcpljYgUD+vguscBZlOP6+C6xwFmU4/r4LrHAWZTj+vguscBZlOP6+C6xwFmU4/r4LrHAWZTj+vguscBZlOP6+C6xwFmU4/r4LrHAWZTj+vguscBZlOP6+C6xwFmU4/r4LrHAWZTj+vguscBZlOP6+C6xwFmU4/r4LrHAWZTj+vguscBZlOP6+C6xwFmU4/r4LrHAWZTj+vguscBZlOP6+C6xwFmU4/r4LrHAWZTj+vguscBZlOP6+C6xwFmU4/r4LrHAWZTj+vguscBZlOP6+C6xwFmU4/r4LrHAWZTj+vguscBZlOP6+C6xwFmU4/r4LrHAWZTj+vguscBZlOP6+C6xwFmU4/r4LrHAWZTj+vguscBZlOP6+C6xwFmU4/r4LrHAWZTj+vguscBZlOP6+C6xwFmU4/r4LrHAWZTj+vguscBZlOP6+C6xwFmU4/r4LrHAWZTj+vguscBZlOP6+C6xwFmU4/r4LrHAWZTj+vguscBZlOP6+C6xwFmU4/r4LrHAWZTj+vguscBZlOP6+C6xwFmU4/r4LrHAWZTj+vguscBZlOP6+C6xwFmU4/r4LrHAWZTj+vguscBZlOP6+C6xwFmU4/r4LrHAWZTj+vguscBZlOP6+C6xwFmU4/r4LrHAWZTj+vguscBZlOP6+C6xwFmU4/r4LrHAWZTj+vguscBZlOP6+C6xwFmU4/r4LrHAWZTj+vguscBZlOP6+C6xwFmU4/r4LrHAWZTj+vguscBZlOP6+C6xwFmU4/r4LrHAWZTj+vguscBZlOP6+C6xwFmU4/r4LrHAWZTj+vguscBZlOP6+C6xwFmU4/r4LrHAWZTj+vguscBZlOP6+C6xwFmU4/r4LrHAWZTj+vguscBZlOP6+C6xwFmU4/r4LrHAWZTj+vguscBZlOP6+C6xwFmU4/r4LrHAWZTj+vguscBZlOP6+C6xwFmU4/r4LrHAWZTj+vguscBZlOP6+C6xwFmU4/r4LrHAWZTj+vguscBZlOP6+C6xwFmU4/r4LrHAWZTj+vguscBZlOP6+C6xwFmU4/r4LrHAWZTj+vguscBZlOP4nVhA2d8Uw/idWEDZ3xTD+J1YQNnfFMP4nVhA2d8Uw/idWEDZ3xTD+J1YQNnfFMP4nVhA2d8Uw/idWEDZ3xTD+J1YQNnfFMP4nVhA2d8Uw/idWEDZ3xTD+J1YQNnfFMP4nVhA2d8Uw/idWEDZ3xTD+J1YQNnfFMP4nVhA2d8Uw/idWEDZ3xTD+J1YQNnfFMP4nVhA2d8Uw/idWEDZ3xTD+J1YQNnfFMP4nVhA2d8Uw/idWEDZ3xTD+J1YQNnfFMP4nVhA2d8Uw/idWEDZ3xTD+J1YQNnfFMP4nVhA2d8Uw/idWEDZ3xTD+J1YQNnfFMP4nVhA2d8Uw/idWEDZ3xTD+J1YQNnfFMP4nVhA2d8Uw/idWEDZ3xTD+J1YQNnfFMP4nVhA2d8Uw/idWEDZ3xTD+J1YQNnfFMP4nVhA2d8Uw/idWEDZ3xTD+J1YQNnfFMP4nVhA2d8Uw/idWEDZ3xTD+J1YQNnfFMP4nVhA2d8Uw/idWEDZ3xTD+J1YQNnfFMP4nVhA2d8Uw/idWEDZ3xTD+J1YQNnfFMP4nVhA2d8Uw/idWEDZ3xTD+J1YQNnfFMP4nVhA2d8Uw/idWEDZ3xTD+J1YQNnfFMP4nVhA2d8Uw/idWEDZ3xTD+J1YQNnfFMP4nVhA2d8Uw/idWEDZ3xTD+J1YQNnfFMP4nVhA2d8Uw/idWEDZ3xTD+J1YQNnfFMP4nVhA2d8Uw/idWEDZ3xTD+J1YQNnfFMP4nVhA2d8Uw/idWEDZ3xTD+J1YQNnfFMP4nVhA2d8Uw/idWEDZ3xTD+J1YQNnfFMP4nVhA2d8Uw/idWEDZ3xTD+J1YQNnfFMP4nVhA2d8Uw/idWEDZ3xTD+J1YQNnfFMP4nVhA2d8Uw/idWEDZ3xTD+J1YQNnfFMP4nVhA2d8Uw/idWEDZ3xTD+J1YQNnfFMP4nVhA2d8Uw/idWEDZ3xTD+J1YQNnfFMP4nVhA2d8Uw/idWEDZ3xTD+J1YQNnfFMP4nVhA2d8Uw/idWEDZ3xTD+J1YQNnfFMP4nVhA2d8Uw/idWEDZ3xTD+J1YQNnfFMP4nVhA2d8Uw/ayge/jRKSz9rKB7+NEpLP2soHv40Sks/ayge/jRKSz9rKB7+NEpLP2soHv40Sks/ayge/jRKSz9rKB7+NEpLP2soHv40Sks/ayge/jRKSz9rKB7+NEpLP2soHv40Sks/ayge/jRKSz9rKB7+NEpLP2soHv40Sks/ayge/jRKSz9rKB7+NEpLP2soHv40Sks/ayge/jRKSz9rKB7+NEpLP2soHv40Sks/ayge/jRKSz9rKB7+NEpLP2soHv40Sks/ayge/jRKSz9rKB7+NEpLP2soHv40Sks/ayge/jRKSz9rKB7+NEpLP2soHv40Sks/ayge/jRKSz9rKB7+NEpLP2soHv40Sks/ayge/jRKSz9rKB7+NEpLP2soHv40Sks/ayge/jRKSz9rKB7+NEpLP2soHv40Sks/ayge/jRKSz9rKB7+NEpLP2soHv40Sks/ayge/jRKSz9rKB7+NEpLP2soHv40Sks/ayge/jRKSz9rKB7+NEpLP2soHv40Sks/ayge/jRKSz9rKB7+NEpLP2soHv40Sks/ayge/jRKSz9rKB7+NEpLP2soHv40Sks/ayge/jRKSz9rKB7+NEpLP2soHv40Sks/ayge/jRKSz9rKB7+NEpLP2soHv40Sks/ayge/jRKSz9rKB7+NEpLP2soHv40Sks/ayge/jRKSz9rKB7+NEpLP2soHv40Sks/ayge/jRKSz9rKB7+NEpLP2soHv40Sks/ayge/jRKSz9rKB7+NEpLP2soHv40Sks/ayge/jRKSz9rKB7+NEpLP2soHv40Sks/ayge/jRKSz9rKB7+NEpLP2soHv40Sks/ayge/jRKSz9rKB7+NEpLP2soHv40Sks/ayge/jRKSz9rKB7+NEpLP2soHv40Sks/ayge/jRKSz9rKB7+NEpLP2soHv40Sks/ayge/jRKSz9rKB7+NEpLP2soHv40Sks/ayge/jRKSz9rKB7+NEpLP2soHv40Sks/ayge/jRKSz9rKB7+NEpLP2soHv40Sks/ayge/jRKSz9rKB7+NEpLP2soHv40Sks/ayge/jRKSz9Oe7fuzKJJP057t+7Mokk/Tnu37syiST9Oe7fuzKJJP057t+7Mokk/Tnu37syiST9Oe7fuzKJJP057t+7Mokk/Tnu37syiST9Oe7fuzKJJP057t+7Mokk/Tnu37syiST9Oe7fuzKJJP057t+7Mokk/Tnu37syiST9Oe7fuzKJJP057t+7Mokk/Tnu37syiST9Oe7fuzKJJP057t+7Mokk/Tnu37syiST9Oe7fuzKJJP057t+7Mokk/Tnu37syiST9Oe7fuzKJJP057t+7Mokk/Tnu37syiST9Oe7fuzKJJP057t+7Mokk/Tnu37syiST9Oe7fuzKJJP057t+7Mokk/Tnu37syiST9Oe7fuzKJJP057t+7Mokk/Tnu37syiST9Oe7fuzKJJP057t+7Mokk/Tnu37syiST9Oe7fuzKJJP057t+7Mokk/Tnu37syiST9Oe7fuzKJJP057t+7Mokk/Tnu37syiST9Oe7fuzKJJP057t+7Mokk/Tnu37syiST9Oe7fuzKJJP057t+7Mokk/Tnu37syiST9Oe7fuzKJJP057t+7Mokk/Tnu37syiST9Oe7fuzKJJP057t+7Mokk/Tnu37syiST9Oe7fuzKJJP057t+7Mokk/Tnu37syiST9Oe7fuzKJJP057t+7Mokk/Tnu37syiST9Oe7fuzKJJP057t+7Mokk/Tnu37syiST9Oe7fuzKJJP057t+7Mokk/Tnu37syiST9Oe7fuzKJJP057t+7Mokk/Tnu37syiST9Oe7fuzKJJP057t+7Mokk/Tnu37syiST9Oe7fuzKJJP057t+7Mokk/Tnu37syiST9Oe7fuzKJJP057t+7Mokk/Tnu37syiST9Oe7fuzKJJP057t+7Mokk/Tnu37syiST9Oe7fuzKJJP057t+7Mokk/Tnu37syiST9Oe7fuzKJJP057t+7Mokk/Tnu37syiST9Oe7fuzKJJP057t+7Mokk/Tnu37syiST9Oe7fuzKJJP057t+7Mokk/Tnu37syiST9Oe7fuzKJJP057t+7Mokk/Tnu37syiST9Oe7fuzKJJPzHOUN9k+0c/Mc5Q32T7Rz8xzlDfZPtHPzHOUN9k+0c/Mc5Q32T7Rz8xzlDfZPtHPzHOUN9k+0c/Mc5Q32T7Rz8xzlDfZPtHPzHOUN9k+0c/Mc5Q32T7Rz8xzlDfZPtHPzHOUN9k+0c/Mc5Q32T7Rz8xzlDfZPtHPzHOUN9k+0c/Mc5Q32T7Rz8xzlDfZPtHPzHOUN9k+0c/Mc5Q32T7Rz8xzlDfZPtHPzHOUN9k+0c/Mc5Q32T7Rz8xzlDfZPtHPzHOUN9k+0c/Mc5Q32T7Rz8xzlDfZPtHPzHOUN9k+0c/Mc5Q32T7Rz8xzlDfZPtHPzHOUN9k+0c/Mc5Q32T7Rz8xzlDfZPtHPzHOUN9k+0c/Mc5Q32T7Rz8xzlDfZPtHPzHOUN9k+0c/Mc5Q32T7Rz8xzlDfZPtHPzHOUN9k+0c/Mc5Q32T7Rz8xzlDfZPtHPzHOUN9k+0c/Mc5Q32T7Rz8xzlDfZPtHPzHOUN9k+0c/Mc5Q32T7Rz8xzlDfZPtHPzHOUN9k+0c/Mc5Q32T7Rz8xzlDfZPtHPzHOUN9k+0c/Mc5Q32T7Rz8xzlDfZPtHPzHOUN9k+0c/Mc5Q32T7Rz8xzlDfZPtHPzHOUN9k+0c/Mc5Q32T7Rz8xzlDfZPtHPzHOUN9k+0c/Mc5Q32T7Rz8xzlDfZPtHPzHOUN9k+0c/Mc5Q32T7Rz8xzlDfZPtHPzHOUN9k+0c/Mc5Q32T7Rz8xzlDfZPtHPzHOUN9k+0c/Mc5Q32T7Rz8xzlDfZPtHPzHOUN9k+0c/Mc5Q32T7Rz8xzlDfZPtHPzHOUN9k+0c/Mc5Q32T7Rz8xzlDfZPtHPzHOUN9k+0c/Mc5Q32T7Rz8xzlDfZPtHPzHOUN9k+0c/Mc5Q32T7Rz8xzlDfZPtHPzHOUN9k+0c/Mc5Q32T7Rz8xzlDfZPtHPzHOUN9k+0c/Mc5Q32T7Rz8xzlDfZPtHPzHOUN9k+0c/Mc5Q32T7Rz8xzlDfZPtHPzHOUN9k+0c/Mc5Q32T7Rz8xzlDfZPtHPzHOUN9k+0c/Mc5Q32T7Rz8xzlDfZPtHPzHOUN9k+0c/FCHqz/xTRj8UIerP/FNGPxQh6s/8U0Y/FCHqz/xTRj8UIerP/FNGPxQh6s/8U0Y/FCHqz/xTRj8UIerP/FNGPxQh6s/8U0Y/FCHqz/xTRj8UIerP/FNGPxQh6s/8U0Y/FCHqz/xTRj8UIerP/FNGPxQh6s/8U0Y/FCHqz/xTRj8UIerP/FNGPxQh6s/8U0Y/FCHqz/xTRj8UIerP/FNGPxQh6s/8U0Y/FCHqz/xTRj8UIerP/FNGPxQh6s/8U0Y/FCHqz/xTRj8UIerP/FNGPxQh6s/8U0Y/FCHqz/xTRj8UIerP/FNGPxQh6s/8U0Y/FCHqz/xTRj8UIerP/FNGPxQh6s/8U0Y/FCHqz/xTRj8UIerP/FNGPxQh6s/8U0Y/FCHqz/xTRj8UIerP/FNGPxQh6s/8U0Y/FCHqz/xTRj8UIerP/FNGPxQh6s/8U0Y/FCHqz/xTRj8UIerP/FNGPxQh6s/8U0Y/FCHqz/xTRj8UIerP/FNGPxQh6s/8U0Y/FCHqz/xTRj8UIerP/FNGPxQh6s/8U0Y/FCHqz/xTRj8UIerP/FNGPxQh6s/8U0Y/FCHqz/xTRj8UIerP/FNGPxQh6s/8U0Y/FCHqz/xTRj8UIerP/FNGPxQh6s/8U0Y/FCHqz/xTRj8UIerP/FNGPxQh6s/8U0Y/FCHqz/xTRj8UIerP/FNGPxQh6s/8U0Y/FCHqz/xTRj8UIerP/FNGPxQh6s/8U0Y/FCHqz/xTRj8UIerP/FNGPxQh6s/8U0Y/FCHqz/xTRj8UIerP/FNGPxQh6s/8U0Y/FCHqz/xTRj8UIerP/FNGPxQh6s/8U0Y/FCHqz/xTRj8UIerP/FNGPxQh6s/8U0Y/FCHqz/xTRj8UIerP/FNGPxQh6s/8U0Y/FCHqz/xTRj8UIerP/FNGPxQh6s/8U0Y/FCHqz/xTRj8UIerP/FNGPxQh6s/8U0Y/FCHqz/xTRj8UIerP/FNGPxQh6s/8U0Y/FCHqz/xTRj8UIerP/FNGPxQh6s/8U0Y/FCHqz/xTRj8UIerP/FNGPxQh6s/8U0Y/FCHqz/xTRj/2c4PAlKxEP/Zzg8CUrEQ/9nODwJSsRD/2c4PAlKxEP/Zzg8CUrEQ/9nODwJSsRD/2c4PAlKxEP/Zzg8CUrEQ/9nODwJSsRD/2c4PAlKxEP/Zzg8CUrEQ/9nODwJSsRD/2c4PAlKxEP/Zzg8CUrEQ/9nODwJSsRD/2c4PAlKxEP/Zzg8CUrEQ/9nODwJSsRD/2c4PAlKxEP/Zzg8CUrEQ/9nODwJSsRD/2c4PAlKxEP/Zzg8CUrEQ/9nODwJSsRD/2c4PAlKxEP/Zzg8CUrEQ/9nODwJSsRD/2c4PAlKxEP/Zzg8CUrEQ/9nODwJSsRD/2c4PAlKxEP/Zzg8CUrEQ/9nODwJSsRD/2c4PAlKxEP/Zzg8CUrEQ/9nODwJSsRD/2c4PAlKxEP/Zzg8CUrEQ/9nODwJSsRD/2c4PAlKxEP/Zzg8CUrEQ/9nODwJSsRD/2c4PAlKxEP/Zzg8CUrEQ/9nODwJSsRD/2c4PAlKxEP/Zzg8CUrEQ/9nODwJSsRD/2c4PAlKxEP/Zzg8CUrEQ/9nODwJSsRD/2c4PAlKxEP/Zzg8CUrEQ/9nODwJSsRD/2c4PAlKxEP/Zzg8CUrEQ/9nODwJSsRD/2c4PAlKxEP/Zzg8CUrEQ/9nODwJSsRD/2c4PAlKxEP/Zzg8CUrEQ/9nODwJSsRD/2c4PAlKxEP/Zzg8CUrEQ/9nODwJSsRD/2c4PAlKxEP/Zzg8CUrEQ/9nODwJSsRD/2c4PAlKxEP/Zzg8CUrEQ/9nODwJSsRD/2c4PAlKxEP/Zzg8CUrEQ/9nODwJSsRD/2c4PAlKxEP/Zzg8CUrEQ/9nODwJSsRD/2c4PAlKxEP/Zzg8CUrEQ/9nODwJSsRD/2c4PAlKxEP/Zzg8CUrEQ/9nODwJSsRD/2c4PAlKxEP/Zzg8CUrEQ/9nODwJSsRD/2c4PAlKxEP/Zzg8CUrEQ/9nODwJSsRD/2c4PAlKxEP/Zzg8CUrEQ/9nODwJSsRD/2c4PAlKxEP/Zzg8CUrEQ/9nODwJSsRD/2c4PAlKxEP/Zzg8CUrEQ/9nODwJSsRD/2c4PAlKxEP9nGHLEsBUM/2cYcsSwFQz/ZxhyxLAVDP9nGHLEsBUM/2cYcsSwFQz/ZxhyxLAVDP9nGHLEsBUM/2cYcsSwFQz/ZxhyxLAVDP9nGHLEsBUM/2cYcsSwFQz/ZxhyxLAVDP9nGHLEsBUM/2cYcsSwFQz/ZxhyxLAVDP9nGHLEsBUM/2cYcsSwFQz/ZxhyxLAVDP9nGHLEsBUM/2cYcsSwFQz/ZxhyxLAVDP9nGHLEsBUM/2cYcsSwFQz/ZxhyxLAVDP9nGHLEsBUM/2cYcsSwFQz/ZxhyxLAVDP9nGHLEsBUM/2cYcsSwFQz/ZxhyxLAVDP9nGHLEsBUM/2cYcsSwFQz/ZxhyxLAVDP9nGHLEsBUM/2cYcsSwFQz/ZxhyxLAVDP9nGHLEsBUM/2cYcsSwFQz/ZxhyxLAVDP9nGHLEsBUM/2cYcsSwFQz/ZxhyxLAVDP9nGHLEsBUM/2cYcsSwFQz/ZxhyxLAVDP9nGHLEsBUM/2cYcsSwFQz/ZxhyxLAVDP9nGHLEsBUM/2cYcsSwFQz/ZxhyxLAVDP9nGHLEsBUM/2cYcsSwFQz/ZxhyxLAVDP9nGHLEsBUM/2cYcsSwFQz/ZxhyxLAVDP9nGHLEsBUM/2cYcsSwFQz/ZxhyxLAVDP9nGHLEsBUM/2cYcsSwFQz/ZxhyxLAVDP9nGHLEsBUM/2cYcsSwFQz/ZxhyxLAVDP9nGHLEsBUM/2cYcsSwFQz/ZxhyxLAVDP9nGHLEsBUM/2cYcsSwFQz/ZxhyxLAVDP9nGHLEsBUM/2cYcsSwFQz/ZxhyxLAVDP9nGHLEsBUM/2cYcsSwFQz/ZxhyxLAVDP9nGHLEsBUM/2cYcsSwFQz/ZxhyxLAVDP9nGHLEsBUM/2cYcsSwFQz/ZxhyxLAVDP9nGHLEsBUM/2cYcsSwFQz/ZxhyxLAVDP9nGHLEsBUM/2cYcsSwFQz/ZxhyxLAVDP9nGHLEsBUM/2cYcsSwFQz/ZxhyxLAVDP9nGHLEsBUM/2cYcsSwFQz/ZxhyxLAVDP9nGHLEsBUM/2cYcsSwFQz/ZxhyxLAVDP9nGHLEsBUM/vBm2ocRdQT+8GbahxF1BP7wZtqHEXUE/vBm2ocRdQT+8GbahxF1BP7wZtqHEXUE/vBm2ocRdQT+8GbahxF1BP7wZtqHEXUE/vBm2ocRdQT+8GbahxF1BP7wZtqHEXUE/vBm2ocRdQT+8GbahxF1BP7wZtqHEXUE/vBm2ocRdQT+8GbahxF1BP7wZtqHEXUE/vBm2ocRdQT+8GbahxF1BP7wZtqHEXUE/vBm2ocRdQT+8GbahxF1BP7wZtqHEXUE/vBm2ocRdQT+8GbahxF1BP7wZtqHEXUE/vBm2ocRdQT+8GbahxF1BP7wZtqHEXUE/vBm2ocRdQT+8GbahxF1BP7wZtqHEXUE/vBm2ocRdQT+8GbahxF1BP7wZtqHEXUE/vBm2ocRdQT+8GbahxF1BP7wZtqHEXUE/vBm2ocRdQT+8GbahxF1BP7wZtqHEXUE/vBm2ocRdQT+8GbahxF1BP7wZtqHEXUE/vBm2ocRdQT+8GbahxF1BP7wZtqHEXUE/vBm2ocRdQT+8GbahxF1BP7wZtqHEXUE/vBm2ocRdQT+8GbahxF1BP7wZtqHEXUE/vBm2ocRdQT+8GbahxF1BP7wZtqHEXUE/vBm2ocRdQT+8GbahxF1BP7wZtqHEXUE/vBm2ocRdQT+8GbahxF1BP7wZtqHEXUE/vBm2ocRdQT+8GbahxF1BP7wZtqHEXUE/vBm2ocRdQT+8GbahxF1BP7wZtqHEXUE/vBm2ocRdQT+8GbahxF1BP7wZtqHEXUE/vBm2ocRdQT+8GbahxF1BP7wZtqHEXUE/vBm2ocRdQT+8GbahxF1BP7wZtqHEXUE/vBm2ocRdQT+8GbahxF1BP7wZtqHEXUE/vBm2ocRdQT+8GbahxF1BP7wZtqHEXUE/vBm2ocRdQT+8GbahxF1BP7wZtqHEXUE/vBm2ocRdQT+8GbahxF1BP7wZtqHEXUE/vBm2ocRdQT+8GbahxF1BP7wZtqHEXUE/vBm2ocRdQT+8GbahxF1BP7wZtqHEXUE/vBm2ocRdQT+8GbahxF1BP7wZtqHEXUE/vBm2ocRdQT8+2Z4kuWw/Pz7ZniS5bD8/PtmeJLlsPz8+2Z4kuWw/Pz7ZniS5bD8/PtmeJLlsPz8+2Z4kuWw/Pz7ZniS5bD8/PtmeJLlsPz8+2Z4kuWw/Pz7ZniS5bD8/PtmeJLlsPz8+2Z4kuWw/Pz7ZniS5bD8/PtmeJLlsPz8+2Z4kuWw/Pz7ZniS5bD8/PtmeJLlsPz8+2Z4kuWw/Pz7ZniS5bD8/PtmeJLlsPz8+2Z4kuWw/Pz7ZniS5bD8/PtmeJLlsPz8+2Z4kuWw/Pz7ZniS5bD8/PtmeJLlsPz8+2Z4kuWw/Pz7ZniS5bD8/PtmeJLlsPz8+2Z4kuWw/Pz7ZniS5bD8/PtmeJLlsPz8+2Z4kuWw/Pz7ZniS5bD8/PtmeJLlsPz8+2Z4kuWw/Pz7ZniS5bD8/PtmeJLlsPz8+2Z4kuWw/Pz7ZniS5bD8/PtmeJLlsPz8+2Z4kuWw/Pz7ZniS5bD8/PtmeJLlsPz8+2Z4kuWw/Pz7ZniS5bD8/PtmeJLlsPz8+2Z4kuWw/Pz7ZniS5bD8/PtmeJLlsPz8+2Z4kuWw/Pz7ZniS5bD8/PtmeJLlsPz8+2Z4kuWw/Pz7ZniS5bD8/PtmeJLlsPz8+2Z4kuWw/Pz7ZniS5bD8/PtmeJLlsPz8+2Z4kuWw/Pz7ZniS5bD8/PtmeJLlsPz8+2Z4kuWw/Pz7ZniS5bD8/PtmeJLlsPz8+2Z4kuWw/Pz7ZniS5bD8/PtmeJLlsPz8+2Z4kuWw/Pz7ZniS5bD8/PtmeJLlsPz8+2Z4kuWw/Pz7ZniS5bD8/PtmeJLlsPz8+2Z4kuWw/Pz7ZniS5bD8/PtmeJLlsPz8+2Z4kuWw/Pz7ZniS5bD8/PtmeJLlsPz8+2Z4kuWw/Pz7ZniS5bD8/PtmeJLlsPz8+2Z4kuWw/Pz7ZniS5bD8/PtmeJLlsPz8+2Z4kuWw/Pz7ZniS5bD8/PtmeJLlsPz8+2Z4kuWw/Pz7ZniS5bD8/PtmeJLlsPz8+2Z4kuWw/Pz7ZniS5bD8/PtmeJLlsPz8+2Z4kuWw/Pz7ZniS5bD8/PtmeJLlsPz8+2Z4kuWw/PwN/0QXpHTw/A3/RBekdPD8Df9EF6R08PwN/0QXpHTw/A3/RBekdPD8Df9EF6R08PwN/0QXpHTw/A3/RBekdPD8Df9EF6R08PwN/0QXpHTw/A3/RBekdPD8Df9EF6R08PwN/0QXpHTw/A3/RBekdPD8Df9EF6R08PwN/0QXpHTw/A3/RBekdPD8Df9EF6R08PwN/0QXpHTw/A3/RBekdPD8Df9EF6R08PwN/0QXpHTw/A3/RBekdPD8Df9EF6R08PwN/0QXpHTw/A3/RBekdPD8Df9EF6R08PwN/0QXpHTw/A3/RBekdPD8Df9EF6R08PwN/0QXpHTw/A3/RBekdPD8Df9EF6R08PwN/0QXpHTw/A3/RBekdPD8Df9EF6R08PwN/0QXpHTw/A3/RBekdPD8Df9EF6R08PwN/0QXpHTw/A3/RBekdPD8Df9EF6R08PwN/0QXpHTw/A3/RBekdPD8Df9EF6R08PwN/0QXpHTw/A3/RBekdPD8Df9EF6R08PwN/0QXpHTw/A3/RBekdPD8Df9EF6R08PwN/0QXpHTw/A3/RBekdPD8Df9EF6R08PwN/0QXpHTw/A3/RBekdPD8Df9EF6R08PwN/0QXpHTw/A3/RBekdPD8Df9EF6R08PwN/0QXpHTw/A3/RBekdPD8Df9EF6R08PwN/0QXpHTw/A3/RBekdPD8Df9EF6R08PwN/0QXpHTw/A3/RBekdPD8Df9EF6R08PwN/0QXpHTw/A3/RBekdPD8Df9EF6R08PwN/0QXpHTw/A3/RBekdPD8Df9EF6R08PwN/0QXpHTw/A3/RBekdPD8Df9EF6R08PwN/0QXpHTw/A3/RBekdPD8Df9EF6R08PwN/0QXpHTw/A3/RBekdPD8Df9EF6R08PwN/0QXpHTw/A3/RBekdPD8Df9EF6R08PwN/0QXpHTw/A3/RBekdPD8Df9EF6R08PwN/0QXpHTw/A3/RBekdPD8Df9EF6R08PwN/0QXpHTw/A3/RBekdPD8Df9EF6R08PwN/0QXpHTw/A3/RBekdPD8Df9EF6R08PwN/0QXpHTw/ySQE5xjPOD/JJATnGM84P8kkBOcYzzg/ySQE5xjPOD/JJATnGM84P8kkBOcYzzg/ySQE5xjPOD/JJATnGM84P8kkBOcYzzg/ySQE5xjPOD/JJATnGM84P8kkBOcYzzg/ySQE5xjPOD/JJATnGM84P8kkBOcYzzg/ySQE5xjPOD/JJATnGM84P8kkBOcYzzg/ySQE5xjPOD/JJATnGM84P8kkBOcYzzg/ySQE5xjPOD/JJATnGM84P8kkBOcYzzg/ySQE5xjPOD/JJATnGM84P8kkBOcYzzg/ySQE5xjPOD/JJATnGM84P8kkBOcYzzg/ySQE5xjPOD/JJATnGM84P8kkBOcYzzg/ySQE5xjPOD/JJATnGM84P8kkBOcYzzg/ySQE5xjPOD/JJATnGM84P8kkBOcYzzg/ySQE5xjPOD/JJATnGM84P8kkBOcYzzg/ySQE5xjPOD/JJATnGM84P8kkBOcYzzg/ySQE5xjPOD/JJATnGM84P8kkBOcYzzg/ySQE5xjPOD/JJATnGM84P8kkBOcYzzg/ySQE5xjPOD/JJATnGM84P8kkBOcYzzg/ySQE5xjPOD/JJATnGM84P8kkBOcYzzg/ySQE5xjPOD/JJATnGM84P8kkBOcYzzg/ySQE5xjPOD/JJATnGM84P8kkBOcYzzg/ySQE5xjPOD/JJATnGM84P8kkBOcYzzg/ySQE5xjPOD/JJATnGM84P8kkBOcYzzg/ySQE5xjPOD/JJATnGM84P8kkBOcYzzg/ySQE5xjPOD/JJATnGM84P8kkBOcYzzg/ySQE5xjPOD/JJATnGM84P8kkBOcYzzg/ySQE5xjPOD/JJATnGM84P8kkBOcYzzg/ySQE5xjPOD/JJATnGM84P8kkBOcYzzg/ySQE5xjPOD/JJATnGM84P8kkBOcYzzg/ySQE5xjPOD/JJATnGM84P8kkBOcYzzg/ySQE5xjPOD/JJATnGM84P8kkBOcYzzg/ySQE5xjPOD/JJATnGM84P8kkBOcYzzg/ySQE5xjPOD/JJATnGM84P8kkBOcYzzg/ySQE5xjPOD98yjbISIA1P3zKNshIgDU/fMo2yEiANT98yjbISIA1P3zKNshIgDU/fMo2yEiANT98yjbISIA1P3zKNshIgDU/fMo2yEiANT98yjbISIA1P3zKNshIgDU/fMo2yEiANT98yjbISIA1P3zKNshIgDU/fMo2yEiANT98yjbISIA1P3zKNshIgDU/fMo2yEiANT98yjbISIA1P3zKNshIgDU/fMo2yEiANT98yjbISIA1P3zKNshIgDU/fMo2yEiANT98yjbISIA1P3zKNshIgDU/fMo2yEiANT98yjbISIA1P3zKNshIgDU/fMo2yEiANT98yjbISIA1P3zKNshIgDU/fMo2yEiANT98yjbISIA1P3zKNshIgDU/fMo2yEiANT98yjbISIA1P3zKNshIgDU/fMo2yEiANT98yjbISIA1P3zKNshIgDU/fMo2yEiANT98yjbISIA1P3zKNshIgDU/fMo2yEiANT98yjbISIA1P3zKNshIgDU/fMo2yEiANT98yjbISIA1P3zKNshIgDU/fMo2yEiANT98yjbISIA1P3zKNshIgDU/fMo2yEiANT98yjbISIA1P3zKNshIgDU/fMo2yEiANT98yjbISIA1P3zKNshIgDU/fMo2yEiANT98yjbISIA1P3zKNshIgDU/fMo2yEiANT98yjbISIA1P3zKNshIgDU/fMo2yEiANT98yjbISIA1P3zKNshIgDU/fMo2yEiANT98yjbISIA1P3zKNshIgDU/fMo2yEiANT98yjbISIA1P3zKNshIgDU/fMo2yEiANT98yjbISIA1P3zKNshIgDU/fMo2yEiANT98yjbISIA1P3zKNshIgDU/fMo2yEiANT98yjbISIA1P3zKNshIgDU/fMo2yEiANT98yjbISIA1P3zKNshIgDU/fMo2yEiANT98yjbISIA1P3zKNshIgDU/fMo2yEiANT98yjbISIA1P3zKNshIgDU/fMo2yEiANT98yjbISIA1P3zKNshIgDU/fMo2yEiANT98yjbISIA1P3zKNshIgDU/fMo2yEiANT98yjbISIA1P1Rwaal4MTI/VHBpqXgxMj9UcGmpeDEyP1Rwaal4MTI/VHBpqXgxMj9UcGmpeDEyP1Rwaal4MTI/VHBpqXgxMj9UcGmpeDEyP1Rwaal4MTI/VHBpqXgxMj9UcGmpeDEyP1Rwaal4MTI/VHBpqXgxMj9UcGmpeDEyP1Rwaal4MTI/VHBpqXgxMj9UcGmpeDEyP1Rwaal4MTI/VHBpqXgxMj9UcGmpeDEyP1Rwaal4MTI/VHBpqXgxMj9UcGmpeDEyP1Rwaal4MTI/VHBpqXgxMj9UcGmpeDEyP1Rwaal4MTI/VHBpqXgxMj9UcGmpeDEyP1Rwaal4MTI/VHBpqXgxMj9UcGmpeDEyP1Rwaal4MTI/VHBpqXgxMj9UcGmpeDEyP1Rwaal4MTI/VHBpqXgxMj9UcGmpeDEyP1Rwaal4MTI/VHBpqXgxMj9UcGmpeDEyP1Rwaal4MTI/VHBpqXgxMj9UcGmpeDEyP1Rwaal4MTI/VHBpqXgxMj9UcGmpeDEyP1Rwaal4MTI/VHBpqXgxMj9UcGmpeDEyP1Rwaal4MTI/VHBpqXgxMj9UcGmpeDEyP1Rwaal4MTI/VHBpqXgxMj9UcGmpeDEyP1Rwaal4MTI/VHBpqXgxMj9UcGmpeDEyP1Rwaal4MTI/VHBpqXgxMj9UcGmpeDEyP1Rwaal4MTI/VHBpqXgxMj9UcGmpeDEyP1Rwaal4MTI/VHBpqXgxMj9UcGmpeDEyP1Rwaal4MTI/VHBpqXgxMj9UcGmpeDEyP1Rwaal4MTI/VHBpqXgxMj9UcGmpeDEyP1Rwaal4MTI/VHBpqXgxMj9UcGmpeDEyP1Rwaal4MTI/VHBpqXgxMj9UcGmpeDEyP1Rwaal4MTI/VHBpqXgxMj9UcGmpeDEyP1Rwaal4MTI/VHBpqXgxMj9UcGmpeDEyP1Rwaal4MTI/VHBpqXgxMj9UcGmpeDEyP1Rwaal4MTI/VHBpqXgxMj9UcGmpeDEyP1Rwaal4MTI/VHBpqXgxMj9UcGmpeDEyP1Rwaal4MTI/VHBpqXgxMj9UcGmpeDEyP1Rwaal4MTI/Diw4FVHFLT8OLDgVUcUtPw4sOBVRxS0/Diw4FVHFLT8OLDgVUcUtPw4sOBVRxS0/Diw4FVHFLT8OLDgVUcUtPw4sOBVRxS0/Diw4FVHFLT8OLDgVUcUtPw4sOBVRxS0/Diw4FVHFLT8OLDgVUcUtPw4sOBVRxS0/Diw4FVHFLT8OLDgVUcUtPw4sOBVRxS0/Diw4FVHFLT8OLDgVUcUtPw4sOBVRxS0/Diw4FVHFLT8OLDgVUcUtPw4sOBVRxS0/Diw4FVHFLT8OLDgVUcUtPw4sOBVRxS0/Diw4FVHFLT8OLDgVUcUtPw4sOBVRxS0/Diw4FVHFLT8OLDgVUcUtPw4sOBVRxS0/Diw4FVHFLT8OLDgVUcUtPw4sOBVRxS0/Diw4FVHFLT8OLDgVUcUtPw4sOBVRxS0/Diw4FVHFLT8OLDgVUcUtPw4sOBVRxS0/Diw4FVHFLT8OLDgVUcUtPw4sOBVRxS0/Diw4FVHFLT8OLDgVUcUtPw4sOBVRxS0/Diw4FVHFLT8OLDgVUcUtPw4sOBVRxS0/Diw4FVHFLT8OLDgVUcUtPw4sOBVRxS0/Diw4FVHFLT8OLDgVUcUtPw4sOBVRxS0/Diw4FVHFLT8OLDgVUcUtPw4sOBVRxS0/Diw4FVHFLT8OLDgVUcUtPw4sOBVRxS0/Diw4FVHFLT8OLDgVUcUtPw4sOBVRxS0/Diw4FVHFLT8OLDgVUcUtPw4sOBVRxS0/Diw4FVHFLT8OLDgVUcUtPw4sOBVRxS0/Diw4FVHFLT8OLDgVUcUtPw4sOBVRxS0/Diw4FVHFLT8OLDgVUcUtPw4sOBVRxS0/Diw4FVHFLT8OLDgVUcUtPw4sOBVRxS0/Diw4FVHFLT8OLDgVUcUtPw4sOBVRxS0/Diw4FVHFLT8OLDgVUcUtPw4sOBVRxS0/Diw4FVHFLT8OLDgVUcUtPw4sOBVRxS0/Diw4FVHFLT8OLDgVUcUtPw4sOBVRxS0/Diw4FVHFLT8OLDgVUcUtPw4sOBVRxS0/Diw4FVHFLT8OLDgVUcUtPw4sOBVRxS0/Diw4FVHFLT+Zd53XsCcnP5l3ndewJyc/mXed17AnJz+Zd53XsCcnP5l3ndewJyc/mXed17AnJz+Zd53XsCcnP5l3ndewJyc/mXed17AnJz+Zd53XsCcnP5l3ndewJyc/mXed17AnJz+Zd53XsCcnP5l3ndewJyc/mXed17AnJz+Zd53XsCcnP5l3ndewJyc/mXed17AnJz+Zd53XsCcnP5l3ndewJyc/mXed17AnJz+Zd53XsCcnP5l3ndewJyc/mXed17AnJz+Zd53XsCcnP5l3ndewJyc/mXed17AnJz+Zd53XsCcnP5l3ndewJyc/mXed17AnJz+Zd53XsCcnP5l3ndewJyc/mXed17AnJz+Zd53XsCcnP5l3ndewJyc/mXed17AnJz+Zd53XsCcnP5l3ndewJyc/mXed17AnJz+Zd53XsCcnP5l3ndewJyc/mXed17AnJz+Zd53XsCcnP5l3ndewJyc/mXed17AnJz+Zd53XsCcnP5l3ndewJyc/mXed17AnJz+Zd53XsCcnP5l3ndewJyc/mXed17AnJz+Zd53XsCcnP5l3ndewJyc/mXed17AnJz+Zd53XsCcnP5l3ndewJyc/mXed17AnJz+Zd53XsCcnP5l3ndewJyc/mXed17AnJz+Zd53XsCcnP5l3ndewJyc/mXed17AnJz+Zd53XsCcnP5l3ndewJyc/mXed17AnJz+Zd53XsCcnP5l3ndewJyc/mXed17AnJz+Zd53XsCcnP5l3ndewJyc/mXed17AnJz+Zd53XsCcnP5l3ndewJyc/mXed17AnJz+Zd53XsCcnP5l3ndewJyc/mXed17AnJz+Zd53XsCcnP5l3ndewJyc/mXed17AnJz+Zd53XsCcnP5l3ndewJyc/mXed17AnJz+Zd53XsCcnP5l3ndewJyc/mXed17AnJz+Zd53XsCcnP5l3ndewJyc/mXed17AnJz+Zd53XsCcnP5l3ndewJyc/mXed17AnJz+Zd53XsCcnP5l3ndewJyc/mXed17AnJz+Zd53XsCcnP5l3ndewJyc/mXed17AnJz+Zd53XsCcnPyTDApoQiiA/JMMCmhCKID8kwwKaEIogPyTDApoQiiA/JMMCmhCKID8kwwKaEIogPyTDApoQiiA/JMMCmhCKID8kwwKaEIogPyTDApoQiiA/JMMCmhCKID8kwwKaEIogPyTDApoQiiA/JMMCmhCKID8kwwKaEIogPyTDApoQiiA/JMMCmhCKID8kwwKaEIogPyTDApoQiiA/JMMCmhCKID8kwwKaEIogPyTDApoQiiA/JMMCmhCKID8kwwKaEIogPyTDApoQiiA/JMMCmhCKID8kwwKaEIogPyTDApoQiiA/JMMCmhCKID8kwwKaEIogPyTDApoQiiA/JMMCmhCKID8kwwKaEIogPyTDApoQiiA/JMMCmhCKID8kwwKaEIogPyTDApoQiiA/JMMCmhCKID8kwwKaEIogPyTDApoQiiA/JMMCmhCKID8kwwKaEIogPyTDApoQiiA/JMMCmhCKID8kwwKaEIogPyTDApoQiiA/JMMCmhCKID8kwwKaEIogPyTDApoQiiA/JMMCmhCKID8kwwKaEIogPyTDApoQiiA/JMMCmhCKID8kwwKaEIogPyTDApoQiiA/JMMCmhCKID8kwwKaEIogPyTDApoQiiA/JMMCmhCKID8kwwKaEIogPyTDApoQiiA/JMMCmhCKID8kwwKaEIogPyTDApoQiiA/JMMCmhCKID8kwwKaEIogPyTDApoQiiA/JMMCmhCKID8kwwKaEIogPyTDApoQiiA/JMMCmhCKID8kwwKaEIogPyTDApoQiiA/JMMCmhCKID8kwwKaEIogPyTDApoQiiA/JMMCmhCKID8kwwKaEIogPyTDApoQiiA/JMMCmhCKID8kwwKaEIogPyTDApoQiiA/JMMCmhCKID8kwwKaEIogPyTDApoQiiA/JMMCmhCKID8kwwKaEIogPyTDApoQiiA/JMMCmhCKID8kwwKaEIogPyTDApoQiiA/JMMCmhCKID8kwwKaEIogPyTDApoQiiA/JMMCmhCKID8kwwKaEIogPyTDApoQiiA/JMMCmhCKID8kwwKaEIogPyTDApoQiiA/Xx3QuODYEz9fHdC44NgTP18d0Ljg2BM/Xx3QuODYEz9fHdC44NgTP18d0Ljg2BM/Xx3QuODYEz9fHdC44NgTP18d0Ljg2BM/Xx3QuODYEz9fHdC44NgTP18d0Ljg2BM/Xx3QuODYEz9fHdC44NgTP18d0Ljg2BM/Xx3QuODYEz9fHdC44NgTP18d0Ljg2BM/Xx3QuODYEz9fHdC44NgTP18d0Ljg2BM/Xx3QuODYEz9fHdC44NgTP18d0Ljg2BM/Xx3QuODYEz9fHdC44NgTP18d0Ljg2BM/Xx3QuODYEz9fHdC44NgTP18d0Ljg2BM/Xx3QuODYEz9fHdC44NgTP18d0Ljg2BM/Xx3QuODYEz9fHdC44NgTP18d0Ljg2BM/Xx3QuODYEz9fHdC44NgTP18d0Ljg2BM/Xx3QuODYEz9fHdC44NgTP18d0Ljg2BM/Xx3QuODYEz9fHdC44NgTP18d0Ljg2BM/Xx3QuODYEz9fHdC44NgTP18d0Ljg2BM/Xx3QuODYEz9fHdC44NgTP18d0Ljg2BM/Xx3QuODYEz9fHdC44NgTP18d0Ljg2BM/Xx3QuODYEz9fHdC44NgTP18d0Ljg2BM/Xx3QuODYEz9fHdC44NgTP18d0Ljg2BM/Xx3QuODYEz9fHdC44NgTP18d0Ljg2BM/Xx3QuODYEz9fHdC44NgTP18d0Ljg2BM/Xx3QuODYEz9fHdC44NgTP18d0Ljg2BM/Xx3QuODYEz9fHdC44NgTP18d0Ljg2BM/Xx3QuODYEz9fHdC44NgTP18d0Ljg2BM/Xx3QuODYEz9fHdC44NgTP18d0Ljg2BM/Xx3QuODYEz9fHdC44NgTP18d0Ljg2BM/Xx3QuODYEz9fHdC44NgTP18d0Ljg2BM/Xx3QuODYEz9fHdC44NgTP18d0Ljg2BM/Xx3QuODYEz9fHdC44NgTP18d0Ljg2BM/Xx3QuODYEz9fHdC44NgTP18d0Ljg2BM/Xx3QuODYEz9fHdC44NgTP18d0Ljg2BM/Xx3QuODYEz9fHdC44NgTP18d0Ljg2BM/Xx3QuODYEz+20Wr2gHb6PrbRavaAdvo+ttFq9oB2+j620Wr2gHb6PrbRavaAdvo+ttFq9oB2+j620Wr2gHb6PrbRavaAdvo+ttFq9oB2+j620Wr2gHb6PrbRavaAdvo+ttFq9oB2+j620Wr2gHb6PrbRavaAdvo+ttFq9oB2+j620Wr2gHb6PrbRavaAdvo+ttFq9oB2+j620Wr2gHb6PrbRavaAdvo+ttFq9oB2+j620Wr2gHb6PrbRavaAdvo+ttFq9oB2+j620Wr2gHb6PrbRavaAdvo+ttFq9oB2+j620Wr2gHb6PrbRavaAdvo+ttFq9oB2+j620Wr2gHb6PrbRavaAdvo+ttFq9oB2+j620Wr2gHb6PrbRavaAdvo+ttFq9oB2+j620Wr2gHb6PrbRavaAdvo+ttFq9oB2+j620Wr2gHb6PrbRavaAdvo+ttFq9oB2+j620Wr2gHb6PrbRavaAdvo+ttFq9oB2+j620Wr2gHb6PrbRavaAdvo+ttFq9oB2+j620Wr2gHb6PrbRavaAdvo+ttFq9oB2+j620Wr2gHb6PrbRavaAdvo+ttFq9oB2+j620Wr2gHb6PrbRavaAdvo+ttFq9oB2+j620Wr2gHb6PrbRavaAdvo+ttFq9oB2+j620Wr2gHb6PrbRavaAdvo+ttFq9oB2+j620Wr2gHb6PrbRavaAdvo+ttFq9oB2+j620Wr2gHb6PrbRavaAdvo+ttFq9oB2+j620Wr2gHb6PrbRavaAdvo+ttFq9oB2+j620Wr2gHb6PrbRavaAdvo+ttFq9oB2+j620Wr2gHb6PrbRavaAdvo+ttFq9oB2+j620Wr2gHb6PrbRavaAdvo+ttFq9oB2+j620Wr2gHb6PrbRavaAdvo+ttFq9oB2+j620Wr2gHb6PrbRavaAdvo+ttFq9oB2+j620Wr2gHb6PrbRavaAdvo+ttFq9oB2+j620Wr2gHb6PrbRavaAdvo+ttFq9oB2+j620Wr2gHb6PrbRavaAdvo+ttFq9oB2+j620Wr2gHb6PrbRavaAdvo+ttFq9oB2+j620Wr2gHb6Pg/SavaAdvq+D9Jq9oB2+r4P0mr2gHb6vg/SavaAdvq+D9Jq9oB2+r4P0mr2gHb6vg/SavaAdvq+D9Jq9oB2+r4P0mr2gHb6vg/SavaAdvq+D9Jq9oB2+r4P0mr2gHb6vg/SavaAdvq+D9Jq9oB2+r4P0mr2gHb6vg/SavaAdvq+D9Jq9oB2+r4P0mr2gHb6vg/SavaAdvq+D9Jq9oB2+r4P0mr2gHb6vg/SavaAdvq+D9Jq9oB2+r4P0mr2gHb6vg/SavaAdvq+D9Jq9oB2+r4P0mr2gHb6vg/SavaAdvq+D9Jq9oB2+r4P0mr2gHb6vg/SavaAdvq+D9Jq9oB2+r4P0mr2gHb6vg/SavaAdvq+D9Jq9oB2+r4P0mr2gHb6vg/SavaAdvq+D9Jq9oB2+r4P0mr2gHb6vg/SavaAdvq+D9Jq9oB2+r4P0mr2gHb6vg/SavaAdvq+D9Jq9oB2+r4P0mr2gHb6vg/SavaAdvq+D9Jq9oB2+r4P0mr2gHb6vg/SavaAdvq+D9Jq9oB2+r4P0mr2gHb6vg/SavaAdvq+D9Jq9oB2+r4P0mr2gHb6vg/SavaAdvq+D9Jq9oB2+r4P0mr2gHb6vg/SavaAdvq+D9Jq9oB2+r4P0mr2gHb6vg/SavaAdvq+D9Jq9oB2+r4P0mr2gHb6vg/SavaAdvq+D9Jq9oB2+r4P0mr2gHb6vg/SavaAdvq+D9Jq9oB2+r4P0mr2gHb6vg/SavaAdvq+D9Jq9oB2+r4P0mr2gHb6vg/SavaAdvq+D9Jq9oB2+r4P0mr2gHb6vg/SavaAdvq+D9Jq9oB2+r4P0mr2gHb6vg/SavaAdvq+D9Jq9oB2+r4P0mr2gHb6vg/SavaAdvq+D9Jq9oB2+r4P0mr2gHb6vg/SavaAdvq+D9Jq9oB2+r4P0mr2gHb6vg/SavaAdvq+D9Jq9oB2+r4P0mr2gHb6vg/SavaAdvq+D9Jq9oB2+r4P0mr2gHb6vg/SavaAdvq+D9Jq9oB2+r4P0mr2gHb6vg/SavaAdvq+D9Jq9oB2+r4P0mr2gHb6vg/SavaAdvq+dR3QuODYE791HdC44NgTv3Ud0Ljg2BO/dR3QuODYE791HdC44NgTv3Ud0Ljg2BO/dR3QuODYE791HdC44NgTv3Ud0Ljg2BO/dR3QuODYE791HdC44NgTv3Ud0Ljg2BO/dR3QuODYE791HdC44NgTv3Ud0Ljg2BO/dR3QuODYE791HdC44NgTv3Ud0Ljg2BO/dR3QuODYE791HdC44NgTv3Ud0Ljg2BO/dR3QuODYE791HdC44NgTv3Ud0Ljg2BO/dR3QuODYE791HdC44NgTv3Ud0Ljg2BO/dR3QuODYE791HdC44NgTv3Ud0Ljg2BO/dR3QuODYE791HdC44NgTv3Ud0Ljg2BO/dR3QuODYE791HdC44NgTv3Ud0Ljg2BO/dR3QuODYE791HdC44NgTv3Ud0Ljg2BO/dR3QuODYE791HdC44NgTv3Ud0Ljg2BO/dR3QuODYE791HdC44NgTv3Ud0Ljg2BO/dR3QuODYE791HdC44NgTv3Ud0Ljg2BO/dR3QuODYE791HdC44NgTv3Ud0Ljg2BO/dR3QuODYE791HdC44NgTv3Ud0Ljg2BO/dR3QuODYE791HdC44NgTv3Ud0Ljg2BO/dR3QuODYE791HdC44NgTv3Ud0Ljg2BO/dR3QuODYE791HdC44NgTv3Ud0Ljg2BO/dR3QuODYE791HdC44NgTv3Ud0Ljg2BO/dR3QuODYE791HdC44NgTv3Ud0Ljg2BO/dR3QuODYE791HdC44NgTv3Ud0Ljg2BO/dR3QuODYE791HdC44NgTv3Ud0Ljg2BO/dR3QuODYE791HdC44NgTv3Ud0Ljg2BO/dR3QuODYE791HdC44NgTv3Ud0Ljg2BO/dR3QuODYE791HdC44NgTv3Ud0Ljg2BO/dR3QuODYE791HdC44NgTv3Ud0Ljg2BO/dR3QuODYE791HdC44NgTv3Ud0Ljg2BO/dR3QuODYE791HdC44NgTv3Ud0Ljg2BO/dR3QuODYE791HdC44NgTv3Ud0Ljg2BO/dR3QuODYE791HdC44NgTv3Ud0Ljg2BO/dR3QuODYE78kwwKaEIogvyTDApoQiiC/JMMCmhCKIL8kwwKaEIogvyTDApoQiiC/JMMCmhCKIL8kwwKaEIogvyTDApoQiiC/JMMCmhCKIL8kwwKaEIogvyTDApoQiiC/JMMCmhCKIL8kwwKaEIogvyTDApoQiiC/JMMCmhCKIL8kwwKaEIogvyTDApoQiiC/JMMCmhCKIL8kwwKaEIogvyTDApoQiiC/JMMCmhCKIL8kwwKaEIogvyTDApoQiiC/JMMCmhCKIL8kwwKaEIogvyTDApoQiiC/JMMCmhCKIL8kwwKaEIogvyTDApoQiiC/JMMCmhCKIL8kwwKaEIogvyTDApoQiiC/JMMCmhCKIL8kwwKaEIogvyTDApoQiiC/JMMCmhCKIL8kwwKaEIogvyTDApoQiiC/JMMCmhCKIL8kwwKaEIogvyTDApoQiiC/JMMCmhCKIL8kwwKaEIogvyTDApoQiiC/JMMCmhCKIL8kwwKaEIogvyTDApoQiiC/JMMCmhCKIL8kwwKaEIogvyTDApoQiiC/JMMCmhCKIL8kwwKaEIogvyTDApoQiiC/JMMCmhCKIL8kwwKaEIogvyTDApoQiiC/JMMCmhCKIL8kwwKaEIogvyTDApoQiiC/JMMCmhCKIL8kwwKaEIogvyTDApoQiiC/JMMCmhCKIL8kwwKaEIogvyTDApoQiiC/JMMCmhCKIL8kwwKaEIogvyTDApoQiiC/JMMCmhCKIL8kwwKaEIogvyTDApoQiiC/JMMCmhCKIL8kwwKaEIogvyTDApoQiiC/JMMCmhCKIL8kwwKaEIogvyTDApoQiiC/JMMCmhCKIL8kwwKaEIogvyTDApoQiiC/JMMCmhCKIL8kwwKaEIogvyTDApoQiiC/JMMCmhCKIL8kwwKaEIogvyTDApoQiiC/JMMCmhCKIL8kwwKaEIogvyTDApoQiiC/JMMCmhCKIL8kwwKaEIogvyTDApoQiiC/JMMCmhCKIL8kwwKaEIogvyTDApoQiiC/JMMCmhCKIL8kwwKaEIogvyTDApoQiiC/JMMCmhCKIL8kwwKaEIogv5l3ndewJye/mXed17AnJ7+Zd53XsCcnv5l3ndewJye/mXed17AnJ7+Zd53XsCcnv5l3ndewJye/mXed17AnJ7+Zd53XsCcnv5l3ndewJye/mXed17AnJ7+Zd53XsCcnv5l3ndewJye/mXed17AnJ7+Zd53XsCcnv5l3ndewJye/mXed17AnJ7+Zd53XsCcnv5l3ndewJye/mXed17AnJ7+Zd53XsCcnv5l3ndewJye/mXed17AnJ7+Zd53XsCcnv5l3ndewJye/mXed17AnJ7+Zd53XsCcnv5l3ndewJye/mXed17AnJ7+Zd53XsCcnv5l3ndewJye/mXed17AnJ7+Zd53XsCcnv5l3ndewJye/mXed17AnJ7+Zd53XsCcnv5l3ndewJye/mXed17AnJ7+Zd53XsCcnv5l3ndewJye/mXed17AnJ7+Zd53XsCcnv5l3ndewJye/mXed17AnJ7+Zd53XsCcnv5l3ndewJye/mXed17AnJ7+Zd53XsCcnv5l3ndewJye/mXed17AnJ7+Zd53XsCcnv5l3ndewJye/mXed17AnJ7+Zd53XsCcnv5l3ndewJye/mXed17AnJ7+Zd53XsCcnv5l3ndewJye/mXed17AnJ7+Zd53XsCcnv5l3ndewJye/mXed17AnJ7+Zd53XsCcnv5l3ndewJye/mXed17AnJ7+Zd53XsCcnv5l3ndewJye/mXed17AnJ7+Zd53XsCcnv5l3ndewJye/mXed17AnJ7+Zd53XsCcnv5l3ndewJye/mXed17AnJ7+Zd53XsCcnv5l3ndewJye/mXed17AnJ7+Zd53XsCcnv5l3ndewJye/mXed17AnJ7+Zd53XsCcnv5l3ndewJye/mXed17AnJ7+Zd53XsCcnv5l3ndewJye/mXed17AnJ7+Zd53XsCcnv5l3ndewJye/mXed17AnJ7+Zd53XsCcnv5l3ndewJye/mXed17AnJ7+Zd53XsCcnv5l3ndewJye/mXed17AnJ7+Zd53XsCcnv5l3ndewJye/mXed17AnJ7+Zd53XsCcnv5l3ndewJye/Myw4FVHFLb8zLDgVUcUtvzMsOBVRxS2/Myw4FVHFLb8zLDgVUcUtvzMsOBVRxS2/Myw4FVHFLb8zLDgVUcUtvzMsOBVRxS2/Myw4FVHFLb8zLDgVUcUtvzMsOBVRxS2/Myw4FVHFLb8zLDgVUcUtvzMsOBVRxS2/Myw4FVHFLb8zLDgVUcUtvzMsOBVRxS2/Myw4FVHFLb8zLDgVUcUtvzMsOBVRxS2/Myw4FVHFLb8zLDgVUcUtvzMsOBVRxS2/Myw4FVHFLb8zLDgVUcUtvzMsOBVRxS2/Myw4FVHFLb8zLDgVUcUtvzMsOBVRxS2/Myw4FVHFLb8zLDgVUcUtvzMsOBVRxS2/Myw4FVHFLb8zLDgVUcUtvzMsOBVRxS2/Myw4FVHFLb8zLDgVUcUtvzMsOBVRxS2/Myw4FVHFLb8zLDgVUcUtvzMsOBVRxS2/Myw4FVHFLb8zLDgVUcUtvzMsOBVRxS2/Myw4FVHFLb8zLDgVUcUtvzMsOBVRxS2/Myw4FVHFLb8zLDgVUcUtvzMsOBVRxS2/Myw4FVHFLb8zLDgVUcUtvzMsOBVRxS2/Myw4FVHFLb8zLDgVUcUtvzMsOBVRxS2/Myw4FVHFLb8zLDgVUcUtvzMsOBVRxS2/Myw4FVHFLb8zLDgVUcUtvzMsOBVRxS2/Myw4FVHFLb8zLDgVUcUtvzMsOBVRxS2/Myw4FVHFLb8zLDgVUcUtvzMsOBVRxS2/Myw4FVHFLb8zLDgVUcUtvzMsOBVRxS2/Myw4FVHFLb8zLDgVUcUtvzMsOBVRxS2/Myw4FVHFLb8zLDgVUcUtvzMsOBVRxS2/Myw4FVHFLb8zLDgVUcUtvzMsOBVRxS2/Myw4FVHFLb8zLDgVUcUtvzMsOBVRxS2/Myw4FVHFLb8zLDgVUcUtvzMsOBVRxS2/Myw4FVHFLb8zLDgVUcUtvzMsOBVRxS2/Myw4FVHFLb8zLDgVUcUtvzMsOBVRxS2/Myw4FVHFLb8zLDgVUcUtvzMsOBVRxS2/Myw4FVHFLb8zLDgVUcUtvzMsOBVRxS2/Myw4FVHFLb9UcGmpeDEyv1Rwaal4MTK/VHBpqXgxMr9UcGmpeDEyv1Rwaal4MTK/VHBpqXgxMr9UcGmpeDEyv1Rwaal4MTK/VHBpqXgxMr9UcGmpeDEyv1Rwaal4MTK/VHBpqXgxMr9UcGmpeDEyv1Rwaal4MTK/VHBpqXgxMr9UcGmpeDEyv1Rwaal4MTK/VHBpqXgxMr9UcGmpeDEyv1Rwaal4MTK/VHBpqXgxMr9UcGmpeDEyv1Rwaal4MTK/VHBpqXgxMr9UcGmpeDEyv1Rwaal4MTK/VHBpqXgxMr9UcGmpeDEyv1Rwaal4MTK/VHBpqXgxMr9UcGmpeDEyv1Rwaal4MTK/VHBpqXgxMr9UcGmpeDEyv1Rwaal4MTK/VHBpqXgxMr9UcGmpeDEyv1Rwaal4MTK/VHBpqXgxMr9UcGmpeDEyv1Rwaal4MTK/VHBpqXgxMr9UcGmpeDEyv1Rwaal4MTK/VHBpqXgxMr9UcGmpeDEyv1Rwaal4MTK/VHBpqXgxMr9UcGmpeDEyv1Rwaal4MTK/VHBpqXgxMr9UcGmpeDEyv1Rwaal4MTK/VHBpqXgxMr9UcGmpeDEyv1Rwaal4MTK/VHBpqXgxMr9UcGmpeDEyv1Rwaal4MTK/VHBpqXgxMr9UcGmpeDEyv1Rwaal4MTK/VHBpqXgxMr9UcGmpeDEyv1Rwaal4MTK/VHBpqXgxMr9UcGmpeDEyv1Rwaal4MTK/VHBpqXgxMr9UcGmpeDEyv1Rwaal4MTK/VHBpqXgxMr9UcGmpeDEyv1Rwaal4MTK/VHBpqXgxMr9UcGmpeDEyv1Rwaal4MTK/VHBpqXgxMr9UcGmpeDEyv1Rwaal4MTK/VHBpqXgxMr9UcGmpeDEyv1Rwaal4MTK/VHBpqXgxMr9UcGmpeDEyv1Rwaal4MTK/VHBpqXgxMr9UcGmpeDEyv1Rwaal4MTK/VHBpqXgxMr9UcGmpeDEyv1Rwaal4MTK/VHBpqXgxMr9UcGmpeDEyv1Rwaal4MTK/VHBpqXgxMr9UcGmpeDEyv1Rwaal4MTK/VHBpqXgxMr9UcGmpeDEyv3zKNshIgDW/fMo2yEiANb98yjbISIA1v3zKNshIgDW/fMo2yEiANb98yjbISIA1v3zKNshIgDW/fMo2yEiANb98yjbISIA1v3zKNshIgDW/fMo2yEiANb98yjbISIA1v3zKNshIgDW/fMo2yEiANb98yjbISIA1v3zKNshIgDW/fMo2yEiANb98yjbISIA1v3zKNshIgDW/fMo2yEiANb98yjbISIA1v3zKNshIgDW/fMo2yEiANb98yjbISIA1v3zKNshIgDW/fMo2yEiANb98yjbISIA1v3zKNshIgDW/fMo2yEiANb98yjbISIA1v3zKNshIgDW/fMo2yEiANb98yjbISIA1v3zKNshIgDW/fMo2yEiANb98yjbISIA1v3zKNshIgDW/fMo2yEiANb98yjbISIA1v3zKNshIgDW/fMo2yEiANb98yjbISIA1v3zKNshIgDW/fMo2yEiANb98yjbISIA1v3zKNshIgDW/fMo2yEiANb98yjbISIA1v3zKNshIgDW/fMo2yEiANb98yjbISIA1v3zKNshIgDW/fMo2yEiANb98yjbISIA1v3zKNshIgDW/fMo2yEiANb98yjbISIA1v3zKNshIgDW/fMo2yEiANb98yjbISIA1v3zKNshIgDW/fMo2yEiANb98yjbISIA1v3zKNshIgDW/fMo2yEiANb98yjbISIA1v3zKNshIgDW/fMo2yEiANb98yjbISIA1v3zKNshIgDW/fMo2yEiANb98yjbISIA1v3zKNshIgDW/fMo2yEiANb98yjbISIA1v3zKNshIgDW/fMo2yEiANb98yjbISIA1v3zKNshIgDW/fMo2yEiANb98yjbISIA1v3zKNshIgDW/fMo2yEiANb98yjbISIA1v3zKNshIgDW/fMo2yEiANb98yjbISIA1v3zKNshIgDW/fMo2yEiANb98yjbISIA1v3zKNshIgDW/fMo2yEiANb98yjbISIA1v3zKNshIgDW/fMo2yEiANb98yjbISIA1v3zKNshIgDW/fMo2yEiANb98yjbISIA1v3zKNshIgDW/ySQE5xjPOL/JJATnGM84v8kkBOcYzzi/ySQE5xjPOL/JJATnGM84v8kkBOcYzzi/ySQE5xjPOL/JJATnGM84v8kkBOcYzzi/ySQE5xjPOL/JJATnGM84v8kkBOcYzzi/ySQE5xjPOL/JJATnGM84v8kkBOcYzzi/ySQE5xjPOL/JJATnGM84v8kkBOcYzzi/ySQE5xjPOL/JJATnGM84v8kkBOcYzzi/ySQE5xjPOL/JJATnGM84v8kkBOcYzzi/ySQE5xjPOL/JJATnGM84v8kkBOcYzzi/ySQE5xjPOL/JJATnGM84v8kkBOcYzzi/ySQE5xjPOL/JJATnGM84v8kkBOcYzzi/ySQE5xjPOL/JJATnGM84v8kkBOcYzzi/ySQE5xjPOL/JJATnGM84v8kkBOcYzzi/ySQE5xjPOL/JJATnGM84v8kkBOcYzzi/ySQE5xjPOL/JJATnGM84v8kkBOcYzzi/ySQE5xjPOL/JJATnGM84v8kkBOcYzzi/ySQE5xjPOL/JJATnGM84v8kkBOcYzzi/ySQE5xjPOL/JJATnGM84v8kkBOcYzzi/ySQE5xjPOL/JJATnGM84v8kkBOcYzzi/ySQE5xjPOL/JJATnGM84v8kkBOcYzzi/ySQE5xjPOL/JJATnGM84v8kkBOcYzzi/ySQE5xjPOL/JJATnGM84v8kkBOcYzzi/ySQE5xjPOL/JJATnGM84v8kkBOcYzzi/ySQE5xjPOL/JJATnGM84v8kkBOcYzzi/ySQE5xjPOL/JJATnGM84v8kkBOcYzzi/ySQE5xjPOL/JJATnGM84v8kkBOcYzzi/ySQE5xjPOL/JJATnGM84v8kkBOcYzzi/ySQE5xjPOL/JJATnGM84v8kkBOcYzzi/ySQE5xjPOL/JJATnGM84v8kkBOcYzzi/ySQE5xjPOL/JJATnGM84v8kkBOcYzzi/ySQE5xjPOL/JJATnGM84v8kkBOcYzzi/ySQE5xjPOL/JJATnGM84v8kkBOcYzzi/ySQE5xjPOL/JJATnGM84v8kkBOcYzzi/ySQE5xjPOL8Df9EF6R08vwN/0QXpHTy/A3/RBekdPL8Df9EF6R08vwN/0QXpHTy/A3/RBekdPL8Df9EF6R08vwN/0QXpHTy/A3/RBekdPL8Df9EF6R08vwN/0QXpHTy/A3/RBekdPL8Df9EF6R08vwN/0QXpHTy/A3/RBekdPL8Df9EF6R08vwN/0QXpHTy/A3/RBekdPL8Df9EF6R08vwN/0QXpHTy/A3/RBekdPL8Df9EF6R08vwN/0QXpHTy/A3/RBekdPL8Df9EF6R08vwN/0QXpHTy/A3/RBekdPL8Df9EF6R08vwN/0QXpHTy/A3/RBekdPL8Df9EF6R08vwN/0QXpHTy/A3/RBekdPL8Df9EF6R08vwN/0QXpHTy/A3/RBekdPL8Df9EF6R08vwN/0QXpHTy/A3/RBekdPL8Df9EF6R08vwN/0QXpHTy/A3/RBekdPL8Df9EF6R08vwN/0QXpHTy/A3/RBekdPL8Df9EF6R08vwN/0QXpHTy/A3/RBekdPL8Df9EF6R08vwN/0QXpHTy/A3/RBekdPL8Df9EF6R08vwN/0QXpHTy/A3/RBekdPL8Df9EF6R08vwN/0QXpHTy/A3/RBekdPL8Df9EF6R08vwN/0QXpHTy/A3/RBekdPL8Df9EF6R08vwN/0QXpHTy/A3/RBekdPL8Df9EF6R08vwN/0QXpHTy/A3/RBekdPL8Df9EF6R08vwN/0QXpHTy/A3/RBekdPL8Df9EF6R08vwN/0QXpHTy/A3/RBekdPL8Df9EF6R08vwN/0QXpHTy/A3/RBekdPL8Df9EF6R08vwN/0QXpHTy/A3/RBekdPL8Df9EF6R08vwN/0QXpHTy/A3/RBekdPL8Df9EF6R08vwN/0QXpHTy/A3/RBekdPL8Df9EF6R08vwN/0QXpHTy/A3/RBekdPL8Df9EF6R08vwN/0QXpHTy/A3/RBekdPL8Df9EF6R08vwN/0QXpHTy/A3/RBekdPL8Df9EF6R08vwN/0QXpHTy/A3/RBekdPL8Df9EF6R08vwN/0QXpHTy/A3/RBekdPL8Df9EF6R08vz7ZniS5bD+/PtmeJLlsP78+2Z4kuWw/vz7ZniS5bD+/PtmeJLlsP78+2Z4kuWw/vz7ZniS5bD+/PtmeJLlsP78+2Z4kuWw/vz7ZniS5bD+/PtmeJLlsP78+2Z4kuWw/vz7ZniS5bD+/PtmeJLlsP78+2Z4kuWw/vz7ZniS5bD+/PtmeJLlsP78+2Z4kuWw/vz7ZniS5bD+/PtmeJLlsP78+2Z4kuWw/vz7ZniS5bD+/PtmeJLlsP78+2Z4kuWw/vz7ZniS5bD+/PtmeJLlsP78+2Z4kuWw/vz7ZniS5bD+/PtmeJLlsP78+2Z4kuWw/vz7ZniS5bD+/PtmeJLlsP78+2Z4kuWw/vz7ZniS5bD+/PtmeJLlsP78+2Z4kuWw/vz7ZniS5bD+/PtmeJLlsP78+2Z4kuWw/vz7ZniS5bD+/PtmeJLlsP78+2Z4kuWw/vz7ZniS5bD+/PtmeJLlsP78+2Z4kuWw/vz7ZniS5bD+/PtmeJLlsP78+2Z4kuWw/vz7ZniS5bD+/PtmeJLlsP78+2Z4kuWw/vz7ZniS5bD+/PtmeJLlsP78+2Z4kuWw/vz7ZniS5bD+/PtmeJLlsP78+2Z4kuWw/vz7ZniS5bD+/PtmeJLlsP78+2Z4kuWw/vz7ZniS5bD+/PtmeJLlsP78+2Z4kuWw/vz7ZniS5bD+/PtmeJLlsP78+2Z4kuWw/vz7ZniS5bD+/PtmeJLlsP78+2Z4kuWw/vz7ZniS5bD+/PtmeJLlsP78+2Z4kuWw/vz7ZniS5bD+/PtmeJLlsP78+2Z4kuWw/vz7ZniS5bD+/PtmeJLlsP78+2Z4kuWw/vz7ZniS5bD+/PtmeJLlsP78+2Z4kuWw/vz7ZniS5bD+/PtmeJLlsP78+2Z4kuWw/vz7ZniS5bD+/PtmeJLlsP78+2Z4kuWw/vz7ZniS5bD+/PtmeJLlsP78+2Z4kuWw/vz7ZniS5bD+/PtmeJLlsP78+2Z4kuWw/vz7ZniS5bD+/PtmeJLlsP78+2Z4kuWw/vz7ZniS5bD+/PtmeJLlsP78+2Z4kuWw/vz7ZniS5bD+/vBm2ocRdQb+8GbahxF1Bv7wZtqHEXUG/vBm2ocRdQb+8GbahxF1Bv7wZtqHEXUG/vBm2ocRdQb+8GbahxF1Bv7wZtqHEXUG/vBm2ocRdQb+8GbahxF1Bv7wZtqHEXUG/vBm2ocRdQb+8GbahxF1Bv7wZtqHEXUG/vBm2ocRdQb+8GbahxF1Bv7wZtqHEXUG/vBm2ocRdQb+8GbahxF1Bv7wZtqHEXUG/vBm2ocRdQb+8GbahxF1Bv7wZtqHEXUG/vBm2ocRdQb+8GbahxF1Bv7wZtqHEXUG/vBm2ocRdQb+8GbahxF1Bv7wZtqHEXUG/vBm2ocRdQb+8GbahxF1Bv7wZtqHEXUG/vBm2ocRdQb+8GbahxF1Bv7wZtqHEXUG/vBm2ocRdQb+8GbahxF1Bv7wZtqHEXUG/vBm2ocRdQb+8GbahxF1Bv7wZtqHEXUG/vBm2ocRdQb+8GbahxF1Bv7wZtqHEXUG/vBm2ocRdQb+8GbahxF1Bv7wZtqHEXUG/vBm2ocRdQb+8GbahxF1Bv7wZtqHEXUG/vBm2ocRdQb+8GbahxF1Bv7wZtqHEXUG/vBm2ocRdQb+8GbahxF1Bv7wZtqHEXUG/vBm2ocRdQb+8GbahxF1Bv7wZtqHEXUG/vBm2ocRdQb+8GbahxF1Bv7wZtqHEXUG/vBm2ocRdQb+8GbahxF1Bv7wZtqHEXUG/vBm2ocRdQb+8GbahxF1Bv7wZtqHEXUG/vBm2ocRdQb+8GbahxF1Bv7wZtqHEXUG/vBm2ocRdQb+8GbahxF1Bv7wZtqHEXUG/vBm2ocRdQb+8GbahxF1Bv7wZtqHEXUG/vBm2ocRdQb+8GbahxF1Bv7wZtqHEXUG/vBm2ocRdQb+8GbahxF1Bv7wZtqHEXUG/vBm2ocRdQb+8GbahxF1Bv7wZtqHEXUG/vBm2ocRdQb+8GbahxF1Bv7wZtqHEXUG/vBm2ocRdQb+8GbahxF1Bv7wZtqHEXUG/vBm2ocRdQb+8GbahxF1Bv7wZtqHEXUG/vBm2ocRdQb+8GbahxF1Bv7wZtqHEXUG/vBm2ocRdQb/ZxhyxLAVDv9nGHLEsBUO/2cYcsSwFQ7/ZxhyxLAVDv9nGHLEsBUO/2cYcsSwFQ7/ZxhyxLAVDv9nGHLEsBUO/2cYcsSwFQ7/ZxhyxLAVDv9nGHLEsBUO/2cYcsSwFQ7/ZxhyxLAVDv9nGHLEsBUO/2cYcsSwFQ7/ZxhyxLAVDv9nGHLEsBUO/2cYcsSwFQ7/ZxhyxLAVDv9nGHLEsBUO/2cYcsSwFQ7/ZxhyxLAVDv9nGHLEsBUO/2cYcsSwFQ7/ZxhyxLAVDv9nGHLEsBUO/2cYcsSwFQ7/ZxhyxLAVDv9nGHLEsBUO/2cYcsSwFQ7/ZxhyxLAVDv9nGHLEsBUO/2cYcsSwFQ7/ZxhyxLAVDv9nGHLEsBUO/2cYcsSwFQ7/ZxhyxLAVDv9nGHLEsBUO/2cYcsSwFQ7/ZxhyxLAVDv9nGHLEsBUO/2cYcsSwFQ7/ZxhyxLAVDv9nGHLEsBUO/2cYcsSwFQ7/ZxhyxLAVDv9nGHLEsBUO/2cYcsSwFQ7/ZxhyxLAVDv9nGHLEsBUO/2cYcsSwFQ7/ZxhyxLAVDv9nGHLEsBUO/2cYcsSwFQ7/ZxhyxLAVDv9nGHLEsBUO/2cYcsSwFQ7/ZxhyxLAVDv9nGHLEsBUO/2cYcsSwFQ7/ZxhyxLAVDv9nGHLEsBUO/2cYcsSwFQ7/ZxhyxLAVDv9nGHLEsBUO/2cYcsSwFQ7/ZxhyxLAVDv9nGHLEsBUO/2cYcsSwFQ7/ZxhyxLAVDv9nGHLEsBUO/2cYcsSwFQ7/ZxhyxLAVDv9nGHLEsBUO/2cYcsSwFQ7/ZxhyxLAVDv9nGHLEsBUO/2cYcsSwFQ7/ZxhyxLAVDv9nGHLEsBUO/2cYcsSwFQ7/ZxhyxLAVDv9nGHLEsBUO/2cYcsSwFQ7/ZxhyxLAVDv9nGHLEsBUO/2cYcsSwFQ7/ZxhyxLAVDv9nGHLEsBUO/2cYcsSwFQ7/ZxhyxLAVDv9nGHLEsBUO/2cYcsSwFQ7/ZxhyxLAVDv9nGHLEsBUO/2cYcsSwFQ7/ZxhyxLAVDv9nGHLEsBUO/2cYcsSwFQ7/ZxhyxLAVDv/Zzg8CUrES/9nODwJSsRL/2c4PAlKxEv/Zzg8CUrES/9nODwJSsRL/2c4PAlKxEv/Zzg8CUrES/9nODwJSsRL/2c4PAlKxEv/Zzg8CUrES/9nODwJSsRL/2c4PAlKxEv/Zzg8CUrES/9nODwJSsRL/2c4PAlKxEv/Zzg8CUrES/9nODwJSsRL/2c4PAlKxEv/Zzg8CUrES/9nODwJSsRL/2c4PAlKxEv/Zzg8CUrES/9nODwJSsRL/2c4PAlKxEv/Zzg8CUrES/9nODwJSsRL/2c4PAlKxEv/Zzg8CUrES/9nODwJSsRL/2c4PAlKxEv/Zzg8CUrES/9nODwJSsRL/2c4PAlKxEv/Zzg8CUrES/9nODwJSsRL/2c4PAlKxEv/Zzg8CUrES/9nODwJSsRL/2c4PAlKxEv/Zzg8CUrES/9nODwJSsRL/2c4PAlKxEv/Zzg8CUrES/9nODwJSsRL/2c4PAlKxEv/Zzg8CUrES/9nODwJSsRL/2c4PAlKxEv/Zzg8CUrES/9nODwJSsRL/2c4PAlKxEv/Zzg8CUrES/9nODwJSsRL/2c4PAlKxEv/Zzg8CUrES/9nODwJSsRL/2c4PAlKxEv/Zzg8CUrES/9nODwJSsRL/2c4PAlKxEv/Zzg8CUrES/9nODwJSsRL/2c4PAlKxEv/Zzg8CUrES/9nODwJSsRL/2c4PAlKxEv/Zzg8CUrES/9nODwJSsRL/2c4PAlKxEv/Zzg8CUrES/9nODwJSsRL/2c4PAlKxEv/Zzg8CUrES/9nODwJSsRL/2c4PAlKxEv/Zzg8CUrES/9nODwJSsRL/2c4PAlKxEv/Zzg8CUrES/9nODwJSsRL/2c4PAlKxEv/Zzg8CUrES/9nODwJSsRL/2c4PAlKxEv/Zzg8CUrES/9nODwJSsRL/2c4PAlKxEv/Zzg8CUrES/9nODwJSsRL/2c4PAlKxEv/Zzg8CUrES/9nODwJSsRL/2c4PAlKxEv/Zzg8CUrES/9nODwJSsRL/2c4PAlKxEv/Zzg8CUrES/9nODwJSsRL/2c4PAlKxEv/Zzg8CUrES/HSHqz/xTRr8dIerP/FNGvx0h6s/8U0a/HSHqz/xTRr8dIerP/FNGvx0h6s/8U0a/HSHqz/xTRr8dIerP/FNGvx0h6s/8U0a/HSHqz/xTRr8dIerP/FNGvx0h6s/8U0a/HSHqz/xTRr8dIerP/FNGvx0h6s/8U0a/HSHqz/xTRr8dIerP/FNGvx0h6s/8U0a/HSHqz/xTRr8dIerP/FNGvx0h6s/8U0a/HSHqz/xTRr8dIerP/FNGvx0h6s/8U0a/HSHqz/xTRr8dIerP/FNGvx0h6s/8U0a/HSHqz/xTRr8dIerP/FNGvx0h6s/8U0a/HSHqz/xTRr8dIerP/FNGvx0h6s/8U0a/HSHqz/xTRr8dIerP/FNGvx0h6s/8U0a/HSHqz/xTRr8dIerP/FNGvx0h6s/8U0a/HSHqz/xTRr8dIerP/FNGvx0h6s/8U0a/HSHqz/xTRr8dIerP/FNGvx0h6s/8U0a/HSHqz/xTRr8dIerP/FNGvx0h6s/8U0a/HSHqz/xTRr8dIerP/FNGvx0h6s/8U0a/HSHqz/xTRr8dIerP/FNGvx0h6s/8U0a/HSHqz/xTRr8dIerP/FNGvx0h6s/8U0a/HSHqz/xTRr8dIerP/FNGvx0h6s/8U0a/HSHqz/xTRr8dIerP/FNGvx0h6s/8U0a/HSHqz/xTRr8dIerP/FNGvx0h6s/8U0a/HSHqz/xTRr8dIerP/FNGvx0h6s/8U0a/HSHqz/xTRr8dIerP/FNGvx0h6s/8U0a/HSHqz/xTRr8dIerP/FNGvx0h6s/8U0a/HSHqz/xTRr8dIerP/FNGvx0h6s/8U0a/HSHqz/xTRr8dIerP/FNGvx0h6s/8U0a/HSHqz/xTRr8dIerP/FNGvx0h6s/8U0a/HSHqz/xTRr8dIerP/FNGvx0h6s/8U0a/HSHqz/xTRr8dIerP/FNGvx0h6s/8U0a/HSHqz/xTRr8dIerP/FNGvx0h6s/8U0a/HSHqz/xTRr8dIerP/FNGvx0h6s/8U0a/HSHqz/xTRr8dIerP/FNGvx0h6s/8U0a/HSHqz/xTRr8xzlDfZPtHvzHOUN9k+0e/Mc5Q32T7R78xzlDfZPtHvzHOUN9k+0e/Mc5Q32T7R78xzlDfZPtHvzHOUN9k+0e/Mc5Q32T7R78xzlDfZPtHvzHOUN9k+0e/Mc5Q32T7R78xzlDfZPtHvzHOUN9k+0e/Mc5Q32T7R78xzlDfZPtHvzHOUN9k+0e/Mc5Q32T7R78xzlDfZPtHvzHOUN9k+0e/Mc5Q32T7R78xzlDfZPtHvzHOUN9k+0e/Mc5Q32T7R78xzlDfZPtHvzHOUN9k+0e/Mc5Q32T7R78xzlDfZPtHvzHOUN9k+0e/Mc5Q32T7R78xzlDfZPtHvzHOUN9k+0e/Mc5Q32T7R78xzlDfZPtHvzHOUN9k+0e/Mc5Q32T7R78xzlDfZPtHvzHOUN9k+0e/Mc5Q32T7R78xzlDfZPtHvzHOUN9k+0e/Mc5Q32T7R78xzlDfZPtHvzHOUN9k+0e/Mc5Q32T7R78xzlDfZPtHvzHOUN9k+0e/Mc5Q32T7R78xzlDfZPtHvzHOUN9k+0e/Mc5Q32T7R78xzlDfZPtHvzHOUN9k+0e/Mc5Q32T7R78xzlDfZPtHvzHOUN9k+0e/Mc5Q32T7R78xzlDfZPtHvzHOUN9k+0e/Mc5Q32T7R78xzlDfZPtHvzHOUN9k+0e/Mc5Q32T7R78xzlDfZPtHvzHOUN9k+0e/Mc5Q32T7R78xzlDfZPtHvzHOUN9k+0e/Mc5Q32T7R78xzlDfZPtHvzHOUN9k+0e/Mc5Q32T7R78xzlDfZPtHvzHOUN9k+0e/Mc5Q32T7R78xzlDfZPtHvzHOUN9k+0e/Mc5Q32T7R78xzlDfZPtHvzHOUN9k+0e/Mc5Q32T7R78xzlDfZPtHvzHOUN9k+0e/Mc5Q32T7R78xzlDfZPtHvzHOUN9k+0e/Mc5Q32T7R78xzlDfZPtHvzHOUN9k+0e/Mc5Q32T7R78xzlDfZPtHvzHOUN9k+0e/Mc5Q32T7R78xzlDfZPtHvzHOUN9k+0e/Mc5Q32T7R78xzlDfZPtHvzHOUN9k+0e/Mc5Q32T7R78xzlDfZPtHv057t+7Mokm/Tnu37syiSb9Oe7fuzKJJv057t+7Mokm/Tnu37syiSb9Oe7fuzKJJv057t+7Mokm/Tnu37syiSb9Oe7fuzKJJv057t+7Mokm/Tnu37syiSb9Oe7fuzKJJv057t+7Mokm/Tnu37syiSb9Oe7fuzKJJv057t+7Mokm/Tnu37syiSb9Oe7fuzKJJv057t+7Mokm/Tnu37syiSb9Oe7fuzKJJv057t+7Mokm/Tnu37syiSb9Oe7fuzKJJv057t+7Mokm/Tnu37syiSb9Oe7fuzKJJv057t+7Mokm/Tnu37syiSb9Oe7fuzKJJv057t+7Mokm/Tnu37syiSb9Oe7fuzKJJv057t+7Mokm/Tnu37syiSb9Oe7fuzKJJv057t+7Mokm/Tnu37syiSb9Oe7fuzKJJv057t+7Mokm/Tnu37syiSb9Oe7fuzKJJv057t+7Mokm/Tnu37syiSb9Oe7fuzKJJv057t+7Mokm/Tnu37syiSb9Oe7fuzKJJv057t+7Mokm/Tnu37syiSb9Oe7fuzKJJv057t+7Mokm/Tnu37syiSb9Oe7fuzKJJv057t+7Mokm/Tnu37syiSb9Oe7fuzKJJv057t+7Mokm/Tnu37syiSb9Oe7fuzKJJv057t+7Mokm/Tnu37syiSb9Oe7fuzKJJv057t+7Mokm/Tnu37syiSb9Oe7fuzKJJv057t+7Mokm/Tnu37syiSb9Oe7fuzKJJv057t+7Mokm/Tnu37syiSb9Oe7fuzKJJv057t+7Mokm/Tnu37syiSb9Oe7fuzKJJv057t+7Mokm/Tnu37syiSb9Oe7fuzKJJv057t+7Mokm/Tnu37syiSb9Oe7fuzKJJv057t+7Mokm/Tnu37syiSb9Oe7fuzKJJv057t+7Mokm/Tnu37syiSb9Oe7fuzKJJv057t+7Mokm/Tnu37syiSb9Oe7fuzKJJv057t+7Mokm/Tnu37syiSb9Oe7fuzKJJv057t+7Mokm/Tnu37syiSb9Oe7fuzKJJv057t+7Mokm/Tnu37syiSb9Oe7fuzKJJv057t+7Mokm/dSge/jRKS791KB7+NEpLv3UoHv40Sku/dSge/jRKS791KB7+NEpLv3UoHv40Sku/dSge/jRKS791KB7+NEpLv3UoHv40Sku/dSge/jRKS791KB7+NEpLv3UoHv40Sku/dSge/jRKS791KB7+NEpLv3UoHv40Sku/dSge/jRKS791KB7+NEpLv3UoHv40Sku/dSge/jRKS791KB7+NEpLv3UoHv40Sku/dSge/jRKS791KB7+NEpLv3UoHv40Sku/dSge/jRKS791KB7+NEpLv3UoHv40Sku/dSge/jRKS791KB7+NEpLv3UoHv40Sku/dSge/jRKS791KB7+NEpLv3UoHv40Sku/dSge/jRKS791KB7+NEpLv3UoHv40Sku/dSge/jRKS791KB7+NEpLv3UoHv40Sku/dSge/jRKS791KB7+NEpLv3UoHv40Sku/dSge/jRKS791KB7+NEpLv3UoHv40Sku/dSge/jRKS791KB7+NEpLv3UoHv40Sku/dSge/jRKS791KB7+NEpLv3UoHv40Sku/dSge/jRKS791KB7+NEpLv3UoHv40Sku/dSge/jRKS791KB7+NEpLv3UoHv40Sku/dSge/jRKS791KB7+NEpLv3UoHv40Sku/dSge/jRKS791KB7+NEpLv3UoHv40Sku/dSge/jRKS791KB7+NEpLv3UoHv40Sku/dSge/jRKS791KB7+NEpLv3UoHv40Sku/dSge/jRKS791KB7+NEpLv3UoHv40Sku/dSge/jRKS791KB7+NEpLv3UoHv40Sku/dSge/jRKS791KB7+NEpLv3UoHv40Sku/dSge/jRKS791KB7+NEpLv3UoHv40Sku/dSge/jRKS791KB7+NEpLv3UoHv40Sku/dSge/jRKS791KB7+NEpLv3UoHv40Sku/dSge/jRKS791KB7+NEpLv3UoHv40Sku/dSge/jRKS791KB7+NEpLv3UoHv40Sku/dSge/jRKS791KB7+NEpLv3UoHv40Sku/dSge/jRKS791KB7+NEpLv3UoHv40Sku/dSge/jRKS7+J1YQNnfFMv4nVhA2d8Uy/idWEDZ3xTL+J1YQNnfFMv4nVhA2d8Uy/idWEDZ3xTL+J1YQNnfFMv4nVhA2d8Uy/idWEDZ3xTL+J1YQNnfFMv4nVhA2d8Uy/idWEDZ3xTL+J1YQNnfFMv4nVhA2d8Uy/idWEDZ3xTL+J1YQNnfFMv4nVhA2d8Uy/idWEDZ3xTL+J1YQNnfFMv4nVhA2d8Uy/idWEDZ3xTL+J1YQNnfFMv4nVhA2d8Uy/idWEDZ3xTL+J1YQNnfFMv4nVhA2d8Uy/idWEDZ3xTL+J1YQNnfFMv4nVhA2d8Uy/idWEDZ3xTL+J1YQNnfFMv4nVhA2d8Uy/idWEDZ3xTL+J1YQNnfFMv4nVhA2d8Uy/idWEDZ3xTL+J1YQNnfFMv4nVhA2d8Uy/idWEDZ3xTL+J1YQNnfFMv4nVhA2d8Uy/idWEDZ3xTL+J1YQNnfFMv4nVhA2d8Uy/idWEDZ3xTL+J1YQNnfFMv4nVhA2d8Uy/idWEDZ3xTL+J1YQNnfFMv4nVhA2d8Uy/idWEDZ3xTL+J1YQNnfFMv4nVhA2d8Uy/idWEDZ3xTL+J1YQNnfFMv4nVhA2d8Uy/idWEDZ3xTL+J1YQNnfFMv4nVhA2d8Uy/idWEDZ3xTL+J1YQNnfFMv4nVhA2d8Uy/idWEDZ3xTL+J1YQNnfFMv4nVhA2d8Uy/idWEDZ3xTL+J1YQNnfFMv4nVhA2d8Uy/idWEDZ3xTL+J1YQNnfFMv4nVhA2d8Uy/idWEDZ3xTL+J1YQNnfFMv4nVhA2d8Uy/idWEDZ3xTL+J1YQNnfFMv4nVhA2d8Uy/idWEDZ3xTL+J1YQNnfFMv4nVhA2d8Uy/idWEDZ3xTL+J1YQNnfFMv4nVhA2d8Uy/idWEDZ3xTL+J1YQNnfFMv4nVhA2d8Uy/idWEDZ3xTL+J1YQNnfFMv4nVhA2d8Uy/idWEDZ3xTL+J1YQNnfFMv4nVhA2d8Uy/idWEDZ3xTL+J1YQNnfFMv4nVhA2d8Uy/idWEDZ3xTL+J1YQNnfFMv4nVhA2d8Uy/idWEDZ3xTL+J1YQNnfFMv6+C6xwFmU6/r4LrHAWZTr+vguscBZlOv6+C6xwFmU6/r4LrHAWZTr+vguscBZlOv6+C6xwFmU6/r4LrHAWZTr+vguscBZlOv6+C6xwFmU6/r4LrHAWZTr+vguscBZlOv6+C6xwFmU6/r4LrHAWZTr+vguscBZlOv6+C6xwFmU6/r4LrHAWZTr+vguscBZlOv6+C6xwFmU6/r4LrHAWZTr+vguscBZlOv6+C6xwFmU6/r4LrHAWZTr+vguscBZlOv6+C6xwFmU6/r4LrHAWZTr+vguscBZlOv6+C6xwFmU6/r4LrHAWZTr+vguscBZlOv6+C6xwFmU6/r4LrHAWZTr+vguscBZlOv6+C6xwFmU6/r4LrHAWZTr+vguscBZlOv6+C6xwFmU6/r4LrHAWZTr+vguscBZlOv6+C6xwFmU6/r4LrHAWZTr+vguscBZlOv6+C6xwFmU6/r4LrHAWZTr+vguscBZlOv6+C6xwFmU6/r4LrHAWZTr+vguscBZlOv6+C6xwFmU6/r4LrHAWZTr+vguscBZlOv6+C6xwFmU6/r4LrHAWZTr+vguscBZlOv6+C6xwFmU6/r4LrHAWZTr+vguscBZlOv6+C6xwFmU6/r4LrHAWZTr+vguscBZlOv6+C6xwFmU6/r4LrHAWZTr+vguscBZlOv6+C6xwFmU6/r4LrHAWZTr+vguscBZlOv6+C6xwFmU6/r4LrHAWZTr+vguscBZlOv6+C6xwFmU6/r4LrHAWZTr+vguscBZlOv6+C6xwFmU6/r4LrHAWZTr+vguscBZlOv6+C6xwFmU6/r4LrHAWZTr+vguscBZlOv6+C6xwFmU6/r4LrHAWZTr+vguscBZlOv6+C6xwFmU6/r4LrHAWZTr+vguscBZlOv6+C6xwFmU6/r4LrHAWZTr+vguscBZlOv6+C6xwFmU6/r4LrHAWZTr+vguscBZlOv6+C6xwFmU6/r4LrHAWZTr+vguscBZlOv6+C6xwFmU6/r4LrHAWZTr+vguscBZlOv6+C6xwFmU6/r4LrHAWZTr+vguscBZlOv6+C6xwFmU6/5hcpljYgUL/mFymWNiBQv+YXKZY2IFC/5hcpljYgUL/mFymWNiBQv+YXKZY2IFC/5hcpljYgUL/mFymWNiBQv+YXKZY2IFC/5hcpljYgUL/mFymWNiBQv+YXKZY2IFC/5hcpljYgUL/mFymWNiBQv+YXKZY2IFC/5hcpljYgUL/mFymWNiBQv+YXKZY2IFC/5hcpljYgUL/mFymWNiBQv+YXKZY2IFC/5hcpljYgUL/mFymWNiBQv+YXKZY2IFC/5hcpljYgUL/mFymWNiBQv+YXKZY2IFC/5hcpljYgUL/mFymWNiBQv+YXKZY2IFC/5hcpljYgUL/mFymWNiBQv+YXKZY2IFC/5hcpljYgUL/mFymWNiBQv+YXKZY2IFC/5hcpljYgUL/mFymWNiBQv+YXKZY2IFC/5hcpljYgUL/mFymWNiBQv+YXKZY2IFC/5hcpljYgUL/mFymWNiBQv+YXKZY2IFC/5hcpljYgUL/mFymWNiBQv+YXKZY2IFC/5hcpljYgUL/mFymWNiBQv+YXKZY2IFC/5hcpljYgUL/mFymWNiBQv+YXKZY2IFC/5hcpljYgUL/mFymWNiBQv+YXKZY2IFC/5hcpljYgUL/mFymWNiBQv+YXKZY2IFC/5hcpljYgUL/mFymWNiBQv+YXKZY2IFC/5hcpljYgUL/mFymWNiBQv+YXKZY2IFC/5hcpljYgUL/mFymWNiBQv+YXKZY2IFC/5hcpljYgUL/mFymWNiBQv+YXKZY2IFC/5hcpljYgUL/mFymWNiBQv+YXKZY2IFC/5hcpljYgUL/mFymWNiBQv+YXKZY2IFC/5hcpljYgUL/mFymWNiBQv+YXKZY2IFC/5hcpljYgUL/mFymWNiBQv+YXKZY2IFC/5hcpljYgUL/mFymWNiBQv+YXKZY2IFC/5hcpljYgUL/mFymWNiBQv+YXKZY2IFC/5hcpljYgUL/mFymWNiBQv+YXKZY2IFC/5hcpljYgUL/mFymWNiBQv+YXKZY2IFC/5hcpljYgUL/mFymWNiBQv+YXKZY2IFC/5hcpljYgUL9sbtyd6vNQv2xu3J3q81C/bG7cnerzUL9sbtyd6vNQv2xu3J3q81C/bG7cnerzUL9sbtyd6vNQv2xu3J3q81C/bG7cnerzUL9sbtyd6vNQv2xu3J3q81C/bG7cnerzUL9sbtyd6vNQv2xu3J3q81C/bG7cnerzUL9sbtyd6vNQv2xu3J3q81C/bG7cnerzUL9sbtyd6vNQv2xu3J3q81C/bG7cnerzUL9sbtyd6vNQv2xu3J3q81C/bG7cnerzUL9sbtyd6vNQv2xu3J3q81C/bG7cnerzUL9sbtyd6vNQv2xu3J3q81C/bG7cnerzUL9sbtyd6vNQv2xu3J3q81C/bG7cnerzUL9sbtyd6vNQv2xu3J3q81C/bG7cnerzUL9sbtyd6vNQv2xu3J3q81C/bG7cnerzUL9sbtyd6vNQv2xu3J3q81C/bG7cnerzUL9sbtyd6vNQv2xu3J3q81C/bG7cnerzUL9sbtyd6vNQv2xu3J3q81C/bG7cnerzUL9sbtyd6vNQv2xu3J3q81C/bG7cnerzUL9sbtyd6vNQv2xu3J3q81C/bG7cnerzUL9sbtyd6vNQv2xu3J3q81C/bG7cnerzUL9sbtyd6vNQv2xu3J3q81C/bG7cnerzUL9sbtyd6vNQv2xu3J3q81C/bG7cnerzUL9sbtyd6vNQv2xu3J3q81C/bG7cnerzUL9sbtyd6vNQv2xu3J3q81C/bG7cnerzUL9sbtyd6vNQv2xu3J3q81C/bG7cnerzUL9sbtyd6vNQv2xu3J3q81C/bG7cnerzUL9sbtyd6vNQv2xu3J3q81C/bG7cnerzUL9sbtyd6vNQv2xu3J3q81C/bG7cnerzUL9sbtyd6vNQv2xu3J3q81C/bG7cnerzUL9sbtyd6vNQv2xu3J3q81C/bG7cnerzUL9sbtyd6vNQv2xu3J3q81C/bG7cnerzUL9sbtyd6vNQv2xu3J3q81C/bG7cnerzUL9sbtyd6vNQv2xu3J3q81C/bG7cnerzUL9sbtyd6vNQv2xu3J3q81C/bG7cnerzUL9sbtyd6vNQv/rEj6Wex1G/+sSPpZ7HUb/6xI+lnsdRv/rEj6Wex1G/+sSPpZ7HUb/6xI+lnsdRv/rEj6Wex1G/+sSPpZ7HUb/6xI+lnsdRv/rEj6Wex1G/+sSPpZ7HUb/6xI+lnsdRv/rEj6Wex1G/+sSPpZ7HUb/6xI+lnsdRv/rEj6Wex1G/+sSPpZ7HUb/6xI+lnsdRv/rEj6Wex1G/+sSPpZ7HUb/6xI+lnsdRv/rEj6Wex1G/+sSPpZ7HUb/6xI+lnsdRv/rEj6Wex1G/+sSPpZ7HUb/6xI+lnsdRv/rEj6Wex1G/+sSPpZ7HUb/6xI+lnsdRv/rEj6Wex1G/+sSPpZ7HUb/6xI+lnsdRv/rEj6Wex1G/+sSPpZ7HUb/6xI+lnsdRv/rEj6Wex1G/+sSPpZ7HUb/6xI+lnsdRv/rEj6Wex1G/+sSPpZ7HUb/6xI+lnsdRv/rEj6Wex1G/+sSPpZ7HUb/6xI+lnsdRv/rEj6Wex1G/+sSPpZ7HUb/6xI+lnsdRv/rEj6Wex1G/+sSPpZ7HUb/6xI+lnsdRv/rEj6Wex1G/+sSPpZ7HUb/6xI+lnsdRv/rEj6Wex1G/+sSPpZ7HUb/6xI+lnsdRv/rEj6Wex1G/+sSPpZ7HUb/6xI+lnsdRv/rEj6Wex1G/+sSPpZ7HUb/6xI+lnsdRv/rEj6Wex1G/+sSPpZ7HUb/6xI+lnsdRv/rEj6Wex1G/+sSPpZ7HUb/6xI+lnsdRv/rEj6Wex1G/+sSPpZ7HUb/6xI+lnsdRv/rEj6Wex1G/+sSPpZ7HUb/6xI+lnsdRv/rEj6Wex1G/+sSPpZ7HUb/6xI+lnsdRv/rEj6Wex1G/+sSPpZ7HUb/6xI+lnsdRv/rEj6Wex1G/+sSPpZ7HUb/6xI+lnsdRv/rEj6Wex1G/+sSPpZ7HUb/6xI+lnsdRv/rEj6Wex1G/+sSPpZ7HUb/6xI+lnsdRv/rEj6Wex1G/+sSPpZ7HUb/6xI+lnsdRv/rEj6Wex1G/+sSPpZ7HUb/6xI+lnsdRv/rEj6Wex1G/+sSPpZ7HUb/6xI+lnsdRv/rEj6Wex1G/iRtDrVKbUr+JG0OtUptSv4kbQ61Sm1K/iRtDrVKbUr+JG0OtUptSv4kbQ61Sm1K/iRtDrVKbUr+JG0OtUptSv4kbQ61Sm1K/iRtDrVKbUr+JG0OtUptSv4kbQ61Sm1K/iRtDrVKbUr+JG0OtUptSv4kbQ61Sm1K/iRtDrVKbUr+JG0OtUptSv4kbQ61Sm1K/iRtDrVKbUr+JG0OtUptSv4kbQ61Sm1K/iRtDrVKbUr+JG0OtUptSv4kbQ61Sm1K/iRtDrVKbUr+JG0OtUptSv4kbQ61Sm1K/iRtDrVKbUr+JG0OtUptSv4kbQ61Sm1K/iRtDrVKbUr+JG0OtUptSv4kbQ61Sm1K/iRtDrVKbUr+JG0OtUptSv4kbQ61Sm1K/iRtDrVKbUr+JG0OtUptSv4kbQ61Sm1K/iRtDrVKbUr+JG0OtUptSv4kbQ61Sm1K/iRtDrVKbUr+JG0OtUptSv4kbQ61Sm1K/iRtDrVKbUr+JG0OtUptSv4kbQ61Sm1K/iRtDrVKbUr+JG0OtUptSv4kbQ61Sm1K/iRtDrVKbUr+JG0OtUptSv4kbQ61Sm1K/iRtDrVKbUr+JG0OtUptSv4kbQ61Sm1K/iRtDrVKbUr+JG0OtUptSv4kbQ61Sm1K/iRtDrVKbUr+JG0OtUptSv4kbQ61Sm1K/iRtDrVKbUr+JG0OtUptSv4kbQ61Sm1K/iRtDrVKbUr+JG0OtUptSv4kbQ61Sm1K/iRtDrVKbUr+JG0OtUptSv4kbQ61Sm1K/iRtDrVKbUr+JG0OtUptSv4kbQ61Sm1K/iRtDrVKbUr+JG0OtUptSv4kbQ61Sm1K/iRtDrVKbUr+JG0OtUptSv4kbQ61Sm1K/iRtDrVKbUr+JG0OtUptSv4kbQ61Sm1K/iRtDrVKbUr+JG0OtUptSv4kbQ61Sm1K/iRtDrVKbUr+JG0OtUptSv4kbQ61Sm1K/iRtDrVKbUr+JG0OtUptSv4kbQ61Sm1K/iRtDrVKbUr+JG0OtUptSv4kbQ61Sm1K/iRtDrVKbUr+JG0OtUptSv4kbQ61Sm1K/iRtDrVKbUr8Xcva0Bm9Tvxdy9rQGb1O/F3L2tAZvU78Xcva0Bm9Tvxdy9rQGb1O/F3L2tAZvU78Xcva0Bm9Tvxdy9rQGb1O/F3L2tAZvU78Xcva0Bm9Tvxdy9rQGb1O/F3L2tAZvU78Xcva0Bm9Tvxdy9rQGb1O/F3L2tAZvU78Xcva0Bm9Tvxdy9rQGb1O/F3L2tAZvU78Xcva0Bm9Tvxdy9rQGb1O/F3L2tAZvU78Xcva0Bm9Tvxdy9rQGb1O/F3L2tAZvU78Xcva0Bm9Tvxdy9rQGb1O/F3L2tAZvU78Xcva0Bm9Tvxdy9rQGb1O/F3L2tAZvU78Xcva0Bm9Tvxdy9rQGb1O/F3L2tAZvU78Xcva0Bm9Tvxdy9rQGb1O/F3L2tAZvU78Xcva0Bm9Tvxdy9rQGb1O/F3L2tAZvU78Xcva0Bm9Tvxdy9rQGb1O/F3L2tAZvU78Xcva0Bm9Tvxdy9rQGb1O/F3L2tAZvU78Xcva0Bm9Tvxdy9rQGb1O/F3L2tAZvU78Xcva0Bm9Tvxdy9rQGb1O/F3L2tAZvU78Xcva0Bm9Tvxdy9rQGb1O/F3L2tAZvU78Xcva0Bm9Tvxdy9rQGb1O/F3L2tAZvU78Xcva0Bm9Tvxdy9rQGb1O/F3L2tAZvU78Xcva0Bm9Tvxdy9rQGb1O/F3L2tAZvU78Xcva0Bm9Tvxdy9rQGb1O/F3L2tAZvU78Xcva0Bm9Tvxdy9rQGb1O/F3L2tAZvU78Xcva0Bm9Tvxdy9rQGb1O/F3L2tAZvU78Xcva0Bm9Tvxdy9rQGb1O/F3L2tAZvU78Xcva0Bm9Tvxdy9rQGb1O/F3L2tAZvU78Xcva0Bm9Tvxdy9rQGb1O/F3L2tAZvU78Xcva0Bm9Tvxdy9rQGb1O/F3L2tAZvU78Xcva0Bm9Tvxdy9rQGb1O/F3L2tAZvU78Xcva0Bm9Tvxdy9rQGb1O/F3L2tAZvU78Xcva0Bm9Tvxdy9rQGb1O/F3L2tAZvU78Xcva0Bm9Tvxdy9rQGb1O/F3L2tAZvU78Xcva0Bm9Tvxdy9rQGb1O/F3L2tAZvU78Xcva0Bm9Tv6bIqby6QlS/psipvLpCVL+myKm8ukJUv6bIqby6QlS/psipvLpCVL+myKm8ukJUv6bIqby6QlS/psipvLpCVL+myKm8ukJUv6bIqby6QlS/psipvLpCVL+myKm8ukJUv6bIqby6QlS/psipvLpCVL+myKm8ukJUv6bIqby6QlS/psipvLpCVL+myKm8ukJUv6bIqby6QlS/psipvLpCVL+myKm8ukJUv6bIqby6QlS/psipvLpCVL+myKm8ukJUv6bIqby6QlS/psipvLpCVL+myKm8ukJUv6bIqby6QlS/psipvLpCVL+myKm8ukJUv6bIqby6QlS/psipvLpCVL+myKm8ukJUv6bIqby6QlS/psipvLpCVL+myKm8ukJUv6bIqby6QlS/psipvLpCVL+myKm8ukJUv6bIqby6QlS/psipvLpCVL+myKm8ukJUv6bIqby6QlS/psipvLpCVL+myKm8ukJUv6bIqby6QlS/psipvLpCVL+myKm8ukJUv6bIqby6QlS/psipvLpCVL+myKm8ukJUv6bIqby6QlS/psipvLpCVL+myKm8ukJUv6bIqby6QlS/psipvLpCVL+myKm8ukJUv6bIqby6QlS/psipvLpCVL+myKm8ukJUv6bIqby6QlS/psipvLpCVL+myKm8ukJUv6bIqby6QlS/psipvLpCVL+myKm8ukJUv6bIqby6QlS/psipvLpCVL+myKm8ukJUv6bIqby6QlS/psipvLpCVL+myKm8ukJUv6bIqby6QlS/psipvLpCVL+myKm8ukJUv6bIqby6QlS/psipvLpCVL+myKm8ukJUv6bIqby6QlS/psipvLpCVL+myKm8ukJUv6bIqby6QlS/psipvLpCVL+myKm8ukJUv6bIqby6QlS/psipvLpCVL+myKm8ukJUv6bIqby6QlS/psipvLpCVL+myKm8ukJUv6bIqby6QlS/psipvLpCVL+myKm8ukJUv6bIqby6QlS/psipvLpCVL+myKm8ukJUv6bIqby6QlS/psipvLpCVL+myKm8ukJUv6bIqby6QlS/NR9dxG4WVb81H13EbhZVvzUfXcRuFlW/NR9dxG4WVb81H13EbhZVvzUfXcRuFlW/NR9dxG4WVb81H13EbhZVvzUfXcRuFlW/NR9dxG4WVb81H13EbhZVvzUfXcRuFlW/NR9dxG4WVb81H13EbhZVvzUfXcRuFlW/NR9dxG4WVb81H13EbhZVvzUfXcRuFlW/NR9dxG4WVb81H13EbhZVvzUfXcRuFlW/NR9dxG4WVb81H13EbhZVvzUfXcRuFlW/NR9dxG4WVb81H13EbhZVvzUfXcRuFlW/NR9dxG4WVb81H13EbhZVvzUfXcRuFlW/NR9dxG4WVb81H13EbhZVvzUfXcRuFlW/NR9dxG4WVb81H13EbhZVvzUfXcRuFlW/NR9dxG4WVb81H13EbhZVvzUfXcRuFlW/NR9dxG4WVb81H13EbhZVvzUfXcRuFlW/NR9dxG4WVb81H13EbhZVvzUfXcRuFlW/NR9dxG4WVb81H13EbhZVvzUfXcRuFlW/NR9dxG4WVb81H13EbhZVvzUfXcRuFlW/NR9dxG4WVb81H13EbhZVvzUfXcRuFlW/NR9dxG4WVb81H13EbhZVvzUfXcRuFlW/NR9dxG4WVb81H13EbhZVvzUfXcRuFlW/NR9dxG4WVb81H13EbhZVvzUfXcRuFlW/NR9dxG4WVb81H13EbhZVvzUfXcRuFlW/NR9dxG4WVb81H13EbhZVvzUfXcRuFlW/NR9dxG4WVb81H13EbhZVvzUfXcRuFlW/NR9dxG4WVb81H13EbhZVvzUfXcRuFlW/NR9dxG4WVb81H13EbhZVvzUfXcRuFlW/NR9dxG4WVb81H13EbhZVvzUfXcRuFlW/NR9dxG4WVb81H13EbhZVvzUfXcRuFlW/NR9dxG4WVb81H13EbhZVvzUfXcRuFlW/NR9dxG4WVb81H13EbhZVvzUfXcRuFlW/NR9dxG4WVb81H13EbhZVvzUfXcRuFlW/NR9dxG4WVb81H13EbhZVvzUfXcRuFlW/NR9dxG4WVb81H13EbhZVvzUfXcRuFlW/NR9dxG4WVb/DdRDMIupVv8N1EMwi6lW/w3UQzCLqVb/DdRDMIupVv8N1EMwi6lW/w3UQzCLqVb/DdRDMIupVv8N1EMwi6lW/w3UQzCLqVb/DdRDMIupVv8N1EMwi6lW/w3UQzCLqVb/DdRDMIupVv8N1EMwi6lW/w3UQzCLqVb/DdRDMIupVv8N1EMwi6lW/w3UQzCLqVb/DdRDMIupVv8N1EMwi6lW/w3UQzCLqVb/DdRDMIupVv8N1EMwi6lW/w3UQzCLqVb/DdRDMIupVv8N1EMwi6lW/w3UQzCLqVb/DdRDMIupVv8N1EMwi6lW/w3UQzCLqVb/DdRDMIupVv8N1EMwi6lW/w3UQzCLqVb/DdRDMIupVv8N1EMwi6lW/w3UQzCLqVb/DdRDMIupVv8N1EMwi6lW/w3UQzCLqVb/DdRDMIupVv8N1EMwi6lW/w3UQzCLqVb/DdRDMIupVv8N1EMwi6lW/w3UQzCLqVb/DdRDMIupVv8N1EMwi6lW/w3UQzCLqVb/DdRDMIupVv8N1EMwi6lW/w3UQzCLqVb/DdRDMIupVv8N1EMwi6lW/w3UQzCLqVb/DdRDMIupVv8N1EMwi6lW/w3UQzCLqVb/DdRDMIupVv8N1EMwi6lW/w3UQzCLqVb/DdRDMIupVv8N1EMwi6lW/w3UQzCLqVb/DdRDMIupVv8N1EMwi6lW/w3UQzCLqVb/DdRDMIupVv8N1EMwi6lW/w3UQzCLqVb/DdRDMIupVv8N1EMwi6lW/w3UQzCLqVb/DdRDMIupVv8N1EMwi6lW/w3UQzCLqVb/DdRDMIupVv8N1EMwi6lW/w3UQzCLqVb/DdRDMIupVv8N1EMwi6lW/w3UQzCLqVb/DdRDMIupVv8N1EMwi6lW/w3UQzCLqVb/DdRDMIupVv8N1EMwi6lW/w3UQzCLqVb/DdRDMIupVv8N1EMwi6lW/w3UQzCLqVb/DdRDMIupVv8N1EMwi6lW/w3UQzCLqVb/DdRDMIupVv8N1EMwi6lW/w3UQzCLqVb/DdRDMIupVv8N1EMwi6lW/w3UQzCLqVb/DdRDMIupVv1LMw9PWvVa/UszD09a9Vr9SzMPT1r1Wv1LMw9PWvVa/UszD09a9Vr9SzMPT1r1Wv1LMw9PWvVa/UszD09a9Vr9SzMPT1r1Wv1LMw9PWvVa/UszD09a9Vr9SzMPT1r1Wv1LMw9PWvVa/UszD09a9Vr9SzMPT1r1Wv1LMw9PWvVa/UszD09a9Vr9SzMPT1r1Wv1LMw9PWvVa/UszD09a9Vr9SzMPT1r1Wv1LMw9PWvVa/UszD09a9Vr9SzMPT1r1Wv1LMw9PWvVa/UszD09a9Vr9SzMPT1r1Wv1LMw9PWvVa/UszD09a9Vr9SzMPT1r1Wv1LMw9PWvVa/UszD09a9Vr9SzMPT1r1Wv1LMw9PWvVa/UszD09a9Vr9SzMPT1r1Wv1LMw9PWvVa/UszD09a9Vr9SzMPT1r1Wv1LMw9PWvVa/UszD09a9Vr9SzMPT1r1Wv1LMw9PWvVa/UszD09a9Vr9SzMPT1r1Wv1LMw9PWvVa/UszD09a9Vr9SzMPT1r1Wv1LMw9PWvVa/UszD09a9Vr9SzMPT1r1Wv1LMw9PWvVa/UszD09a9Vr9SzMPT1r1Wv1LMw9PWvVa/UszD09a9Vr9SzMPT1r1Wv1LMw9PWvVa/UszD09a9Vr9SzMPT1r1Wv1LMw9PWvVa/UszD09a9Vr9SzMPT1r1Wv1LMw9PWvVa/UszD09a9Vr9SzMPT1r1Wv1LMw9PWvVa/UszD09a9Vr9SzMPT1r1Wv1LMw9PWvVa/UszD09a9Vr9SzMPT1r1Wv1LMw9PWvVa/UszD09a9Vr9SzMPT1r1Wv1LMw9PWvVa/UszD09a9Vr9SzMPT1r1Wv1LMw9PWvVa/UszD09a9Vr9SzMPT1r1Wv1LMw9PWvVa/UszD09a9Vr9SzMPT1r1Wv1LMw9PWvVa/UszD09a9Vr9SzMPT1r1Wv1LMw9PWvVa/UszD09a9Vr9SzMPT1r1Wv1LMw9PWvVa/UszD09a9Vr9SzMPT1r1Wv1LMw9PWvVa/UszD09a9Vr9SzMPT1r1Wv1LMw9PWvVa/UszD09a9Vr9SzMPT1r1Wv1LMw9PWvVa/4CJ324qRV7/gInfbipFXv+Aid9uKkVe/4CJ324qRV7/gInfbipFXv+Aid9uKkVe/4CJ324qRV7/gInfbipFXv+Aid9uKkVe/4CJ324qRV7/gInfbipFXv+Aid9uKkVe/4CJ324qRV7/gInfbipFXv+Aid9uKkVe/4CJ324qRV7/gInfbipFXv+Aid9uKkVe/4CJ324qRV7/gInfbipFXv+Aid9uKkVe/4CJ324qRV7/gInfbipFXv+Aid9uKkVe/4CJ324qRV7/gInfbipFXv+Aid9uKkVe/4CJ324qRV7/gInfbipFXv+Aid9uKkVe/4CJ324qRV7/gInfbipFXv+Aid9uKkVe/4CJ324qRV7/gInfbipFXv+Aid9uKkVe/4CJ324qRV7/gInfbipFXv+Aid9uKkVe/4CJ324qRV7/gInfbipFXv+Aid9uKkVe/4CJ324qRV7/gInfbipFXv+Aid9uKkVe/4CJ324qRV7/gInfbipFXv+Aid9uKkVe/4CJ324qRV7/gInfbipFXv+Aid9uKkVe/4CJ324qRV7/gInfbipFXv+Aid9uKkVe/4CJ324qRV7/gInfbipFXv+Aid9uKkVe/4CJ324qRV7/gInfbipFXv+Aid9uKkVe/4CJ324qRV7/gInfbipFXv+Aid9uKkVe/4CJ324qRV7/gInfbipFXv+Aid9uKkVe/4CJ324qRV7/gInfbipFXv+Aid9uKkVe/4CJ324qRV7/gInfbipFXv+Aid9uKkVe/4CJ324qRV7/gInfbipFXv+Aid9uKkVe/4CJ324qRV7/gInfbipFXv+Aid9uKkVe/4CJ324qRV7/gInfbipFXv+Aid9uKkVe/4CJ324qRV7/gInfbipFXv+Aid9uKkVe/4CJ324qRV7/gInfbipFXv+Aid9uKkVe/4CJ324qRV7/gInfbipFXv+Aid9uKkVe/4CJ324qRV7/gInfbipFXv+Aid9uKkVe/4CJ324qRV7/gInfbipFXv+Aid9uKkVe/4CJ324qRV7/gInfbipFXv+Aid9uKkVe/4CJ324qRV79veSrjPmVYv295KuM+ZVi/b3kq4z5lWL9veSrjPmVYv295KuM+ZVi/b3kq4z5lWL9veSrjPmVYv295KuM+ZVi/b3kq4z5lWL9veSrjPmVYv295KuM+ZVi/b3kq4z5lWL9veSrjPmVYv295KuM+ZVi/b3kq4z5lWL9veSrjPmVYv295KuM+ZVi/b3kq4z5lWL9veSrjPmVYv295KuM+ZVi/b3kq4z5lWL9veSrjPmVYv295KuM+ZVi/b3kq4z5lWL9veSrjPmVYv295KuM+ZVi/b3kq4z5lWL9veSrjPmVYv295KuM+ZVi/b3kq4z5lWL9veSrjPmVYv295KuM+ZVi/b3kq4z5lWL9veSrjPmVYv295KuM+ZVi/b3kq4z5lWL9veSrjPmVYv295KuM+ZVi/b3kq4z5lWL9veSrjPmVYv295KuM+ZVi/b3kq4z5lWL9veSrjPmVYv295KuM+ZVi/b3kq4z5lWL9veSrjPmVYv295KuM+ZVi/b3kq4z5lWL9veSrjPmVYv295KuM+ZVi/b3kq4z5lWL9veSrjPmVYv295KuM+ZVi/b3kq4z5lWL9veSrjPmVYv295KuM+ZVi/b3kq4z5lWL9veSrjPmVYv295KuM+ZVi/b3kq4z5lWL9veSrjPmVYv295KuM+ZVi/b3kq4z5lWL9veSrjPmVYv295KuM+ZVi/b3kq4z5lWL9veSrjPmVYv295KuM+ZVi/b3kq4z5lWL9veSrjPmVYv295KuM+ZVi/b3kq4z5lWL9veSrjPmVYv295KuM+ZVi/b3kq4z5lWL9veSrjPmVYv295KuM+ZVi/b3kq4z5lWL9veSrjPmVYv295KuM+ZVi/b3kq4z5lWL9veSrjPmVYv295KuM+ZVi/b3kq4z5lWL9veSrjPmVYv295KuM+ZVi/b3kq4z5lWL9veSrjPmVYv295KuM+ZVi/b3kq4z5lWL9veSrjPmVYv295KuM+ZVi/b3kq4z5lWL9veSrjPmVYv295KuM+ZVi/b3kq4z5lWL9veSrjPmVYv295KuM+ZVi/b3kq4z5lWL9veSrjPmVYv/7P3eryOFm//s/d6vI4Wb/+z93q8jhZv/7P3eryOFm//s/d6vI4Wb/+z93q8jhZv/7P3eryOFm//s/d6vI4Wb/+z93q8jhZv/7P3eryOFm//s/d6vI4Wb/+z93q8jhZv/7P3eryOFm//s/d6vI4Wb/+z93q8jhZv/7P3eryOFm//s/d6vI4Wb/+z93q8jhZv/7P3eryOFm//s/d6vI4Wb/+z93q8jhZv/7P3eryOFm//s/d6vI4Wb/+z93q8jhZv/7P3eryOFm//s/d6vI4Wb/+z93q8jhZv/7P3eryOFm//s/d6vI4Wb/+z93q8jhZv/7P3eryOFm//s/d6vI4Wb/+z93q8jhZv/7P3eryOFm//s/d6vI4Wb/+z93q8jhZv/7P3eryOFm//s/d6vI4Wb/+z93q8jhZv/7P3eryOFm//s/d6vI4Wb/+z93q8jhZv/7P3eryOFm//s/d6vI4Wb/+z93q8jhZv/7P3eryOFm//s/d6vI4Wb/+z93q8jhZv/7P3eryOFm//s/d6vI4Wb/+z93q8jhZv/7P3eryOFm//s/d6vI4Wb/+z93q8jhZv/7P3eryOFm//s/d6vI4Wb/+z93q8jhZv/7P3eryOFm//s/d6vI4Wb/+z93q8jhZv/7P3eryOFm//s/d6vI4Wb/+z93q8jhZv/7P3eryOFm//s/d6vI4Wb/+z93q8jhZv/7P3eryOFm//s/d6vI4Wb/+z93q8jhZv/7P3eryOFm//s/d6vI4Wb/+z93q8jhZv/7P3eryOFm//s/d6vI4Wb/+z93q8jhZv/7P3eryOFm//s/d6vI4Wb/+z93q8jhZv/7P3eryOFm//s/d6vI4Wb/+z93q8jhZv/7P3eryOFm//s/d6vI4Wb/+z93q8jhZv/7P3eryOFm//s/d6vI4Wb/+z93q8jhZv/7P3eryOFm//s/d6vI4Wb/+z93q8jhZv/7P3eryOFm//s/d6vI4Wb/+z93q8jhZv/7P3eryOFm//s/d6vI4Wb/+z93q8jhZv/7P3eryOFm//s/d6vI4Wb/+z93q8jhZv/7P3eryOFm/jCaR8qYMWr+MJpHypgxav4wmkfKmDFq/jCaR8qYMWr+MJpHypgxav4wmkfKmDFq/jCaR8qYMWr+MJpHypgxav4wmkfKmDFq/jCaR8qYMWr+MJpHypgxav4wmkfKmDFq/jCaR8qYMWr+MJpHypgxav4wmkfKmDFq/jCaR8qYMWr+MJpHypgxav4wmkfKmDFq/jCaR8qYMWr+MJpHypgxav4wmkfKmDFq/jCaR8qYMWr+MJpHypgxav4wmkfKmDFq/jCaR8qYMWr+MJpHypgxav4wmkfKmDFq/jCaR8qYMWr+MJpHypgxav4wmkfKmDFq/jCaR8qYMWr+MJpHypgxav4wmkfKmDFq/jCaR8qYMWr+MJpHypgxav4wmkfKmDFq/jCaR8qYMWr+MJpHypgxav4wmkfKmDFq/jCaR8qYMWr+MJpHypgxav4wmkfKmDFq/jCaR8qYMWr+MJpHypgxav4wmkfKmDFq/jCaR8qYMWr+MJpHypgxav4wmkfKmDFq/jCaR8qYMWr+MJpHypgxav4wmkfKmDFq/jCaR8qYMWr+MJpHypgxav4wmkfKmDFq/jCaR8qYMWr+MJpHypgxav4wmkfKmDFq/jCaR8qYMWr+MJpHypgxav4wmkfKmDFq/jCaR8qYMWr+MJpHypgxav4wmkfKmDFq/jCaR8qYMWr+MJpHypgxav4wmkfKmDFq/jCaR8qYMWr+MJpHypgxav4wmkfKmDFq/jCaR8qYMWr+MJpHypgxav4wmkfKmDFq/jCaR8qYMWr+MJpHypgxav4wmkfKmDFq/jCaR8qYMWr+MJpHypgxav4wmkfKmDFq/jCaR8qYMWr+MJpHypgxav4wmkfKmDFq/jCaR8qYMWr+MJpHypgxav4wmkfKmDFq/jCaR8qYMWr+MJpHypgxav4wmkfKmDFq/jCaR8qYMWr+MJpHypgxav4wmkfKmDFq/jCaR8qYMWr+MJpHypgxav4wmkfKmDFq/jCaR8qYMWr+MJpHypgxav4wmkfKmDFq/jCaR8qYMWr+MJpHypgxav4wmkfKmDFq/jCaR8qYMWr8bfUT6WuBavxt9RPpa4Fq/G31E+lrgWr8bfUT6WuBavxt9RPpa4Fq/G31E+lrgWr8bfUT6WuBavxt9RPpa4Fq/G31E+lrgWr8bfUT6WuBavxt9RPpa4Fq/G31E+lrgWr8bfUT6WuBavxt9RPpa4Fq/G31E+lrgWr8bfUT6WuBavxt9RPpa4Fq/G31E+lrgWr8bfUT6WuBavxt9RPpa4Fq/G31E+lrgWr8bfUT6WuBavxt9RPpa4Fq/G31E+lrgWr8bfUT6WuBavxt9RPpa4Fq/G31E+lrgWr8bfUT6WuBavxt9RPpa4Fq/G31E+lrgWr8bfUT6WuBavxt9RPpa4Fq/G31E+lrgWr8bfUT6WuBavxt9RPpa4Fq/G31E+lrgWr8bfUT6WuBavxt9RPpa4Fq/G31E+lrgWr8bfUT6WuBavxt9RPpa4Fq/G31E+lrgWr8bfUT6WuBavxt9RPpa4Fq/G31E+lrgWr8bfUT6WuBavxt9RPpa4Fq/G31E+lrgWr8bfUT6WuBavxt9RPpa4Fq/G31E+lrgWr8bfUT6WuBavxt9RPpa4Fq/G31E+lrgWr8bfUT6WuBavxt9RPpa4Fq/G31E+lrgWr8bfUT6WuBavxt9RPpa4Fq/G31E+lrgWr8bfUT6WuBavxt9RPpa4Fq/G31E+lrgWr8bfUT6WuBavxt9RPpa4Fq/G31E+lrgWr8bfUT6WuBavxt9RPpa4Fq/G31E+lrgWr8bfUT6WuBavxt9RPpa4Fq/G31E+lrgWr8bfUT6WuBavxt9RPpa4Fq/G31E+lrgWr8bfUT6WuBavxt9RPpa4Fq/G31E+lrgWr8bfUT6WuBavxt9RPpa4Fq/G31E+lrgWr8bfUT6WuBavxt9RPpa4Fq/G31E+lrgWr8bfUT6WuBavxt9RPpa4Fq/G31E+lrgWr8bfUT6WuBavxt9RPpa4Fq/G31E+lrgWr8bfUT6WuBavxt9RPpa4Fq/G31E+lrgWr8bfUT6WuBavxt9RPpa4Fq/G31E+lrgWr8bfUT6WuBavxt9RPpa4Fq/G31E+lrgWr8bfUT6WuBav6nT9wEPtFu/qdP3AQ+0W7+p0/cBD7Rbv6nT9wEPtFu/qdP3AQ+0W7+p0/cBD7Rbv6nT9wEPtFu/qdP3AQ+0W7+p0/cBD7Rbv6nT9wEPtFu/qdP3AQ+0W7+p0/cBD7Rbv6nT9wEPtFu/qdP3AQ+0W7+p0/cBD7Rbv6nT9wEPtFu/qdP3AQ+0W7+p0/cBD7Rbv6nT9wEPtFu/qdP3AQ+0W7+p0/cBD7Rbv6nT9wEPtFu/qdP3AQ+0W7+p0/cBD7Rbv6nT9wEPtFu/qdP3AQ+0W7+p0/cBD7Rbv6nT9wEPtFu/qdP3AQ+0W7+p0/cBD7Rbv6nT9wEPtFu/qdP3AQ+0W7+p0/cBD7Rbv6nT9wEPtFu/qdP3AQ+0W7+p0/cBD7Rbv6nT9wEPtFu/qdP3AQ+0W7+p0/cBD7Rbv6nT9wEPtFu/qdP3AQ+0W7+p0/cBD7Rbv6nT9wEPtFu/qdP3AQ+0W7+p0/cBD7Rbv6nT9wEPtFu/qdP3AQ+0W7+p0/cBD7Rbv6nT9wEPtFu/qdP3AQ+0W7+p0/cBD7Rbv6nT9wEPtFu/qdP3AQ+0W7+p0/cBD7Rbv6nT9wEPtFu/qdP3AQ+0W7+p0/cBD7Rbv6nT9wEPtFu/qdP3AQ+0W7+p0/cBD7Rbv6nT9wEPtFu/qdP3AQ+0W7+p0/cBD7Rbv6nT9wEPtFu/qdP3AQ+0W7+p0/cBD7Rbv6nT9wEPtFu/qdP3AQ+0W7+p0/cBD7Rbv6nT9wEPtFu/qdP3AQ+0W7+p0/cBD7Rbv6nT9wEPtFu/qdP3AQ+0W7+p0/cBD7Rbv6nT9wEPtFu/qdP3AQ+0W7+p0/cBD7Rbv6nT9wEPtFu/qdP3AQ+0W7+p0/cBD7Rbv6nT9wEPtFu/qdP3AQ+0W7+p0/cBD7Rbv6nT9wEPtFu/qdP3AQ+0W7+p0/cBD7Rbv6nT9wEPtFu/qdP3AQ+0W7+p0/cBD7Rbv6nT9wEPtFu/qdP3AQ+0W7+p0/cBD7Rbv6nT9wEPtFu/qdP3AQ+0W7+p0/cBD7Rbv6nT9wEPtFu/qdP3AQ+0W7+p0/cBD7Rbv6nT9wEPtFu/OCqrCcOHXL84KqsJw4dcvzgqqwnDh1y/OCqrCcOHXL84KqsJw4dcvzgqqwnDh1y/OCqrCcOHXL84KqsJw4dcvzgqqwnDh1y/OCqrCcOHXL84KqsJw4dcvzgqqwnDh1y/OCqrCcOHXL84KqsJw4dcvzgqqwnDh1y/OCqrCcOHXL84KqsJw4dcvzgqqwnDh1y/OCqrCcOHXL84KqsJw4dcvzgqqwnDh1y/OCqrCcOHXL84KqsJw4dcvzgqqwnDh1y/OCqrCcOHXL84KqsJw4dcvzgqqwnDh1y/OCqrCcOHXL84KqsJw4dcvzgqqwnDh1y/OCqrCcOHXL84KqsJw4dcvzgqqwnDh1y/OCqrCcOHXL84KqsJw4dcvzgqqwnDh1y/OCqrCcOHXL84KqsJw4dcvzgqqwnDh1y/OCqrCcOHXL84KqsJw4dcvzgqqwnDh1y/OCqrCcOHXL84KqsJw4dcvzgqqwnDh1y/OCqrCcOHXL84KqsJw4dcvzgqqwnDh1y/OCqrCcOHXL84KqsJw4dcvzgqqwnDh1y/OCqrCcOHXL84KqsJw4dcvzgqqwnDh1y/OCqrCcOHXL84KqsJw4dcvzgqqwnDh1y/OCqrCcOHXL84KqsJw4dcvzgqqwnDh1y/OCqrCcOHXL84KqsJw4dcvzgqqwnDh1y/OCqrCcOHXL84KqsJw4dcvzgqqwnDh1y/OCqrCcOHXL84KqsJw4dcvzgqqwnDh1y/OCqrCcOHXL84KqsJw4dcvzgqqwnDh1y/OCqrCcOHXL84KqsJw4dcvzgqqwnDh1y/OCqrCcOHXL84KqsJw4dcvzgqqwnDh1y/OCqrCcOHXL84KqsJw4dcvzgqqwnDh1y/OCqrCcOHXL84KqsJw4dcvzgqqwnDh1y/OCqrCcOHXL84KqsJw4dcvzgqqwnDh1y/OCqrCcOHXL84KqsJw4dcvzgqqwnDh1y/OCqrCcOHXL84KqsJw4dcvzgqqwnDh1y/OCqrCcOHXL84KqsJw4dcvzgqqwnDh1y/OCqrCcOHXL84KqsJw4dcvzgqqwnDh1y/OCqrCcOHXL/HgF4Rd1tdv8eAXhF3W12/x4BeEXdbXb/HgF4Rd1tdv8eAXhF3W12/x4BeEXdbXb/HgF4Rd1tdv8eAXhF3W12/x4BeEXdbXb/HgF4Rd1tdv8eAXhF3W12/x4BeEXdbXb/HgF4Rd1tdv8eAXhF3W12/x4BeEXdbXb/HgF4Rd1tdv8eAXhF3W12/x4BeEXdbXb/HgF4Rd1tdv8eAXhF3W12/x4BeEXdbXb/HgF4Rd1tdv8eAXhF3W12/x4BeEXdbXb/HgF4Rd1tdv8eAXhF3W12/x4BeEXdbXb/HgF4Rd1tdv8eAXhF3W12/x4BeEXdbXb/HgF4Rd1tdv8eAXhF3W12/x4BeEXdbXb/HgF4Rd1tdv8eAXhF3W12/x4BeEXdbXb/HgF4Rd1tdv8eAXhF3W12/x4BeEXdbXb/HgF4Rd1tdv8eAXhF3W12/x4BeEXdbXb/HgF4Rd1tdv8eAXhF3W12/x4BeEXdbXb/HgF4Rd1tdv8eAXhF3W12/x4BeEXdbXb/HgF4Rd1tdv8eAXhF3W12/x4BeEXdbXb/HgF4Rd1tdv8eAXhF3W12/x4BeEXdbXb/HgF4Rd1tdv8eAXhF3W12/x4BeEXdbXb/HgF4Rd1tdv8eAXhF3W12/x4BeEXdbXb/HgF4Rd1tdv8eAXhF3W12/x4BeEXdbXb/HgF4Rd1tdv8eAXhF3W12/x4BeEXdbXb/HgF4Rd1tdv8eAXhF3W12/x4BeEXdbXb/HgF4Rd1tdv8eAXhF3W12/x4BeEXdbXb/HgF4Rd1tdv8eAXhF3W12/x4BeEXdbXb/HgF4Rd1tdv8eAXhF3W12/x4BeEXdbXb/HgF4Rd1tdv8eAXhF3W12/x4BeEXdbXb/HgF4Rd1tdv8eAXhF3W12/x4BeEXdbXb/HgF4Rd1tdv8eAXhF3W12/x4BeEXdbXb/HgF4Rd1tdv8eAXhF3W12/x4BeEXdbXb/HgF4Rd1tdv8eAXhF3W12/x4BeEXdbXb/HgF4Rd1tdv8eAXhF3W12/x4BeEXdbXb/HgF4Rd1tdv8eAXhF3W12/x4BeEXdbXb/HgF4Rd1tdv1XXERkrL16/VdcRGSsvXr9V1xEZKy9ev1XXERkrL16/VdcRGSsvXr9V1xEZKy9ev1XXERkrL16/VdcRGSsvXr9V1xEZKy9ev1XXERkrL16/VdcRGSsvXr9V1xEZKy9ev1XXERkrL16/VdcRGSsvXr9V1xEZKy9ev1XXERkrL16/VdcRGSsvXr9V1xEZKy9ev1XXERkrL16/VdcRGSsvXr9V1xEZKy9ev1XXERkrL16/VdcRGSsvXr9V1xEZKy9ev1XXERkrL16/VdcRGSsvXr9V1xEZKy9ev1XXERkrL16/VdcRGSsvXr9V1xEZKy9ev1XXERkrL16/VdcRGSsvXr9V1xEZKy9ev1XXERkrL16/VdcRGSsvXr9V1xEZKy9ev1XXERkrL16/VdcRGSsvXr9V1xEZKy9ev1XXERkrL16/VdcRGSsvXr9V1xEZKy9ev1XXERkrL16/VdcRGSsvXr9V1xEZKy9ev1XXERkrL16/VdcRGSsvXr9V1xEZKy9ev1XXERkrL16/VdcRGSsvXr9V1xEZKy9ev1XXERkrL16/VdcRGSsvXr9V1xEZKy9ev1XXERkrL16/VdcRGSsvXr9V1xEZKy9ev1XXERkrL16/VdcRGSsvXr9V1xEZKy9ev1XXERkrL16/VdcRGSsvXr9V1xEZKy9ev1XXERkrL16/VdcRGSsvXr9V1xEZKy9ev1XXERkrL16/VdcRGSsvXr9V1xEZKy9ev1XXERkrL16/VdcRGSsvXr9V1xEZKy9ev1XXERkrL16/VdcRGSsvXr9V1xEZKy9ev1XXERkrL16/VdcRGSsvXr9V1xEZKy9ev1XXERkrL16/VdcRGSsvXr9V1xEZKy9ev1XXERkrL16/VdcRGSsvXr9V1xEZKy9ev1XXERkrL16/VdcRGSsvXr9V1xEZKy9ev1XXERkrL16/VdcRGSsvXr9V1xEZKy9ev1XXERkrL16/VdcRGSsvXr9V1xEZKy9ev1XXERkrL16/VdcRGSsvXr9V1xEZKy9ev1XXERkrL16/VdcRGSsvXr9V1xEZKy9ev1XXERkrL16/5C3FIN8CX7/kLcUg3wJfv+QtxSDfAl+/5C3FIN8CX7/kLcUg3wJfv+QtxSDfAl+/5C3FIN8CX7/kLcUg3wJfv+QtxSDfAl+/5C3FIN8CX7/kLcUg3wJfv+QtxSDfAl+/5C3FIN8CX7/kLcUg3wJfv+QtxSDfAl+/5C3FIN8CX7/kLcUg3wJfv+QtxSDfAl+/5C3FIN8CX7/kLcUg3wJfv+QtxSDfAl+/5C3FIN8CX7/kLcUg3wJfv+QtxSDfAl+/5C3FIN8CX7/kLcUg3wJfv+QtxSDfAl+/5C3FIN8CX7/kLcUg3wJfv+QtxSDfAl+/5C3FIN8CX7/kLcUg3wJfv+QtxSDfAl+/5C3FIN8CX7/kLcUg3wJfv+QtxSDfAl+/5C3FIN8CX7/kLcUg3wJfv+QtxSDfAl+/5C3FIN8CX7/kLcUg3wJfv+QtxSDfAl+/5C3FIN8CX7/kLcUg3wJfv+QtxSDfAl+/5C3FIN8CX7/kLcUg3wJfv+QtxSDfAl+/5C3FIN8CX7/kLcUg3wJfv+QtxSDfAl+/5C3FIN8CX7/kLcUg3wJfv+QtxSDfAl+/5C3FIN8CX7/kLcUg3wJfv+QtxSDfAl+/5C3FIN8CX7/kLcUg3wJfv+QtxSDfAl+/5C3FIN8CX7/kLcUg3wJfv+QtxSDfAl+/5C3FIN8CX7/kLcUg3wJfv+QtxSDfAl+/5C3FIN8CX7/kLcUg3wJfv+QtxSDfAl+/5C3FIN8CX7/kLcUg3wJfv+QtxSDfAl+/5C3FIN8CX7/kLcUg3wJfv+QtxSDfAl+/5C3FIN8CX7/kLcUg3wJfv+QtxSDfAl+/5C3FIN8CX7/kLcUg3wJfv+QtxSDfAl+/5C3FIN8CX7/kLcUg3wJfv+QtxSDfAl+/5C3FIN8CX7/kLcUg3wJfv+QtxSDfAl+/5C3FIN8CX7/kLcUg3wJfv+QtxSDfAl+/5C3FIN8CX7/kLcUg3wJfv+QtxSDfAl+/5C3FIN8CX7/kLcUg3wJfv+QtxSDfAl+/5C3FIN8CX7/kLcUg3wJfv+QtxSDfAl+/5C3FIN8CX79yhHgok9Zfv3KEeCiT1l+/coR4KJPWX79yhHgok9Zfv3KEeCiT1l+/coR4KJPWX79yhHgok9Zfv3KEeCiT1l+/coR4KJPWX79yhHgok9Zfv3KEeCiT1l+/coR4KJPWX79yhHgok9Zfv3KEeCiT1l+/coR4KJPWX79yhHgok9Zfv3KEeCiT1l+/coR4KJPWX79yhHgok9Zfv3KEeCiT1l+/coR4KJPWX79yhHgok9Zfv3KEeCiT1l+/coR4KJPWX79yhHgok9Zfv3KEeCiT1l+/coR4KJPWX79yhHgok9Zfv3KEeCiT1l+/coR4KJPWX79yhHgok9Zfv3KEeCiT1l+/coR4KJPWX79yhHgok9Zfv3KEeCiT1l+/coR4KJPWX79yhHgok9Zfv3KEeCiT1l+/coR4KJPWX79yhHgok9Zfv3KEeCiT1l+/coR4KJPWX79yhHgok9Zfv3KEeCiT1l+/coR4KJPWX79yhHgok9Zfv3KEeCiT1l+/coR4KJPWX79yhHgok9Zfv3KEeCiT1l+/coR4KJPWX79yhHgok9Zfv3KEeCiT1l+/coR4KJPWX79yhHgok9Zfv3KEeCiT1l+/coR4KJPWX79yhHgok9Zfv3KEeCiT1l+/coR4KJPWX79yhHgok9Zfv3KEeCiT1l+/coR4KJPWX79yhHgok9Zfv3KEeCiT1l+/coR4KJPWX79yhHgok9Zfv3KEeCiT1l+/coR4KJPWX79yhHgok9Zfv3KEeCiT1l+/coR4KJPWX79yhHgok9Zfv3KEeCiT1l+/coR4KJPWX79yhHgok9Zfv3KEeCiT1l+/coR4KJPWX79yhHgok9Zfv3KEeCiT1l+/coR4KJPWX79yhHgok9Zfv3KEeCiT1l+/coR4KJPWX79yhHgok9Zfv3KEeCiT1l+/coR4KJPWX79yhHgok9Zfv3KEeCiT1l+/coR4KJPWX79yhHgok9Zfv3KEeCiT1l+/coR4KJPWX79yhHgok9Zfv3KEeCiT1l+/coR4KJPWX79yhHgok9Zfv3KEeCiT1l+/coR4KJPWX79yhHgok9Zfv4HtFZgjVWC/ge0VmCNVYL+B7RWYI1Vgv4HtFZgjVWC/ge0VmCNVYL+B7RWYI1Vgv4HtFZgjVWC/ge0VmCNVYL+B7RWYI1Vgv4HtFZgjVWC/ge0VmCNVYL+B7RWYI1Vgv4HtFZgjVWC/ge0VmCNVYL+B7RWYI1Vgv4HtFZgjVWC/ge0VmCNVYL+B7RWYI1Vgv4HtFZgjVWC/ge0VmCNVYL+B7RWYI1Vgv4HtFZgjVWC/ge0VmCNVYL+B7RWYI1Vgv4HtFZgjVWC/ge0VmCNVYL+B7RWYI1Vgv4HtFZgjVWC/ge0VmCNVYL+B7RWYI1Vgv4HtFZgjVWC/ge0VmCNVYL+B7RWYI1Vgv4HtFZgjVWC/ge0VmCNVYL+B7RWYI1Vgv4HtFZgjVWC/ge0VmCNVYL+B7RWYI1Vgv4HtFZgjVWC/ge0VmCNVYL+B7RWYI1Vgv4HtFZgjVWC/ge0VmCNVYL+B7RWYI1Vgv4HtFZgjVWC/ge0VmCNVYL+B7RWYI1Vgv4HtFZgjVWC/ge0VmCNVYL+B7RWYI1Vgv4HtFZgjVWC/ge0VmCNVYL+B7RWYI1Vgv4HtFZgjVWC/ge0VmCNVYL+B7RWYI1Vgv4HtFZgjVWC/ge0VmCNVYL+B7RWYI1Vgv4HtFZgjVWC/ge0VmCNVYL+B7RWYI1Vgv4HtFZgjVWC/ge0VmCNVYL+B7RWYI1Vgv4HtFZgjVWC/ge0VmCNVYL+B7RWYI1Vgv4HtFZgjVWC/ge0VmCNVYL+B7RWYI1Vgv4HtFZgjVWC/ge0VmCNVYL+B7RWYI1Vgv4HtFZgjVWC/ge0VmCNVYL+B7RWYI1Vgv4HtFZgjVWC/ge0VmCNVYL+B7RWYI1Vgv4HtFZgjVWC/ge0VmCNVYL+B7RWYI1Vgv4HtFZgjVWC/ge0VmCNVYL+B7RWYI1Vgv4HtFZgjVWC/ge0VmCNVYL+B7RWYI1Vgv4HtFZgjVWC/ge0VmCNVYL+B7RWYI1Vgv4HtFZgjVWC/ge0VmCNVYL+B7RWYI1Vgv4HtFZgjVWC/ge0VmCNVYL+B7RWYI1Vgv4HtFZgjVWC/yJjvm/2+YL/ImO+b/b5gv8iY75v9vmC/yJjvm/2+YL/ImO+b/b5gv8iY75v9vmC/yJjvm/2+YL/ImO+b/b5gv8iY75v9vmC/yJjvm/2+YL/ImO+b/b5gv8iY75v9vmC/yJjvm/2+YL/ImO+b/b5gv8iY75v9vmC/yJjvm/2+YL/ImO+b/b5gv8iY75v9vmC/yJjvm/2+YL/ImO+b/b5gv8iY75v9vmC/yJjvm/2+YL/ImO+b/b5gv8iY75v9vmC/yJjvm/2+YL/ImO+b/b5gv8iY75v9vmC/yJjvm/2+YL/ImO+b/b5gv8iY75v9vmC/yJjvm/2+YL/ImO+b/b5gv8iY75v9vmC/yJjvm/2+YL/ImO+b/b5gv8iY75v9vmC/yJjvm/2+YL/ImO+b/b5gv8iY75v9vmC/yJjvm/2+YL/ImO+b/b5gv8iY75v9vmC/yJjvm/2+YL/ImO+b/b5gv8iY75v9vmC/yJjvm/2+YL/ImO+b/b5gv8iY75v9vmC/yJjvm/2+YL/ImO+b/b5gv8iY75v9vmC/yJjvm/2+YL/ImO+b/b5gv8iY75v9vmC/yJjvm/2+YL/ImO+b/b5gv8iY75v9vmC/yJjvm/2+YL/ImO+b/b5gv8iY75v9vmC/yJjvm/2+YL/ImO+b/b5gv8iY75v9vmC/yJjvm/2+YL/ImO+b/b5gv8iY75v9vmC/yJjvm/2+YL/ImO+b/b5gv8iY75v9vmC/yJjvm/2+YL/ImO+b/b5gv8iY75v9vmC/yJjvm/2+YL/ImO+b/b5gv8iY75v9vmC/yJjvm/2+YL/ImO+b/b5gv8iY75v9vmC/yJjvm/2+YL/ImO+b/b5gv8iY75v9vmC/yJjvm/2+YL/ImO+b/b5gv8iY75v9vmC/yJjvm/2+YL/ImO+b/b5gv8iY75v9vmC/yJjvm/2+YL/ImO+b/b5gv8iY75v9vmC/yJjvm/2+YL/ImO+b/b5gv8iY75v9vmC/yJjvm/2+YL/ImO+b/b5gv8iY75v9vmC/yJjvm/2+YL/ImO+b/b5gv8iY75v9vmC/yJjvm/2+YL8PRMmf1yhhvw9EyZ/XKGG/D0TJn9coYb8PRMmf1yhhvw9EyZ/XKGG/D0TJn9coYb8PRMmf1yhhvw9EyZ/XKGG/D0TJn9coYb8PRMmf1yhhvw9EyZ/XKGG/D0TJn9coYb8PRMmf1yhhvw9EyZ/XKGG/D0TJn9coYb8PRMmf1yhhvw9EyZ/XKGG/D0TJn9coYb8PRMmf1yhhvw9EyZ/XKGG/D0TJn9coYb8PRMmf1yhhvw9EyZ/XKGG/D0TJn9coYb8PRMmf1yhhvw9EyZ/XKGG/D0TJn9coYb8PRMmf1yhhvw9EyZ/XKGG/D0TJn9coYb8PRMmf1yhhvw9EyZ/XKGG/D0TJn9coYb8PRMmf1yhhvw9EyZ/XKGG/D0TJn9coYb8PRMmf1yhhvw9EyZ/XKGG/D0TJn9coYb8PRMmf1yhhvw9EyZ/XKGG/D0TJn9coYb8PRMmf1yhhvw9EyZ/XKGG/D0TJn9coYb8PRMmf1yhhvw9EyZ/XKGG/D0TJn9coYb8PRMmf1yhhvw9EyZ/XKGG/D0TJn9coYb8PRMmf1yhhvw9EyZ/XKGG/D0TJn9coYb8PRMmf1yhhvw9EyZ/XKGG/D0TJn9coYb8PRMmf1yhhvw9EyZ/XKGG/D0TJn9coYb8PRMmf1yhhvw9EyZ/XKGG/D0TJn9coYb8PRMmf1yhhvw9EyZ/XKGG/D0TJn9coYb8PRMmf1yhhvw9EyZ/XKGG/D0TJn9coYb8PRMmf1yhhvw9EyZ/XKGG/D0TJn9coYb8PRMmf1yhhvw9EyZ/XKGG/D0TJn9coYb8PRMmf1yhhvw9EyZ/XKGG/D0TJn9coYb8PRMmf1yhhvw9EyZ/XKGG/D0TJn9coYb8PRMmf1yhhvw9EyZ/XKGG/D0TJn9coYb8PRMmf1yhhvw9EyZ/XKGG/D0TJn9coYb8PRMmf1yhhvw9EyZ/XKGG/D0TJn9coYb8PRMmf1yhhvw9EyZ/XKGG/D0TJn9coYb8PRMmf1yhhvw9EyZ/XKGG/D0TJn9coYb8PRMmf1yhhvw9EyZ/XKGG/D0TJn9coYb8PRMmf1yhhv1bvoqOxkmG/Vu+io7GSYb9W76KjsZJhv1bvoqOxkmG/Vu+io7GSYb9W76KjsZJhv1bvoqOxkmG/Vu+io7GSYb9W76KjsZJhv1bvoqOxkmG/Vu+io7GSYb9W76KjsZJhv1bvoqOxkmG/Vu+io7GSYb9W76KjsZJhv1bvoqOxkmG/Vu+io7GSYb9W76KjsZJhv1bvoqOxkmG/Vu+io7GSYb9W76KjsZJhv1bvoqOxkmG/Vu+io7GSYb9W76KjsZJhv1bvoqOxkmG/Vu+io7GSYb9W76KjsZJhv1bvoqOxkmG/Vu+io7GSYb9W76KjsZJhv1bvoqOxkmG/Vu+io7GSYb9W76KjsZJhv1bvoqOxkmG/Vu+io7GSYb9W76KjsZJhv1bvoqOxkmG/Vu+io7GSYb9W76KjsZJhv1bvoqOxkmG/Vu+io7GSYb9W76KjsZJhv1bvoqOxkmG/Vu+io7GSYb9W76KjsZJhv1bvoqOxkmG/Vu+io7GSYb9W76KjsZJhv1bvoqOxkmG/Vu+io7GSYb9W76KjsZJhv1bvoqOxkmG/Vu+io7GSYb9W76KjsZJhv1bvoqOxkmG/Vu+io7GSYb9W76KjsZJhv1bvoqOxkmG/Vu+io7GSYb9W76KjsZJhv1bvoqOxkmG/Vu+io7GSYb9W76KjsZJhv1bvoqOxkmG/Vu+io7GSYb9W76KjsZJhv1bvoqOxkmG/Vu+io7GSYb9W76KjsZJhv1bvoqOxkmG/Vu+io7GSYb9W76KjsZJhv1bvoqOxkmG/Vu+io7GSYb9W76KjsZJhv1bvoqOxkmG/Vu+io7GSYb9W76KjsZJhv1bvoqOxkmG/Vu+io7GSYb9W76KjsZJhv1bvoqOxkmG/Vu+io7GSYb9W76KjsZJhv1bvoqOxkmG/Vu+io7GSYb9W76KjsZJhv1bvoqOxkmG/Vu+io7GSYb9W76KjsZJhv1bvoqOxkmG/Vu+io7GSYb9W76KjsZJhv1bvoqOxkmG/Vu+io7GSYb9W76KjsZJhv1bvoqOxkmG/Vu+io7GSYb9W76KjsZJhv1bvoqOxkmG/npp8p4v8Yb+emnyni/xhv56afKeL/GG/npp8p4v8Yb+emnyni/xhv56afKeL/GG/npp8p4v8Yb+emnyni/xhv56afKeL/GG/npp8p4v8Yb+emnyni/xhv56afKeL/GG/npp8p4v8Yb+emnyni/xhv56afKeL/GG/npp8p4v8Yb+emnyni/xhv56afKeL/GG/npp8p4v8Yb+emnyni/xhv56afKeL/GG/npp8p4v8Yb+emnyni/xhv56afKeL/GG/npp8p4v8Yb+emnyni/xhv56afKeL/GG/npp8p4v8Yb+emnyni/xhv56afKeL/GG/npp8p4v8Yb+emnyni/xhv56afKeL/GG/npp8p4v8Yb+emnyni/xhv56afKeL/GG/npp8p4v8Yb+emnyni/xhv56afKeL/GG/npp8p4v8Yb+emnyni/xhv56afKeL/GG/npp8p4v8Yb+emnyni/xhv56afKeL/GG/npp8p4v8Yb+emnyni/xhv56afKeL/GG/npp8p4v8Yb+emnyni/xhv56afKeL/GG/npp8p4v8Yb+emnyni/xhv56afKeL/GG/npp8p4v8Yb+emnyni/xhv56afKeL/GG/npp8p4v8Yb+emnyni/xhv56afKeL/GG/npp8p4v8Yb+emnyni/xhv56afKeL/GG/npp8p4v8Yb+emnyni/xhv56afKeL/GG/npp8p4v8Yb+emnyni/xhv56afKeL/GG/npp8p4v8Yb+emnyni/xhv56afKeL/GG/npp8p4v8Yb+emnyni/xhv56afKeL/GG/npp8p4v8Yb+emnyni/xhv56afKeL/GG/npp8p4v8Yb+emnyni/xhv56afKeL/GG/npp8p4v8Yb+emnyni/xhv56afKeL/GG/npp8p4v8Yb+emnyni/xhv56afKeL/GG/npp8p4v8Yb+emnyni/xhv56afKeL/GG/npp8p4v8Yb+emnyni/xhv56afKeL/GG/npp8p4v8Yb+emnyni/xhv56afKeL/GG/npp8p4v8Yb+emnyni/xhv56afKeL/GG/npp8p4v8Yb/lRVarZWZiv+VFVqtlZmK/5UVWq2VmYr/lRVarZWZiv+VFVqtlZmK/5UVWq2VmYr/lRVarZWZiv+VFVqtlZmK/5UVWq2VmYr/lRVarZWZiv+VFVqtlZmK/5UVWq2VmYr/lRVarZWZiv+VFVqtlZmK/5UVWq2VmYr/lRVarZWZiv+VFVqtlZmK/5UVWq2VmYr/lRVarZWZiv+VFVqtlZmK/5UVWq2VmYr/lRVarZWZiv+VFVqtlZmK/5UVWq2VmYr/lRVarZWZiv+VFVqtlZmK/5UVWq2VmYr/lRVarZWZiv+VFVqtlZmK/5UVWq2VmYr/lRVarZWZiv+VFVqtlZmK/5UVWq2VmYr/lRVarZWZiv+VFVqtlZmK/5UVWq2VmYr/lRVarZWZiv+VFVqtlZmK/5UVWq2VmYr/lRVarZWZiv+VFVqtlZmK/5UVWq2VmYr/lRVarZWZiv+VFVqtlZmK/5UVWq2VmYr/lRVarZWZiv+VFVqtlZmK/5UVWq2VmYr/lRVarZWZiv+VFVqtlZmK/5UVWq2VmYr/lRVarZWZiv+VFVqtlZmK/5UVWq2VmYr/lRVarZWZiv+VFVqtlZmK/5UVWq2VmYr/lRVarZWZiv+VFVqtlZmK/5UVWq2VmYr/lRVarZWZiv+VFVqtlZmK/5UVWq2VmYr/lRVarZWZiv+VFVqtlZmK/5UVWq2VmYr/lRVarZWZiv+VFVqtlZmK/5UVWq2VmYr/lRVarZWZiv+VFVqtlZmK/5UVWq2VmYr/lRVarZWZiv+VFVqtlZmK/5UVWq2VmYr/lRVarZWZiv+VFVqtlZmK/5UVWq2VmYr/lRVarZWZiv+VFVqtlZmK/5UVWq2VmYr/lRVarZWZiv+VFVqtlZmK/5UVWq2VmYr/lRVarZWZiv+VFVqtlZmK/5UVWq2VmYr/lRVarZWZiv+VFVqtlZmK/5UVWq2VmYr/lRVarZWZiv+VFVqtlZmK/5UVWq2VmYr/lRVarZWZiv+VFVqtlZmK/5UVWq2VmYr/lRVarZWZiv+VFVqtlZmK/5UVWq2VmYr/lRVarZWZivyzxL68/0GK/LPEvrz/QYr8s8S+vP9BivyzxL68/0GK/LPEvrz/QYr8s8S+vP9BivyzxL68/0GK/LPEvrz/QYr8s8S+vP9BivyzxL68/0GK/LPEvrz/QYr8s8S+vP9BivyzxL68/0GK/LPEvrz/QYr8s8S+vP9BivyzxL68/0GK/LPEvrz/QYr8s8S+vP9BivyzxL68/0GK/LPEvrz/QYr8s8S+vP9BivyzxL68/0GK/LPEvrz/QYr8s8S+vP9BivyzxL68/0GK/LPEvrz/QYr8s8S+vP9BivyzxL68/0GK/LPEvrz/QYr8s8S+vP9BivyzxL68/0GK/LPEvrz/QYr8s8S+vP9BivyzxL68/0GK/LPEvrz/QYr8s8S+vP9BivyzxL68/0GK/LPEvrz/QYr8s8S+vP9BivyzxL68/0GK/LPEvrz/QYr8s8S+vP9BivyzxL68/0GK/LPEvrz/QYr8s8S+vP9BivyzxL68/0GK/LPEvrz/QYr8s8S+vP9BivyzxL68/0GK/LPEvrz/QYr8s8S+vP9BivyzxL68/0GK/LPEvrz/QYr8s8S+vP9BivyzxL68/0GK/LPEvrz/QYr8s8S+vP9BivyzxL68/0GK/LPEvrz/QYr8s8S+vP9BivyzxL68/0GK/LPEvrz/QYr8s8S+vP9BivyzxL68/0GK/LPEvrz/QYr8s8S+vP9BivyzxL68/0GK/LPEvrz/QYr8s8S+vP9BivyzxL68/0GK/LPEvrz/QYr8s8S+vP9BivyzxL68/0GK/LPEvrz/QYr8s8S+vP9BivyzxL68/0GK/LPEvrz/QYr8s8S+vP9BivyzxL68/0GK/LPEvrz/QYr8s8S+vP9BivyzxL68/0GK/LPEvrz/QYr8s8S+vP9BivyzxL68/0GK/LPEvrz/QYr8s8S+vP9BivyzxL68/0GK/LPEvrz/QYr8s8S+vP9BivyzxL68/0GK/LPEvrz/QYr8s8S+vP9BivyzxL68/0GK/LPEvrz/QYr8s8S+vP9BivyzxL68/0GK/LPEvrz/QYr8s8S+vP9BivyzxL68/0GK/dJwJsxk6Y790nAmzGTpjv3ScCbMZOmO/dJwJsxk6Y790nAmzGTpjv3ScCbMZOmO/dJwJsxk6Y790nAmzGTpjv3ScCbMZOmO/dJwJsxk6Y790nAmzGTpjv3ScCbMZOmO/dJwJsxk6Y790nAmzGTpjv3ScCbMZOmO/dJwJsxk6Y790nAmzGTpjv3ScCbMZOmO/dJwJsxk6Y790nAmzGTpjv3ScCbMZOmO/dJwJsxk6Y790nAmzGTpjv3ScCbMZOmO/dJwJsxk6Y790nAmzGTpjv3ScCbMZOmO/dJwJsxk6Y790nAmzGTpjv3ScCbMZOmO/dJwJsxk6Y790nAmzGTpjv3ScCbMZOmO/dJwJsxk6Y790nAmzGTpjv3ScCbMZOmO/dJwJsxk6Y790nAmzGTpjv3ScCbMZOmO/dJwJsxk6Y790nAmzGTpjv3ScCbMZOmO/dJwJsxk6Y790nAmzGTpjv3ScCbMZOmO/dJwJsxk6Y790nAmzGTpjv3ScCbMZOmO/dJwJsxk6Y790nAmzGTpjv3ScCbMZOmO/dJwJsxk6Y790nAmzGTpjv3ScCbMZOmO/dJwJsxk6Y790nAmzGTpjv3ScCbMZOmO/dJwJsxk6Y790nAmzGTpjv3ScCbMZOmO/dJwJsxk6Y790nAmzGTpjv3ScCbMZOmO/dJwJsxk6Y790nAmzGTpjv3ScCbMZOmO/dJwJsxk6Y790nAmzGTpjv3ScCbMZOmO/dJwJsxk6Y790nAmzGTpjv3ScCbMZOmO/dJwJsxk6Y790nAmzGTpjv3ScCbMZOmO/dJwJsxk6Y790nAmzGTpjv3ScCbMZOmO/dJwJsxk6Y790nAmzGTpjv3ScCbMZOmO/dJwJsxk6Y790nAmzGTpjv3ScCbMZOmO/dJwJsxk6Y790nAmzGTpjv3ScCbMZOmO/dJwJsxk6Y790nAmzGTpjv3ScCbMZOmO/dJwJsxk6Y790nAmzGTpjv3ScCbMZOmO/dJwJsxk6Y790nAmzGTpjv3ScCbMZOmO/dJwJsxk6Y790nAmzGTpjv3ScCbMZOmO/dJwJsxk6Y7+7R+O286Njv7tH47bzo2O/u0fjtvOjY7+7R+O286Njv7tH47bzo2O/u0fjtvOjY7+7R+O286Njv7tH47bzo2O/u0fjtvOjY7+7R+O286Njv7tH47bzo2O/u0fjtvOjY7+7R+O286Njv7tH47bzo2O/u0fjtvOjY7+7R+O286Njv7tH47bzo2O/u0fjtvOjY7+7R+O286Njv7tH47bzo2O/u0fjtvOjY7+7R+O286Njv7tH47bzo2O/u0fjtvOjY7+7R+O286Njv7tH47bzo2O/u0fjtvOjY7+7R+O286Njv7tH47bzo2O/u0fjtvOjY7+7R+O286Njv7tH47bzo2O/u0fjtvOjY7+7R+O286Njv7tH47bzo2O/u0fjtvOjY7+7R+O286Njv7tH47bzo2O/u0fjtvOjY7+7R+O286Njv7tH47bzo2O/u0fjtvOjY7+7R+O286Njv7tH47bzo2O/u0fjtvOjY7+7R+O286Njv7tH47bzo2O/u0fjtvOjY7+7R+O286Njv7tH47bzo2O/u0fjtvOjY7+7R+O286Njv7tH47bzo2O/u0fjtvOjY7+7R+O286Njv7tH47bzo2O/u0fjtvOjY7+7R+O286Njv7tH47bzo2O/u0fjtvOjY7+7R+O286Njv7tH47bzo2O/u0fjtvOjY7+7R+O286Njv7tH47bzo2O/u0fjtvOjY7+7R+O286Njv7tH47bzo2O/u0fjtvOjY7+7R+O286Njv7tH47bzo2O/u0fjtvOjY7+7R+O286Njv7tH47bzo2O/u0fjtvOjY7+7R+O286Njv7tH47bzo2O/u0fjtvOjY7+7R+O286Njv7tH47bzo2O/u0fjtvOjY7+7R+O286Njv7tH47bzo2O/u0fjtvOjY7+7R+O286Njv7tH47bzo2O/u0fjtvOjY7+7R+O286Njv7tH47bzo2O/u0fjtvOjY7+7R+O286Njv7tH47bzo2O/u0fjtvOjY7+7R+O286Njv7tH47bzo2O/u0fjtvOjY7+7R+O286Njv7tH47bzo2O/u0fjtvOjY7+7R+O286NjvwLzvLrNDWS/AvO8us0NZL8C87y6zQ1kvwLzvLrNDWS/AvO8us0NZL8C87y6zQ1kvwLzvLrNDWS/AvO8us0NZL8C87y6zQ1kvwLzvLrNDWS/AvO8us0NZL8C87y6zQ1kvwLzvLrNDWS/AvO8us0NZL8C87y6zQ1kvwLzvLrNDWS/AvO8us0NZL8C87y6zQ1kvwLzvLrNDWS/AvO8us0NZL8C87y6zQ1kvwLzvLrNDWS/AvO8us0NZL8C87y6zQ1kvwLzvLrNDWS/AvO8us0NZL8C87y6zQ1kvwLzvLrNDWS/AvO8us0NZL8C87y6zQ1kvwLzvLrNDWS/AvO8us0NZL8C87y6zQ1kvwLzvLrNDWS/AvO8us0NZL8C87y6zQ1kvwLzvLrNDWS/AvO8us0NZL8C87y6zQ1kvwLzvLrNDWS/AvO8us0NZL8C87y6zQ1kvwLzvLrNDWS/AvO8us0NZL8C87y6zQ1kvwLzvLrNDWS/AvO8us0NZL8C87y6zQ1kvwLzvLrNDWS/AvO8us0NZL8C87y6zQ1kvwLzvLrNDWS/AvO8us0NZL8C87y6zQ1kvwLzvLrNDWS/AvO8us0NZL8C87y6zQ1kvwLzvLrNDWS/AvO8us0NZL8C87y6zQ1kvwLzvLrNDWS/AvO8us0NZL8C87y6zQ1kvwLzvLrNDWS/AvO8us0NZL8C87y6zQ1kvwLzvLrNDWS/AvO8us0NZL8C87y6zQ1kvwLzvLrNDWS/AvO8us0NZL8C87y6zQ1kvwLzvLrNDWS/AvO8us0NZL8C87y6zQ1kvwLzvLrNDWS/AvO8us0NZL8C87y6zQ1kvwLzvLrNDWS/AvO8us0NZL8C87y6zQ1kvwLzvLrNDWS/AvO8us0NZL8C87y6zQ1kvwLzvLrNDWS/AvO8us0NZL8C87y6zQ1kvwLzvLrNDWS/AvO8us0NZL8C87y6zQ1kvwLzvLrNDWS/AvO8us0NZL8C87y6zQ1kvwLzvLrNDWS/AvO8us0NZL8C87y6zQ1kvwLzvLrNDWS/AvO8us0NZL8C87y6zQ1kvwLzvLrNDWS/Sp6Wvqd3ZL9Knpa+p3dkv0qelr6nd2S/Sp6Wvqd3ZL9Knpa+p3dkv0qelr6nd2S/Sp6Wvqd3ZL9Knpa+p3dkv0qelr6nd2S/Sp6Wvqd3ZL9Knpa+p3dkv0qelr6nd2S/Sp6Wvqd3ZL9Knpa+p3dkv0qelr6nd2S/Sp6Wvqd3ZL9Knpa+p3dkv0qelr6nd2S/Sp6Wvqd3ZL9Knpa+p3dkv0qelr6nd2S/Sp6Wvqd3ZL9Knpa+p3dkv0qelr6nd2S/Sp6Wvqd3ZL9Knpa+p3dkv0qelr6nd2S/Sp6Wvqd3ZL9Knpa+p3dkv0qelr6nd2S/Sp6Wvqd3ZL9Knpa+p3dkv0qelr6nd2S/Sp6Wvqd3ZL9Knpa+p3dkv0qelr6nd2S/Sp6Wvqd3ZL9Knpa+p3dkv0qelr6nd2S/Sp6Wvqd3ZL9Knpa+p3dkv0qelr6nd2S/Sp6Wvqd3ZL9Knpa+p3dkv0qelr6nd2S/Sp6Wvqd3ZL9Knpa+p3dkv0qelr6nd2S/Sp6Wvqd3ZL9Knpa+p3dkv0qelr6nd2S/Sp6Wvqd3ZL9Knpa+p3dkv0qelr6nd2S/Sp6Wvqd3ZL9Knpa+p3dkv0qelr6nd2S/Sp6Wvqd3ZL9Knpa+p3dkv0qelr6nd2S/Sp6Wvqd3ZL9Knpa+p3dkv0qelr6nd2S/Sp6Wvqd3ZL9Knpa+p3dkv0qelr6nd2S/Sp6Wvqd3ZL9Knpa+p3dkv0qelr6nd2S/Sp6Wvqd3ZL9Knpa+p3dkv0qelr6nd2S/Sp6Wvqd3ZL9Knpa+p3dkv0qelr6nd2S/Sp6Wvqd3ZL9Knpa+p3dkv0qelr6nd2S/Sp6Wvqd3ZL9Knpa+p3dkv0qelr6nd2S/Sp6Wvqd3ZL9Knpa+p3dkv0qelr6nd2S/Sp6Wvqd3ZL9Knpa+p3dkv0qelr6nd2S/Sp6Wvqd3ZL9Knpa+p3dkv0qelr6nd2S/Sp6Wvqd3ZL9Knpa+p3dkv0qelr6nd2S/Sp6Wvqd3ZL9Knpa+p3dkv0qelr6nd2S/Sp6Wvqd3ZL9Knpa+p3dkv0qelr6nd2S/Sp6Wvqd3ZL8=\"},\"shape\":[100,100],\"dtype\":\"float64\",\"order\":\"little\"}]],[\"x\",[1.45]],[\"dw\",[0.10000000000000009]],[\"dh\",[15.0]]]}}},\"view\":{\"type\":\"object\",\"name\":\"CDSView\",\"id\":\"p1916\",\"attributes\":{\"filter\":{\"type\":\"object\",\"name\":\"AllIndices\",\"id\":\"p1917\"}}},\"glyph\":{\"type\":\"object\",\"name\":\"Image\",\"id\":\"p1909\",\"attributes\":{\"x\":{\"type\":\"field\",\"field\":\"x\"},\"y\":{\"type\":\"value\",\"value\":-1},\"dw\":{\"type\":\"field\",\"field\":\"dw\"},\"dh\":{\"type\":\"field\",\"field\":\"dh\"},\"image\":{\"type\":\"field\",\"field\":\"by\"},\"color_mapper\":{\"type\":\"object\",\"name\":\"LinearColorMapper\",\"id\":\"p1905\",\"attributes\":{\"palette\":[\"#000003\",\"#000004\",\"#000006\",\"#010007\",\"#010109\",\"#01010B\",\"#02020D\",\"#02020F\",\"#030311\",\"#040313\",\"#040415\",\"#050417\",\"#060519\",\"#07051B\",\"#08061D\",\"#09071F\",\"#0A0722\",\"#0B0824\",\"#0C0926\",\"#0D0A28\",\"#0E0A2A\",\"#0F0B2C\",\"#100C2F\",\"#110C31\",\"#120D33\",\"#140D35\",\"#150E38\",\"#160E3A\",\"#170F3C\",\"#180F3F\",\"#1A1041\",\"#1B1044\",\"#1C1046\",\"#1E1049\",\"#1F114B\",\"#20114D\",\"#221150\",\"#231152\",\"#251155\",\"#261157\",\"#281159\",\"#2A115C\",\"#2B115E\",\"#2D1060\",\"#2F1062\",\"#301065\",\"#321067\",\"#341068\",\"#350F6A\",\"#370F6C\",\"#390F6E\",\"#3B0F6F\",\"#3C0F71\",\"#3E0F72\",\"#400F73\",\"#420F74\",\"#430F75\",\"#450F76\",\"#470F77\",\"#481078\",\"#4A1079\",\"#4B1079\",\"#4D117A\",\"#4F117B\",\"#50127B\",\"#52127C\",\"#53137C\",\"#55137D\",\"#57147D\",\"#58157E\",\"#5A157E\",\"#5B167E\",\"#5D177E\",\"#5E177F\",\"#60187F\",\"#61187F\",\"#63197F\",\"#651A80\",\"#661A80\",\"#681B80\",\"#691C80\",\"#6B1C80\",\"#6C1D80\",\"#6E1E81\",\"#6F1E81\",\"#711F81\",\"#731F81\",\"#742081\",\"#762181\",\"#772181\",\"#792281\",\"#7A2281\",\"#7C2381\",\"#7E2481\",\"#7F2481\",\"#812581\",\"#822581\",\"#842681\",\"#852681\",\"#872781\",\"#892881\",\"#8A2881\",\"#8C2980\",\"#8D2980\",\"#8F2A80\",\"#912A80\",\"#922B80\",\"#942B80\",\"#952C80\",\"#972C7F\",\"#992D7F\",\"#9A2D7F\",\"#9C2E7F\",\"#9E2E7E\",\"#9F2F7E\",\"#A12F7E\",\"#A3307E\",\"#A4307D\",\"#A6317D\",\"#A7317D\",\"#A9327C\",\"#AB337C\",\"#AC337B\",\"#AE347B\",\"#B0347B\",\"#B1357A\",\"#B3357A\",\"#B53679\",\"#B63679\",\"#B83778\",\"#B93778\",\"#BB3877\",\"#BD3977\",\"#BE3976\",\"#C03A75\",\"#C23A75\",\"#C33B74\",\"#C53C74\",\"#C63C73\",\"#C83D72\",\"#CA3E72\",\"#CB3E71\",\"#CD3F70\",\"#CE4070\",\"#D0416F\",\"#D1426E\",\"#D3426D\",\"#D4436D\",\"#D6446C\",\"#D7456B\",\"#D9466A\",\"#DA4769\",\"#DC4869\",\"#DD4968\",\"#DE4A67\",\"#E04B66\",\"#E14C66\",\"#E24D65\",\"#E44E64\",\"#E55063\",\"#E65162\",\"#E75262\",\"#E85461\",\"#EA5560\",\"#EB5660\",\"#EC585F\",\"#ED595F\",\"#EE5B5E\",\"#EE5D5D\",\"#EF5E5D\",\"#F0605D\",\"#F1615C\",\"#F2635C\",\"#F3655C\",\"#F3675B\",\"#F4685B\",\"#F56A5B\",\"#F56C5B\",\"#F66E5B\",\"#F6705B\",\"#F7715B\",\"#F7735C\",\"#F8755C\",\"#F8775C\",\"#F9795C\",\"#F97B5D\",\"#F97D5D\",\"#FA7F5E\",\"#FA805E\",\"#FA825F\",\"#FB8460\",\"#FB8660\",\"#FB8861\",\"#FB8A62\",\"#FC8C63\",\"#FC8E63\",\"#FC9064\",\"#FC9265\",\"#FC9366\",\"#FD9567\",\"#FD9768\",\"#FD9969\",\"#FD9B6A\",\"#FD9D6B\",\"#FD9F6C\",\"#FDA16E\",\"#FDA26F\",\"#FDA470\",\"#FEA671\",\"#FEA873\",\"#FEAA74\",\"#FEAC75\",\"#FEAE76\",\"#FEAF78\",\"#FEB179\",\"#FEB37B\",\"#FEB57C\",\"#FEB77D\",\"#FEB97F\",\"#FEBB80\",\"#FEBC82\",\"#FEBE83\",\"#FEC085\",\"#FEC286\",\"#FEC488\",\"#FEC689\",\"#FEC78B\",\"#FEC98D\",\"#FECB8E\",\"#FDCD90\",\"#FDCF92\",\"#FDD193\",\"#FDD295\",\"#FDD497\",\"#FDD698\",\"#FDD89A\",\"#FDDA9C\",\"#FDDC9D\",\"#FDDD9F\",\"#FDDFA1\",\"#FDE1A3\",\"#FCE3A5\",\"#FCE5A6\",\"#FCE6A8\",\"#FCE8AA\",\"#FCEAAC\",\"#FCECAE\",\"#FCEEB0\",\"#FCF0B1\",\"#FCF1B3\",\"#FCF3B5\",\"#FCF5B7\",\"#FBF7B9\",\"#FBF9BB\",\"#FBFABD\",\"#FBFCBF\"],\"low\":-0.00249846232027887,\"high\":0.00249846232027887}}}},\"nonselection_glyph\":{\"type\":\"object\",\"name\":\"Image\",\"id\":\"p1911\",\"attributes\":{\"x\":{\"type\":\"field\",\"field\":\"x\"},\"y\":{\"type\":\"value\",\"value\":-1},\"dw\":{\"type\":\"field\",\"field\":\"dw\"},\"dh\":{\"type\":\"field\",\"field\":\"dh\"},\"global_alpha\":{\"type\":\"value\",\"value\":0.1},\"image\":{\"type\":\"field\",\"field\":\"by\"},\"color_mapper\":{\"id\":\"p1905\"}}},\"muted_glyph\":{\"type\":\"object\",\"name\":\"Image\",\"id\":\"p1913\",\"attributes\":{\"x\":{\"type\":\"field\",\"field\":\"x\"},\"y\":{\"type\":\"value\",\"value\":-1},\"dw\":{\"type\":\"field\",\"field\":\"dw\"},\"dh\":{\"type\":\"field\",\"field\":\"dh\"},\"global_alpha\":{\"type\":\"value\",\"value\":0.2},\"image\":{\"type\":\"field\",\"field\":\"by\"},\"color_mapper\":{\"id\":\"p1905\"}}}}}],\"toolbar\":{\"type\":\"object\",\"name\":\"Toolbar\",\"id\":\"p1878\",\"attributes\":{\"tools\":[{\"type\":\"object\",\"name\":\"PanTool\",\"id\":\"p1891\"},{\"type\":\"object\",\"name\":\"WheelZoomTool\",\"id\":\"p1892\",\"attributes\":{\"renderers\":\"auto\"}},{\"type\":\"object\",\"name\":\"BoxZoomTool\",\"id\":\"p1893\",\"attributes\":{\"overlay\":{\"type\":\"object\",\"name\":\"BoxAnnotation\",\"id\":\"p1894\",\"attributes\":{\"syncable\":false,\"level\":\"overlay\",\"visible\":false,\"left\":{\"type\":\"number\",\"value\":\"nan\"},\"right\":{\"type\":\"number\",\"value\":\"nan\"},\"top\":{\"type\":\"number\",\"value\":\"nan\"},\"bottom\":{\"type\":\"number\",\"value\":\"nan\"},\"left_units\":\"canvas\",\"right_units\":\"canvas\",\"top_units\":\"canvas\",\"bottom_units\":\"canvas\",\"line_color\":\"black\",\"line_alpha\":1.0,\"line_width\":2,\"line_dash\":[4,4],\"fill_color\":\"lightgrey\",\"fill_alpha\":0.5}}}},{\"type\":\"object\",\"name\":\"SaveTool\",\"id\":\"p1899\"},{\"type\":\"object\",\"name\":\"ResetTool\",\"id\":\"p1900\"},{\"type\":\"object\",\"name\":\"HelpTool\",\"id\":\"p1901\"}]}},\"left\":[{\"type\":\"object\",\"name\":\"LinearAxis\",\"id\":\"p1886\",\"attributes\":{\"ticker\":{\"type\":\"object\",\"name\":\"BasicTicker\",\"id\":\"p1887\",\"attributes\":{\"mantissas\":[1,2,5]}},\"formatter\":{\"type\":\"object\",\"name\":\"BasicTickFormatter\",\"id\":\"p1888\"},\"major_label_policy\":{\"type\":\"object\",\"name\":\"AllLabels\",\"id\":\"p1889\"}}}],\"right\":[{\"type\":\"object\",\"name\":\"ColorBar\",\"id\":\"p1918\",\"attributes\":{\"location\":[0,0],\"major_label_policy\":{\"type\":\"object\",\"name\":\"NoOverlap\",\"id\":\"p1919\"},\"color_mapper\":{\"id\":\"p1905\"}}}],\"below\":[{\"type\":\"object\",\"name\":\"LinearAxis\",\"id\":\"p1881\",\"attributes\":{\"ticker\":{\"type\":\"object\",\"name\":\"BasicTicker\",\"id\":\"p1882\",\"attributes\":{\"mantissas\":[1,2,5]}},\"formatter\":{\"type\":\"object\",\"name\":\"BasicTickFormatter\",\"id\":\"p1883\"},\"major_label_policy\":{\"type\":\"object\",\"name\":\"AllLabels\",\"id\":\"p1884\"}}}],\"center\":[{\"type\":\"object\",\"name\":\"Grid\",\"id\":\"p1885\",\"attributes\":{\"axis\":{\"id\":\"p1881\"}}},{\"type\":\"object\",\"name\":\"Grid\",\"id\":\"p1890\",\"attributes\":{\"dimension\":1,\"axis\":{\"id\":\"p1886\"}}}]}}]}};\n",
       "  const render_items = [{\"docid\":\"78b81bba-3ed8-462e-b055-ede26fed9c40\",\"roots\":{\"p1869\":\"feba52e8-5313-4241-a9e0-fc1bd5afce00\"},\"root_ids\":[\"p1869\"],\"notebook_comms_target\":\"p1920\"}];\n",
       "  void root.Bokeh.embed.embed_items_notebook(docs_json, render_items);\n",
       "  }\n",
       "  if (root.Bokeh !== undefined) {\n",
       "    embed_document(root);\n",
       "  } else {\n",
       "    let attempts = 0;\n",
       "    const timer = setInterval(function(root) {\n",
       "      if (root.Bokeh !== undefined) {\n",
       "        clearInterval(timer);\n",
       "        embed_document(root);\n",
       "      } else {\n",
       "        attempts++;\n",
       "        if (attempts > 100) {\n",
       "          clearInterval(timer);\n",
       "          console.log(\"Bokeh: ERROR: Unable to run BokehJS code because BokehJS library is missing\");\n",
       "        }\n",
       "      }\n",
       "    }, 10, root)\n",
       "  }\n",
       "})(window);"
      ],
      "application/vnd.bokehjs_exec.v0+json": ""
     },
     "metadata": {
      "application/vnd.bokehjs_exec.v0+json": {
       "id": "p1869"
      }
     },
     "output_type": "display_data"
    }
   ],
   "source": [
    "tao.cmd(\"set var quad[1]|model = -5\")\n",
    "tao.plot_field(\"Q1\")"
   ]
  },
  {
   "cell_type": "markdown",
   "metadata": {},
   "source": [
    "## Stacked plots"
   ]
  },
  {
   "cell_type": "code",
   "execution_count": 6,
   "metadata": {},
   "outputs": [
    {
     "data": {
      "application/vnd.bokehjs_exec.v0+json": "",
      "text/html": [
       "<script id=\"a0b5b6d6-676a-44e0-a17b-8836c2fc5a33\">\n",
       "  (function() {\n",
       "    const xhr = new XMLHttpRequest()\n",
       "    xhr.responseType = 'blob';\n",
       "    xhr.open('GET', \"http://localhost:62340/autoload.js?bokeh-autoload-element=a0b5b6d6-676a-44e0-a17b-8836c2fc5a33&bokeh-absolute-url=http://localhost:62340&resources=none\", true);\n",
       "    xhr.onload = function (event) {\n",
       "      const script = document.createElement('script');\n",
       "      const src = URL.createObjectURL(event.target.response);\n",
       "      script.src = src;\n",
       "      document.body.appendChild(script);\n",
       "    };\n",
       "    xhr.send();\n",
       "  })();\n",
       "</script>"
      ]
     },
     "metadata": {
      "application/vnd.bokehjs_exec.v0+json": {
       "server_id": "098bbaabb646424f8eb0a2b0bb3c9aff"
      }
     },
     "output_type": "display_data"
    }
   ],
   "source": [
    "tao.plot([\"alpha\", \"beta\"])"
   ]
  },
  {
   "cell_type": "code",
   "execution_count": 7,
   "metadata": {},
   "outputs": [
    {
     "data": {
      "application/vnd.bokehjs_exec.v0+json": "",
      "text/html": [
       "<script id=\"aba0e39c-aef7-4c98-8b42-75d186f51c34\">\n",
       "  (function() {\n",
       "    const xhr = new XMLHttpRequest()\n",
       "    xhr.responseType = 'blob';\n",
       "    xhr.open('GET', \"http://localhost:62342/autoload.js?bokeh-autoload-element=aba0e39c-aef7-4c98-8b42-75d186f51c34&bokeh-absolute-url=http://localhost:62342&resources=none\", true);\n",
       "    xhr.onload = function (event) {\n",
       "      const script = document.createElement('script');\n",
       "      const src = URL.createObjectURL(event.target.response);\n",
       "      script.src = src;\n",
       "      document.body.appendChild(script);\n",
       "    };\n",
       "    xhr.send();\n",
       "  })();\n",
       "</script>"
      ]
     },
     "metadata": {
      "application/vnd.bokehjs_exec.v0+json": {
       "server_id": "04e1bb92118b46a0a072b4224051f716"
      }
     },
     "output_type": "display_data"
    }
   ],
   "source": [
    "tao.plot([\"alpha\", \"beta\"], include_layout=False)"
   ]
  },
  {
   "cell_type": "markdown",
   "metadata": {},
   "source": [
    "## Gridded plots"
   ]
  },
  {
   "cell_type": "code",
   "execution_count": 8,
   "metadata": {},
   "outputs": [
    {
     "data": {
      "application/vnd.bokehjs_exec.v0+json": "",
      "text/html": [
       "<script id=\"bba95257-2ddf-4df8-8e16-00bb5a5aa8fb\">\n",
       "  (function() {\n",
       "    const xhr = new XMLHttpRequest()\n",
       "    xhr.responseType = 'blob';\n",
       "    xhr.open('GET', \"http://localhost:62344/autoload.js?bokeh-autoload-element=bba95257-2ddf-4df8-8e16-00bb5a5aa8fb&bokeh-absolute-url=http://localhost:62344&resources=none\", true);\n",
       "    xhr.onload = function (event) {\n",
       "      const script = document.createElement('script');\n",
       "      const src = URL.createObjectURL(event.target.response);\n",
       "      script.src = src;\n",
       "      document.body.appendChild(script);\n",
       "    };\n",
       "    xhr.send();\n",
       "  })();\n",
       "</script>"
      ]
     },
     "metadata": {
      "application/vnd.bokehjs_exec.v0+json": {
       "server_id": "479b764783bd4d63b5839429244a96bb"
      }
     },
     "output_type": "display_data"
    }
   ],
   "source": [
    "tao.plot([\"beta\", \"dispersion\", \"orbit\"], grid=(2, 2))"
   ]
  },
  {
   "cell_type": "markdown",
   "metadata": {},
   "source": [
    "## Saving plots\n",
    "\n",
    "The parameter `save` makes it convenient to simultaneously display and save the plot to a file."
   ]
  },
  {
   "cell_type": "code",
   "execution_count": 9,
   "metadata": {},
   "outputs": [
    {
     "data": {
      "application/vnd.bokehjs_exec.v0+json": "",
      "text/html": [
       "<script id=\"ddab4acb-d2c8-4869-b1da-7b561ede4946\">\n",
       "  (function() {\n",
       "    const xhr = new XMLHttpRequest()\n",
       "    xhr.responseType = 'blob';\n",
       "    xhr.open('GET', \"http://localhost:62346/autoload.js?bokeh-autoload-element=ddab4acb-d2c8-4869-b1da-7b561ede4946&bokeh-absolute-url=http://localhost:62346&resources=none\", true);\n",
       "    xhr.onload = function (event) {\n",
       "      const script = document.createElement('script');\n",
       "      const src = URL.createObjectURL(event.target.response);\n",
       "      script.src = src;\n",
       "      document.body.appendChild(script);\n",
       "    };\n",
       "    xhr.send();\n",
       "  })();\n",
       "</script>"
      ]
     },
     "metadata": {
      "application/vnd.bokehjs_exec.v0+json": {
       "server_id": "318355a408024d6a81b72e0e1ec6b43d"
      }
     },
     "output_type": "display_data"
    }
   ],
   "source": [
    "tao.plot(\"beta\", save=\"beta\", include_layout=False)"
   ]
  },
  {
   "cell_type": "markdown",
   "metadata": {},
   "source": [
    "## Change defaults"
   ]
  },
  {
   "cell_type": "code",
   "execution_count": 10,
   "metadata": {},
   "outputs": [],
   "source": [
    "import pytao.plotting.bokeh\n",
    "\n",
    "pytao.plotting.bokeh.set_defaults(\n",
    "    graph_size=(400, 400),\n",
    "    grid_graph_size=(500, 500),\n",
    "    floor_plan_size=(400, 400),\n",
    "    palette=\"Magma256\",\n",
    ")"
   ]
  },
  {
   "cell_type": "code",
   "execution_count": 11,
   "metadata": {},
   "outputs": [
    {
     "data": {
      "application/vnd.bokehjs_exec.v0+json": "",
      "text/html": [
       "<script id=\"d8a7b57b-5b0e-45d8-91b0-c87a63dc45cc\">\n",
       "  (function() {\n",
       "    const xhr = new XMLHttpRequest()\n",
       "    xhr.responseType = 'blob';\n",
       "    xhr.open('GET', \"http://localhost:62348/autoload.js?bokeh-autoload-element=d8a7b57b-5b0e-45d8-91b0-c87a63dc45cc&bokeh-absolute-url=http://localhost:62348&resources=none\", true);\n",
       "    xhr.onload = function (event) {\n",
       "      const script = document.createElement('script');\n",
       "      const src = URL.createObjectURL(event.target.response);\n",
       "      script.src = src;\n",
       "      document.body.appendChild(script);\n",
       "    };\n",
       "    xhr.send();\n",
       "  })();\n",
       "</script>"
      ]
     },
     "metadata": {
      "application/vnd.bokehjs_exec.v0+json": {
       "server_id": "d5f3c00a04f04f8b8d96b5a175ae55f7"
      }
     },
     "output_type": "display_data"
    }
   ],
   "source": [
    "tao.plot(\"beta\")"
   ]
  },
  {
   "cell_type": "markdown",
   "metadata": {},
   "source": [
    "## Accessing plot data"
   ]
  },
  {
   "cell_type": "code",
   "execution_count": 12,
   "metadata": {},
   "outputs": [],
   "source": [
    "graphs, app = tao.last_plot"
   ]
  },
  {
   "cell_type": "code",
   "execution_count": 13,
   "metadata": {},
   "outputs": [
    {
     "data": {
      "text/plain": [
       "[0.0,\n",
       " 0.00645161290322581,\n",
       " 0.0129032258064516,\n",
       " 0.0193548387096774,\n",
       " 0.0258064516129032,\n",
       " 0.032258064516129,\n",
       " 0.0387096774193548,\n",
       " 0.0451612903225806,\n",
       " 0.0516129032258065,\n",
       " 0.0580645161290323]"
      ]
     },
     "execution_count": 13,
     "metadata": {},
     "output_type": "execute_result"
    }
   ],
   "source": [
    "graphs[0].curves[0].line.xs[:10]"
   ]
  },
  {
   "cell_type": "markdown",
   "metadata": {},
   "source": [
    "## Advanced curve settings\n",
    "\n",
    "`TaoCurveSettings` may be used to customize per-curve settings in simple or gridded plots.\n",
    "\n",
    "The below example has 4 plots in a 2x2 grid.\n",
    "\n",
    "Since each plot has a set of curves, we must specify a dictionary for each plot.\n",
    "\n",
    "That dictionary contains a mapping of `curve_index` (starting with 1) to a `TaoCurveSettings` instance.\n",
    "\n",
    "See `TaoCurveSettings` for further information on what may be customized."
   ]
  },
  {
   "cell_type": "code",
   "execution_count": 14,
   "metadata": {},
   "outputs": [
    {
     "data": {
      "application/vnd.bokehjs_exec.v0+json": "",
      "text/html": [
       "<script id=\"dcdb950a-1f57-4ce6-adfd-dad62ca2c61d\">\n",
       "  (function() {\n",
       "    const xhr = new XMLHttpRequest()\n",
       "    xhr.responseType = 'blob';\n",
       "    xhr.open('GET', \"http://localhost:62350/autoload.js?bokeh-autoload-element=dcdb950a-1f57-4ce6-adfd-dad62ca2c61d&bokeh-absolute-url=http://localhost:62350&resources=none\", true);\n",
       "    xhr.onload = function (event) {\n",
       "      const script = document.createElement('script');\n",
       "      const src = URL.createObjectURL(event.target.response);\n",
       "      script.src = src;\n",
       "      document.body.appendChild(script);\n",
       "    };\n",
       "    xhr.send();\n",
       "  })();\n",
       "</script>"
      ]
     },
     "metadata": {
      "application/vnd.bokehjs_exec.v0+json": {
       "server_id": "6eb6dfa1547944f0aca7fb4485b8db5c"
      }
     },
     "output_type": "display_data"
    }
   ],
   "source": [
    "from pytao.plotting.curves import TaoCurveSettings\n",
    "\n",
    "# Let's use SubprocessTao to make an independent Tao instance in a subprocess.\n",
    "# Now we can use `tao` from above (`optics_matching`) and `erl` here simultaneously.\n",
    "erl = SubprocessTao(init_file=\"$ACC_ROOT_DIR/bmad-doc/tao_examples/erl/tao.init\", plot=\"bokeh\")\n",
    "\n",
    "erl.plot(\n",
    "    [\"zphase\", \"zphase\", \"zphase\", \"zphase2\"],\n",
    "    grid=(2, 2),\n",
    "    curves=[\n",
    "        {1: TaoCurveSettings(ele_ref_name=r\"linac.beg\\1\")},\n",
    "        {1: TaoCurveSettings(ele_ref_name=r\"linac.end\\1\")},\n",
    "        {1: TaoCurveSettings(ele_ref_name=r\"linac.beg\\2\")},\n",
    "        {1: TaoCurveSettings(ele_ref_name=r\"linac.end\\2\")},\n",
    "    ],\n",
    "    share_x=False,\n",
    "    include_layout=False,\n",
    ")"
   ]
  }
 ],
 "metadata": {
  "kernelspec": {
   "display_name": "Python 3 (ipykernel)",
   "language": "python",
   "name": "python3"
  },
  "language_info": {
   "codemirror_mode": {
    "name": "ipython",
    "version": 3
   },
   "file_extension": ".py",
   "mimetype": "text/x-python",
   "name": "python",
   "nbconvert_exporter": "python",
   "pygments_lexer": "ipython3",
   "version": "3.12.0"
  },
  "vscode": {
   "interpreter": {
    "hash": "610c699f0cd8c4f129acd9140687fff6866bed0eb8e82f249fc8848b827b628c"
   }
  }
 },
 "nbformat": 4,
 "nbformat_minor": 4
}
