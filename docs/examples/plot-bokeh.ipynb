{
 "cells": [
  {
   "cell_type": "markdown",
   "metadata": {},
   "source": [
    "# PyTao plotting with Bokeh"
   ]
  },
  {
   "cell_type": "markdown",
   "metadata": {},
   "source": [
    "PyTao supports plotting directly from the notebook, without a separate (X11) plot window.\n",
    "\n",
    "PyTao provides two backends:\n",
    "* Bokeh (with interactive plotting support)\n",
    "* Matplotlib \n",
    "\n",
    "When plotting is enabled, PyTao will automatically select the best available backend.\n",
    "\n",
    "\n",
    "The plotting backend may be specified explicitly, as we will do in this notebook in order to show off\n",
    "this backend's functionality."
   ]
  },
  {
   "cell_type": "markdown",
   "metadata": {},
   "source": [
    "---\n",
    "## Tao setup"
   ]
  },
  {
   "cell_type": "code",
   "execution_count": null,
   "metadata": {
    "execution": {
     "iopub.execute_input": "2024-08-08T19:16:13.591337Z",
     "iopub.status.busy": "2024-08-08T19:16:13.590893Z",
     "iopub.status.idle": "2024-08-08T19:16:14.006907Z",
     "shell.execute_reply": "2024-08-08T19:16:14.006572Z"
    }
   },
   "outputs": [],
   "source": [
    "from pytao import SubprocessTao, Tao"
   ]
  },
  {
   "cell_type": "code",
   "execution_count": null,
   "metadata": {
    "execution": {
     "iopub.execute_input": "2024-08-08T19:16:14.008544Z",
     "iopub.status.busy": "2024-08-08T19:16:14.008438Z",
     "iopub.status.idle": "2024-08-08T19:16:14.070204Z",
     "shell.execute_reply": "2024-08-08T19:16:14.069939Z"
    }
   },
   "outputs": [],
   "source": [
    "init_file = \"$ACC_ROOT_DIR/bmad-doc/tao_examples/optics_matching/tao.init\"\n",
    "\n",
    "tao = Tao(init_file=init_file, plot=\"bokeh\")"
   ]
  },
  {
   "cell_type": "markdown",
   "metadata": {},
   "source": [
    "## The floor plan"
   ]
  },
  {
   "cell_type": "code",
   "execution_count": null,
   "metadata": {
    "execution": {
     "iopub.execute_input": "2024-08-08T19:16:14.071607Z",
     "iopub.status.busy": "2024-08-08T19:16:14.071531Z",
     "iopub.status.idle": "2024-08-08T19:16:14.568585Z",
     "shell.execute_reply": "2024-08-08T19:16:14.568323Z"
    }
   },
   "outputs": [],
   "source": [
    "tao.plot(\"floor_plan\")"
   ]
  },
  {
   "cell_type": "markdown",
   "metadata": {},
   "source": [
    "## Single data plots"
   ]
  },
  {
   "cell_type": "code",
   "execution_count": null,
   "metadata": {
    "execution": {
     "iopub.execute_input": "2024-08-08T19:16:14.570012Z",
     "iopub.status.busy": "2024-08-08T19:16:14.569883Z",
     "iopub.status.idle": "2024-08-08T19:16:14.785461Z",
     "shell.execute_reply": "2024-08-08T19:16:14.785234Z"
    }
   },
   "outputs": [],
   "source": [
    "tao.plot(\"dispersion\", include_layout=True, width=800, height=200)"
   ]
  },
  {
   "cell_type": "markdown",
   "metadata": {},
   "source": [
    "## Plot fields"
   ]
  },
  {
   "cell_type": "code",
   "execution_count": null,
   "metadata": {
    "execution": {
     "iopub.execute_input": "2024-08-08T19:16:14.786914Z",
     "iopub.status.busy": "2024-08-08T19:16:14.786807Z",
     "iopub.status.idle": "2024-08-08T19:16:15.145297Z",
     "shell.execute_reply": "2024-08-08T19:16:15.145041Z"
    }
   },
   "outputs": [],
   "source": [
    "tao.cmd(\"set var quad[1]|model = -5\")\n",
    "tao.plot_field(\"Q1\")"
   ]
  },
  {
   "cell_type": "markdown",
   "metadata": {},
   "source": [
    "## Stacked plots"
   ]
  },
  {
   "cell_type": "code",
   "execution_count": null,
   "metadata": {
    "execution": {
     "iopub.execute_input": "2024-08-08T19:16:15.146620Z",
     "iopub.status.busy": "2024-08-08T19:16:15.146523Z",
     "iopub.status.idle": "2024-08-08T19:16:15.406897Z",
     "shell.execute_reply": "2024-08-08T19:16:15.406669Z"
    }
   },
   "outputs": [],
   "source": [
    "tao.plot([\"alpha\", \"beta\"])"
   ]
  },
  {
   "cell_type": "code",
   "execution_count": null,
   "metadata": {
    "execution": {
     "iopub.execute_input": "2024-08-08T19:16:15.408814Z",
     "iopub.status.busy": "2024-08-08T19:16:15.408723Z",
     "iopub.status.idle": "2024-08-08T19:16:15.530556Z",
     "shell.execute_reply": "2024-08-08T19:16:15.530331Z"
    }
   },
   "outputs": [],
   "source": [
    "tao.plot([\"alpha\", \"beta\"], include_layout=False)"
   ]
  },
  {
   "cell_type": "markdown",
   "metadata": {},
   "source": [
    "## Gridded plots"
   ]
  },
  {
   "cell_type": "code",
   "execution_count": null,
   "metadata": {
    "execution": {
     "iopub.execute_input": "2024-08-08T19:16:15.531969Z",
     "iopub.status.busy": "2024-08-08T19:16:15.531876Z",
     "iopub.status.idle": "2024-08-08T19:16:16.025359Z",
     "shell.execute_reply": "2024-08-08T19:16:16.025052Z"
    }
   },
   "outputs": [],
   "source": [
    "tao.plot([\"beta\", \"dispersion\", \"orbit\"], grid=(2, 2), width=300, height=100)"
   ]
  },
  {
   "cell_type": "markdown",
   "metadata": {},
   "source": [
    "## Saving plots\n",
    "\n",
    "The parameter `save` makes it convenient to simultaneously display and save the plot to a file."
   ]
  },
  {
   "cell_type": "code",
   "execution_count": null,
   "metadata": {
    "execution": {
     "iopub.execute_input": "2024-08-08T19:16:16.027910Z",
     "iopub.status.busy": "2024-08-08T19:16:16.027800Z",
     "iopub.status.idle": "2024-08-08T19:16:16.176618Z",
     "shell.execute_reply": "2024-08-08T19:16:16.176360Z"
    }
   },
   "outputs": [],
   "source": [
    "tao.plot(\"beta\", save=\"beta\", include_layout=False)"
   ]
  },
  {
   "cell_type": "markdown",
   "metadata": {},
   "source": [
    "## Change defaults"
   ]
  },
  {
   "cell_type": "code",
   "execution_count": null,
   "metadata": {
    "execution": {
     "iopub.execute_input": "2024-08-08T19:16:16.178062Z",
     "iopub.status.busy": "2024-08-08T19:16:16.177966Z",
     "iopub.status.idle": "2024-08-08T19:16:16.179523Z",
     "shell.execute_reply": "2024-08-08T19:16:16.179301Z"
    }
   },
   "outputs": [],
   "source": [
    "import pytao.plotting.bokeh\n",
    "\n",
    "pytao.plotting.bokeh.set_defaults(\n",
    "    width=400,\n",
    "    height=400,\n",
    "    layout_height=150,\n",
    "    palette=\"Magma256\",\n",
    ")"
   ]
  },
  {
   "cell_type": "code",
   "execution_count": null,
   "metadata": {
    "execution": {
     "iopub.execute_input": "2024-08-08T19:16:16.180691Z",
     "iopub.status.busy": "2024-08-08T19:16:16.180613Z",
     "iopub.status.idle": "2024-08-08T19:16:16.505430Z",
     "shell.execute_reply": "2024-08-08T19:16:16.505151Z"
    }
   },
   "outputs": [],
   "source": [
    "tao.plot(\"beta\")"
   ]
  },
  {
   "cell_type": "markdown",
   "metadata": {},
   "source": [
    "## Accessing plot data"
   ]
  },
  {
   "cell_type": "code",
   "execution_count": null,
   "metadata": {
    "execution": {
     "iopub.execute_input": "2024-08-08T19:16:16.507057Z",
     "iopub.status.busy": "2024-08-08T19:16:16.506965Z",
     "iopub.status.idle": "2024-08-08T19:16:16.508522Z",
     "shell.execute_reply": "2024-08-08T19:16:16.508297Z"
    }
   },
   "outputs": [],
   "source": [
    "graphs, app = tao.last_plot"
   ]
  },
  {
   "cell_type": "code",
   "execution_count": null,
   "metadata": {
    "execution": {
     "iopub.execute_input": "2024-08-08T19:16:16.509682Z",
     "iopub.status.busy": "2024-08-08T19:16:16.509605Z",
     "iopub.status.idle": "2024-08-08T19:16:16.511713Z",
     "shell.execute_reply": "2024-08-08T19:16:16.511469Z"
    }
   },
   "outputs": [],
   "source": [
    "graphs[0].curves[0].line.xs[:10]"
   ]
  },
  {
   "cell_type": "markdown",
   "metadata": {},
   "source": [
    "## Advanced plotting settings\n",
    "\n",
    "`TaoGraphSettings` may be used to customize per-graph settings in single or gridded plots.\n",
    "\n",
    "Since each graph has its own settings, we specify a list of `TaoGraphSettings`.\n",
    "`TaoGraphSettings` includes customization of titles, legends, scales, per-axis settings (with `TaoAxisSettings`), and so on.  \n",
    "\n",
    "For example, to change the title of a plot, one could use:\n",
    "`TaoGraphSettings(title=\"something\")` - or equivalently a custom Tao command can be sent with `TaoGraphSettings(commands=[\"set graph {graph} title = something\"])`.\n",
    "\n",
    "See `TaoGraphSettings` documentation for further information on what may be customized. Not all settings will be supported by PyTao's plotting backends."
   ]
  },
  {
   "cell_type": "code",
   "execution_count": null,
   "metadata": {
    "execution": {
     "iopub.execute_input": "2024-08-08T19:16:16.513055Z",
     "iopub.status.busy": "2024-08-08T19:16:16.512984Z",
     "iopub.status.idle": "2024-08-08T19:16:18.444972Z",
     "shell.execute_reply": "2024-08-08T19:16:18.444649Z"
    }
   },
   "outputs": [],
   "source": [
    "from pytao.plotting import TaoGraphSettings, TaoAxisSettings\n",
    "\n",
    "# Let's use SubprocessTao to make an independent Tao instance in a subprocess.\n",
    "# Now we can use `tao` from above (`optics_matching`) and `erl` here simultaneously.\n",
    "erl = pytao.SubprocessTao(init_file=\"$ACC_ROOT_DIR/bmad-doc/tao_examples/erl/tao.init\", plot=\"bokeh\")\n",
    "\n",
    "erl.plot(\n",
    "    \"alpha\",\n",
    "    settings=TaoGraphSettings(\n",
    "        title=\"My Custom Alpha Plot\",\n",
    "        component=\"model\",\n",
    "        draw_grid=False,\n",
    "        x=TaoAxisSettings(\n",
    "            label=\"Position - s [m]\",\n",
    "        ),\n",
    "    ),\n",
    ")"
   ]
  },
  {
   "cell_type": "markdown",
   "metadata": {},
   "source": [
    "## Advanced curve settings\n",
    "\n",
    "`TaoCurveSettings` may be used to customize per-curve settings in simple or gridded plots.\n",
    "\n",
    "The below example has 4 plots in a 2x2 grid.\n",
    "\n",
    "Since each plot has a set of curves, we must specify a dictionary for each plot.\n",
    "\n",
    "That dictionary contains a mapping of `curve_index` (starting with 1) to a `TaoCurveSettings` instance.\n",
    "\n",
    "See `TaoCurveSettings` for further information on what may be customized."
   ]
  },
  {
   "cell_type": "code",
   "execution_count": null,
   "metadata": {
    "execution": {
     "iopub.execute_input": "2024-08-08T19:16:18.446597Z",
     "iopub.status.busy": "2024-08-08T19:16:18.446384Z",
     "iopub.status.idle": "2024-08-08T19:16:18.651014Z",
     "shell.execute_reply": "2024-08-08T19:16:18.650766Z"
    }
   },
   "outputs": [],
   "source": [
    "from pytao.plotting.curves import TaoCurveSettings\n",
    "\n",
    "erl.plot(\n",
    "    [\"zphase\", \"zphase\", \"zphase\", \"zphase2\"],\n",
    "    grid=(2, 2),\n",
    "    curves=[\n",
    "        {1: TaoCurveSettings(ele_ref_name=r\"linac.beg\\1\")},\n",
    "        {1: TaoCurveSettings(ele_ref_name=r\"linac.end\\1\")},\n",
    "        {1: TaoCurveSettings(ele_ref_name=r\"linac.beg\\2\")},\n",
    "        {1: TaoCurveSettings(ele_ref_name=r\"linac.end\\2\")},\n",
    "    ],\n",
    "    share_x=False,\n",
    "    include_layout=False,\n",
    ")"
   ]
  }
 ],
 "metadata": {
  "kernelspec": {
   "display_name": "Python 3 (ipykernel)",
   "language": "python",
   "name": "python3"
  },
  "language_info": {
   "codemirror_mode": {
    "name": "ipython",
    "version": 3
   },
   "file_extension": ".py",
   "mimetype": "text/x-python",
   "name": "python",
   "nbconvert_exporter": "python",
   "pygments_lexer": "ipython3",
   "version": "3.12.0"
  },
  "vscode": {
   "interpreter": {
    "hash": "610c699f0cd8c4f129acd9140687fff6866bed0eb8e82f249fc8848b827b628c"
   }
  }
 },
 "nbformat": 4,
 "nbformat_minor": 4
}
