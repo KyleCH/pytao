{
 "cells": [
  {
   "cell_type": "markdown",
   "metadata": {},
   "source": [
    "# PyTao Bokeh \"Single mode\""
   ]
  },
  {
   "cell_type": "code",
   "execution_count": null,
   "metadata": {
    "execution": {
     "iopub.execute_input": "2024-08-08T19:16:10.829985Z",
     "iopub.status.busy": "2024-08-08T19:16:10.829547Z",
     "iopub.status.idle": "2024-08-08T19:16:11.251092Z",
     "shell.execute_reply": "2024-08-08T19:16:11.250764Z"
    }
   },
   "outputs": [],
   "source": [
    "    from pytao import Tao"
   ]
  },
  {
   "cell_type": "code",
   "execution_count": null,
   "metadata": {
    "execution": {
     "iopub.execute_input": "2024-08-08T19:16:11.252808Z",
     "iopub.status.busy": "2024-08-08T19:16:11.252696Z",
     "iopub.status.idle": "2024-08-08T19:16:11.346186Z",
     "shell.execute_reply": "2024-08-08T19:16:11.345930Z"
    }
   },
   "outputs": [],
   "source": [
    "init_file = \"$ACC_ROOT_DIR/bmad-doc/tao_examples/cbeta_cell/tao.init\"\n",
    "\n",
    "tao = Tao(init_file=init_file, plot=\"bokeh\")"
   ]
  },
  {
   "cell_type": "code",
   "execution_count": null,
   "metadata": {
    "execution": {
     "iopub.execute_input": "2024-08-08T19:16:11.347577Z",
     "iopub.status.busy": "2024-08-08T19:16:11.347505Z",
     "iopub.status.idle": "2024-08-08T19:16:11.778755Z",
     "shell.execute_reply": "2024-08-08T19:16:11.778505Z"
    }
   },
   "outputs": [],
   "source": [
    "tao.plot(\"beta\", vars=True, width=800, height=200)"
   ]
  },
  {
   "cell_type": "code",
   "execution_count": null,
   "metadata": {
    "execution": {
     "iopub.execute_input": "2024-08-08T19:16:11.780100Z",
     "iopub.status.busy": "2024-08-08T19:16:11.779975Z",
     "iopub.status.idle": "2024-08-08T19:16:11.782116Z",
     "shell.execute_reply": "2024-08-08T19:16:11.781886Z"
    }
   },
   "outputs": [],
   "source": [
    "tao.var(\"q[1]\")[\"model_value\"]"
   ]
  }
 ],
 "metadata": {
  "kernelspec": {
   "display_name": "Python 3 (ipykernel)",
   "language": "python",
   "name": "python3"
  },
  "language_info": {
   "codemirror_mode": {
    "name": "ipython",
    "version": 3
   },
   "file_extension": ".py",
   "mimetype": "text/x-python",
   "name": "python",
   "nbconvert_exporter": "python",
   "pygments_lexer": "ipython3",
   "version": "3.12.0"
  },
  "vscode": {
   "interpreter": {
    "hash": "610c699f0cd8c4f129acd9140687fff6866bed0eb8e82f249fc8848b827b628c"
   }
  }
 },
 "nbformat": 4,
 "nbformat_minor": 4
}
