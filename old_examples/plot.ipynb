{
 "cells": [
  {
   "cell_type": "markdown",
   "metadata": {},
   "source": [
    "# PyTao Plotting"
   ]
  },
  {
   "cell_type": "raw",
   "metadata": {},
   "source": [
    "This gives some interactive documentation for the various Tao python plotting commands, to get plotting data without the X11 window. "
   ]
  },
  {
   "cell_type": "markdown",
   "metadata": {},
   "source": [
    "---\n",
    "## Tao setup"
   ]
  },
  {
   "cell_type": "code",
   "execution_count": null,
   "metadata": {},
   "outputs": [],
   "source": [
    "from pytao import Tao\n",
    "from pytao.tao_ctypes import util\n",
    "from pytao.tao_ctypes.util import parse_bool\n",
    "import os"
   ]
  },
  {
   "cell_type": "code",
   "execution_count": null,
   "metadata": {},
   "outputs": [],
   "source": [
    "# Point to local installation\n",
    "BASE_DIR=os.environ['ACC_ROOT_DIR'] \n",
    "print('Bmad installation: ', BASE_DIR)\n",
    "\n",
    "\n",
    "# Pick an example init\n",
    "root = os.path.join(BASE_DIR,'tao/examples/cesr/')\n",
    "os.chdir(root)\n",
    "init = root+'tao.init'\n",
    "# Make tao instance\n",
    "tao=Tao()   \n",
    "tao.init('-noplot -init '+init);"
   ]
  },
  {
   "cell_type": "code",
   "execution_count": null,
   "metadata": {},
   "outputs": [],
   "source": [
    "# Enable plotting, and put assign plot 'r1' according to the 'beta' template\n",
    "tao.cmd('set global force_plot_data_calc = T')\n",
    "tao.cmd('place r1 beta')\n",
    "tao.cmd('set plot r1 visible = T')"
   ]
  },
  {
   "cell_type": "markdown",
   "metadata": {},
   "source": [
    "---\n",
    "## plot_list"
   ]
  },
  {
   "cell_type": "raw",
   "metadata": {},
   "source": [
    "!----------------------------------------------------------------------\n",
    "! List of plot templates or plot regions.\n",
    "! Command syntax:  \n",
    "!   python plot_list <r/g>\n",
    "! where \"<r/g>\" is:\n",
    "!   \"r\"      ! list regions\n",
    "!   \"t\"      ! list template plots \n"
   ]
  },
  {
   "cell_type": "code",
   "execution_count": null,
   "metadata": {},
   "outputs": [],
   "source": [
    "# Index, region, template, visible \n",
    "tao.cmd('python plot_list r')[0:10]"
   ]
  },
  {
   "cell_type": "code",
   "execution_count": null,
   "metadata": {},
   "outputs": [],
   "source": [
    "def parse_plot_regions(lines):\n",
    "    regions = []\n",
    "    for line in lines:\n",
    "        ix, region, plot, visible = line.split(';')\n",
    "        if plot =='':\n",
    "            plot = None\n",
    "        regions.append( {'ix':int(ix), 'region':region, 'plot':plot, 'visible':parse_bool(visible)} ) \n",
    "    return regions\n",
    "\n",
    "def plot_regions(tao):\n",
    "    return parse_plot_regions(tao.cmd('python plot_list r'))\n",
    "# list of visible regions\n",
    "[p for p in plot_regions(tao)  if p['visible'] ]"
   ]
  },
  {
   "cell_type": "code",
   "execution_count": null,
   "metadata": {},
   "outputs": [],
   "source": [
    "# index, template\n",
    "tao.cmd('python plot_list t')[0:10]"
   ]
  },
  {
   "cell_type": "code",
   "execution_count": null,
   "metadata": {},
   "outputs": [],
   "source": [
    "def parse_plot_templates(lines):\n",
    "    templates = []\n",
    "    for line in lines:\n",
    "        ix, template = line.split(';')\n",
    "        templates.append(template)\n",
    "    return templates\n",
    "def plot_templates(tao):\n",
    "    return parse_plot_templates(tao.cmd('python plot_list t'))\n",
    "templates = plot_templates(tao)\n",
    "templates[0:10]"
   ]
  },
  {
   "cell_type": "markdown",
   "metadata": {},
   "source": [
    "## plot1 "
   ]
  },
  {
   "cell_type": "raw",
   "metadata": {},
   "source": [
    "!----------------------------------------------------------------------\n",
    "! Info on a given plot.\n",
    "! Command syntax:\n",
    "!   python plot1 <name>\n",
    "! <name> should be the region name if the plot is associated with a region.\n",
    "! Output syntax is variable list form. See documentation at beginning of this file."
   ]
  },
  {
   "cell_type": "code",
   "execution_count": null,
   "metadata": {},
   "outputs": [],
   "source": [
    "# name, type, settable, value\n",
    "tao.cmd('python plot1 r1')"
   ]
  },
  {
   "cell_type": "code",
   "execution_count": null,
   "metadata": {},
   "outputs": [],
   "source": [
    "util.parse_tao_python_data(tao.cmd('python plot1 r1'))"
   ]
  },
  {
   "cell_type": "markdown",
   "metadata": {},
   "source": [
    "---\n",
    "## plot_graph "
   ]
  },
  {
   "cell_type": "raw",
   "metadata": {},
   "source": [
    "!----------------------------------------------------------------------\n",
    "! Graph\n",
    "! Syntax:\n",
    "!   python plot_graph <graph_name>\n",
    "! <graph_name> is in the form:\n",
    "!   <p_name>.<g_name>\n",
    "! where \n",
    "!   <p_name> is the plot region name if from a region or the plot name if a template plot.\n",
    "!   This name is obtained from the python plot_list command. \n",
    "!   <g_name> is the graph name obtained from the python plot1 command."
   ]
  },
  {
   "cell_type": "code",
   "execution_count": null,
   "metadata": {},
   "outputs": [],
   "source": [
    "tao.cmd('python plot_graph r1.a')"
   ]
  },
  {
   "cell_type": "code",
   "execution_count": null,
   "metadata": {},
   "outputs": [],
   "source": [
    "util.parse_tao_python_data(tao.cmd('python plot_graph r1.a'))"
   ]
  },
  {
   "cell_type": "markdown",
   "metadata": {},
   "source": [
    "---\n",
    "## plot_curve"
   ]
  },
  {
   "cell_type": "raw",
   "metadata": {},
   "source": [
    "!----------------------------------------------------------------------\n",
    "! Curve information for a plot\n",
    "! Command syntax:\n",
    "!   pyton curve <curve_name>"
   ]
  },
  {
   "cell_type": "code",
   "execution_count": null,
   "metadata": {},
   "outputs": [],
   "source": [
    "tao.cmd('python plot_curve r1.a.c1')"
   ]
  },
  {
   "cell_type": "code",
   "execution_count": null,
   "metadata": {},
   "outputs": [],
   "source": [
    "util.parse_tao_python_data(tao.cmd('python plot_curve r1.a.c1'))"
   ]
  },
  {
   "cell_type": "markdown",
   "metadata": {},
   "source": [
    "---\n",
    "## plot_line"
   ]
  },
  {
   "cell_type": "raw",
   "metadata": {},
   "source": [
    "!----------------------------------------------------------------------\n",
    "! Points used to construct a smooth line for a plot curve.\n",
    "! Points used to construct a smooth line for a plot curve.\n",
    "! Command syntax:\n",
    "!   python plot_line {region_name}.{graph_name}.{curve_name} {x-or-y}\n",
    "! Optional {x-or-y} may be set to \"x\" or \"y\" to get the smooth line points x or y component put into the real array buffer.\n",
    "! Note: The plot must come from a region, and not a template, since no template plots have associated line data.\n",
    "! Examples:\n",
    "!   python plot_line r13.g.a       ! String array output.\n",
    "!   python plot_line r13.g.a x     ! x-component of line points loaded into the real array buffer.\n",
    "!   python plot_line r13.g.a y     ! y-component of line points loaded into the real array buffer.\n"
   ]
  },
  {
   "cell_type": "code",
   "execution_count": null,
   "metadata": {},
   "outputs": [],
   "source": [
    "tao.cmd('python plot_line r1.a.c1')[0:10]"
   ]
  },
  {
   "cell_type": "code",
   "execution_count": null,
   "metadata": {},
   "outputs": [],
   "source": [
    "# X array\n",
    "tao.cmd_real('python plot_line r1.a.c1 x')[0:10]"
   ]
  },
  {
   "cell_type": "code",
   "execution_count": null,
   "metadata": {},
   "outputs": [],
   "source": [
    "# Y array\n",
    "tao.cmd_real('python plot_line r1.a.c1 y')[0:10]"
   ]
  },
  {
   "cell_type": "code",
   "execution_count": null,
   "metadata": {},
   "outputs": [],
   "source": [
    "def parse_plot_line(lines):\n",
    "    xlist = []\n",
    "    ylist = []\n",
    "    for line in lines:\n",
    "        i, x, y = line.split(';')\n",
    "        xlist.append(float(x))\n",
    "        ylist.append(float(y))\n",
    "    return {'x':xlist, 'y':ylist}\n",
    "parse_plot_line(tao.cmd('python plot_line r1.a.c1')).keys()"
   ]
  },
  {
   "cell_type": "markdown",
   "metadata": {},
   "source": [
    "---\n",
    "## plot_symbol "
   ]
  },
  {
   "cell_type": "raw",
   "metadata": {},
   "source": [
    "!----------------------------------------------------------------------\n",
    "! Locations to draw symbols for a plot curve.\n",
    "! Command syntax:\n",
    "!   python plot_symbol {region_name}.{graph_name}.{curve_name} {x-or-y}\n",
    "! Optional {x-or-y} may be set to \"x\" or \"y\" to get the symbol x or y positions put into the real array buffer.\n",
    "! Note: The plot must come from a region, and not a template, since no template plots have associated symbol data.\n",
    "! Examples:\n",
    "!   python plot_symbol r13.g.a       ! String array output.\n",
    "!   python plot_symbol r13.g.a x     ! x-component of the symbol positions loaded into the real array buffer.\n",
    "!   python plot_symbol r13.g.a y     ! y-component of the symbol positions loaded into the real array buffer.\n"
   ]
  },
  {
   "cell_type": "code",
   "execution_count": null,
   "metadata": {},
   "outputs": [],
   "source": [
    "tao.cmd('python plot_symbol r1.a.c1')[0:10]"
   ]
  },
  {
   "cell_type": "code",
   "execution_count": null,
   "metadata": {},
   "outputs": [],
   "source": [
    "def parse_plot_symbol(lines):\n",
    "    xlist = []\n",
    "    ylist = []\n",
    "    ixlist = []\n",
    "    for line in lines:\n",
    "        i, ix, x, y = line.split(';')\n",
    "        ixlist.append(int(ix))\n",
    "        xlist.append(float(x))\n",
    "        ylist.append(float(y))\n",
    "    return {'x_symbol':xlist, 'y_symbol':ylist, 'ix_symbol':ixlist}"
   ]
  },
  {
   "cell_type": "code",
   "execution_count": null,
   "metadata": {},
   "outputs": [],
   "source": [
    "symbol_lines = tao.cmd('python plot_symbol r1.g.a')"
   ]
  },
  {
   "cell_type": "code",
   "execution_count": null,
   "metadata": {},
   "outputs": [],
   "source": [
    "# X array\n",
    "tao.cmd_real('python plot_symbol r1.a.c1 x')[0:10]"
   ]
  },
  {
   "cell_type": "code",
   "execution_count": null,
   "metadata": {},
   "outputs": [],
   "source": [
    "# Y array\n",
    "tao.cmd_real('python plot_symbol r1.a.c1 y')[0:10]"
   ]
  },
  {
   "cell_type": "markdown",
   "metadata": {},
   "source": [
    "---\n",
    "## Classes"
   ]
  },
  {
   "cell_type": "code",
   "execution_count": null,
   "metadata": {},
   "outputs": [],
   "source": [
    "class TaoCurve:\n",
    "    def __init__(self, tao, identifier):\n",
    "        self.identifier = identifier # region.graph.curve, like: r1.g.c1\n",
    "        self.update()\n",
    "        \n",
    "    def update(self):\n",
    "        self.__dict__.update(util.parse_tao_python_data(tao.cmd('python plot_curve '+self.identifier)))\n",
    "        # Get points\n",
    "        self.data = {}\n",
    "        if self.draw_line:\n",
    "            self.data['x'] = tao.cmd_real('python plot_line '+self.identifier+ ' x')\n",
    "            self.data['y'] = tao.cmd_real('python plot_line '+self.identifier+ ' y')\n",
    "            #self.data.update(parse_plot_line(tao.cmd('python plot_line '+self.identifier)))\n",
    "        if self.draw_symbols:\n",
    "            self.data['x_symbol'] = tao.cmd_real('python plot_symbol '+self.identifier+ ' x')\n",
    "            self.data['y_symbol'] = tao.cmd_real('python plot_symbol '+self.identifier+ ' y')\n",
    "            #self.data.update(parse_plot_symbol(tao.cmd('python plot_symbol '+self.identifier)))\n",
    "          \n",
    "    def __str__(self):\n",
    "        return 'Tao curve '+self.identifier+' with '+str(len(self.data['x']))+' points'"
   ]
  },
  {
   "cell_type": "code",
   "execution_count": null,
   "metadata": {},
   "outputs": [],
   "source": [
    "class TaoGraph:\n",
    "    def __init__(self, tao, identifier):\n",
    "        self.identifier = identifier # region.graph, like: r1.g\n",
    "        self.update()\n",
    "        \n",
    "    def update(self):\n",
    "        self.__dict__.update(util.parse_tao_python_data(tao.cmd('python plot_graph '+self.identifier)))\n",
    "        self.curve = []\n",
    "        for i in range(self.num_curves):\n",
    "            # Clean up keys of the form curve[1]\n",
    "            key = 'curve['+str(i+1)+']'\n",
    "            curve_name = self.__dict__[key]\n",
    "            del(self.__dict__[key])\n",
    "            # Add curve\n",
    "            curve = TaoCurve(tao, self.identifier+'.'+curve_name)\n",
    "            self.curve.append(curve)    \n",
    "            \n",
    "    def __str__(self):\n",
    "        cnames = ''\n",
    "        for c in self.curve:\n",
    "            cnames=cnames+c.name+' '\n",
    "        return 'Tao graph '+self.identifier+' with '+str(len(self.curve))+' curves: '+cnames"
   ]
  },
  {
   "cell_type": "code",
   "execution_count": null,
   "metadata": {},
   "outputs": [],
   "source": [
    "class TaoPlot:\n",
    "    def __init__(self, tao, region):\n",
    "        self.identifier = region\n",
    "        self.update()\n",
    "        \n",
    "    def update(self):\n",
    "        self.__dict__.update(util.parse_tao_python_data(tao.cmd('python plot1 '+self.identifier)))\n",
    "        self.graph = []\n",
    "        for i in range(self.num_graphs):\n",
    "            # Clean up keys of the form: graph[1].\n",
    "            key = 'graph['+str(i+1)+']'\n",
    "            graph_name = self.__dict__[key]\n",
    "            del(self.__dict__[key])\n",
    "            # Add graph\n",
    "            graph = TaoGraph(tao, self.identifier+'.'+graph_name)\n",
    "            self.graph.append(graph)\n",
    "            \n",
    "    def __str__(self):\n",
    "        gnames = ''\n",
    "        for g in self.graph:\n",
    "            gnames=gnames+g.name+' '\n",
    "        return 'Tao plot '+self.identifier+' with '+str(len(self.graph))+' graphs: '+gnames\n",
    "plot = TaoPlot(tao, 'r1')"
   ]
  },
  {
   "cell_type": "code",
   "execution_count": null,
   "metadata": {},
   "outputs": [],
   "source": [
    "plot.graph[0].curve[0].__dict__.keys()"
   ]
  },
  {
   "cell_type": "code",
   "execution_count": null,
   "metadata": {},
   "outputs": [],
   "source": [
    "print(plot)\n",
    "print(plot.graph[0])\n",
    "print(plot.graph[0].curve[0])"
   ]
  },
  {
   "cell_type": "code",
   "execution_count": null,
   "metadata": {},
   "outputs": [],
   "source": [
    "plot.graph[0].curve[0].data.keys()"
   ]
  },
  {
   "cell_type": "code",
   "execution_count": null,
   "metadata": {},
   "outputs": [],
   "source": [
    "list(plot.__dict__.keys())"
   ]
  },
  {
   "cell_type": "code",
   "execution_count": null,
   "metadata": {},
   "outputs": [],
   "source": [
    "list(plot.graph[0].__dict__.keys())"
   ]
  },
  {
   "cell_type": "markdown",
   "metadata": {},
   "source": [
    "---"
   ]
  },
  {
   "cell_type": "markdown",
   "metadata": {},
   "source": [
    "## Simple Bokeh plotting example"
   ]
  },
  {
   "cell_type": "code",
   "execution_count": null,
   "metadata": {},
   "outputs": [],
   "source": [
    "from bokeh.plotting import figure, output_notebook, show\n",
    "from bokeh.models.sources import ColumnDataSource\n",
    "output_notebook()"
   ]
  },
  {
   "cell_type": "code",
   "execution_count": null,
   "metadata": {},
   "outputs": [],
   "source": [
    "# Set up a plot\n",
    "tao.cmd('set global force_plot_data_calc = T')\n",
    "tao.cmd('place r1 beta')\n",
    "tao.cmd('set plot r1 visible = T')\n",
    "tao.cmd('x-axis r1 s')\n",
    "tao.cmd('x-s r1 0 1000')\n"
   ]
  },
  {
   "cell_type": "code",
   "execution_count": null,
   "metadata": {},
   "outputs": [],
   "source": [
    "# Simple function to parse the curve data\n",
    "def simple_parse_cuve_data(lines, xlabel='x', ylabel='y'):\n",
    "    xdat = []\n",
    "    ydat = []\n",
    "    for line in lines:\n",
    "        ix, x, y = line.split(';')\n",
    "        xdat.append(float(x))\n",
    "        ydat.append(float(y))\n",
    "    return {xlabel:xdat, ylabel:ydat}\n",
    "curve_dat = simple_parse_cuve_data(tao.cmd('python plot_line r1.a.c1'))\n",
    "#curve_dat.update(simple_parse_cuve_data(tao.cmd('python plot_line r1.b.c1'))"
   ]
  },
  {
   "cell_type": "code",
   "execution_count": null,
   "metadata": {},
   "outputs": [],
   "source": [
    "# create a new plot with a title and axis labels\n",
    "p = figure(title=\"Beta plot\", x_axis_label='s', y_axis_label='beta_a')\n",
    "\n",
    "source = ColumnDataSource(data=curve_dat)\n",
    "\n",
    "# add a line renderer with legend and line thickness\n",
    "p.line('x', 'y', legend=\"Temp.\", line_width=2, source=source)\n",
    "\n",
    "# show the results\n",
    "show(p)"
   ]
  },
  {
   "cell_type": "code",
   "execution_count": null,
   "metadata": {},
   "outputs": [],
   "source": [
    "p2 = figure(title=\"Beta plot\", x_axis_label='s', y_axis_label='beta_a')\n",
    "source2 = ColumnDataSource(data=plot.graph[0].curve[0].data)\n",
    "p2.line('x', 'y', legend=\"Temp.\", line_width=2, source=source2)\n",
    "show(p2)"
   ]
  },
  {
   "cell_type": "markdown",
   "metadata": {},
   "source": [
    "---\n",
    "## Full Bokeh "
   ]
  },
  {
   "cell_type": "code",
   "execution_count": null,
   "metadata": {},
   "outputs": [],
   "source": [
    "list(plot.graph[0].__dict__.keys())"
   ]
  },
  {
   "cell_type": "code",
   "execution_count": null,
   "metadata": {},
   "outputs": [],
   "source": [
    "list(plot.graph[0].curve[0].__dict__.keys())"
   ]
  },
  {
   "cell_type": "code",
   "execution_count": null,
   "metadata": {},
   "outputs": [],
   "source": [
    "%%tao\n",
    "set plot r1 n_curve_pts = 10"
   ]
  },
  {
   "cell_type": "code",
   "execution_count": null,
   "metadata": {},
   "outputs": [],
   "source": [
    "from bokeh.colors import named\n",
    "def bokeh_color(qp_color):\n",
    "    \"\"\"\n",
    "    Try to get a named color\n",
    "    \"\"\"\n",
    "    return named.__dict__[qp_color.lower()]\n",
    "\n",
    "def bokeh_graph(tao_graph):\n",
    "    g = tao_graph\n",
    "    p = figure(title=g.title, x_axis_label=g.x_label, y_axis_label=g.y_label)\n",
    "    \n",
    "    #p.x_range.on_change('start', lambda attr, old, new: print(\"Start\", new))\n",
    "    for c in g.curve:\n",
    "        source = ColumnDataSource(c.data)\n",
    "        if c.draw_line:\n",
    "            p.line('x', 'y', legend=c.data_type, line_width=c.line_width, \n",
    "                line_color = c.line_color.lower(), source=source)\n",
    "        if c.draw_symbols:\n",
    "            p.circle('x_symbol', 'y_symbol', color=c.symbol_color.lower(), source=source)\n",
    "    \n",
    "    return p\n",
    "tao.cmd('set plot r1 n_curve_pts= 100')\n",
    "plot.update()\n",
    "show(bokeh_graph(plot.graph[0]))\n",
    "    "
   ]
  },
  {
   "cell_type": "code",
   "execution_count": null,
   "metadata": {},
   "outputs": [],
   "source": [
    "templates = plot_templates(tao)\n",
    "def test_template(t):\n",
    "    tao.cmd('place r1 '+t)\n",
    "    tao.cmd('set plot r1 visible = T')\n",
    "    plot.update()\n",
    "    return bokeh_graph(plot.graph[0])\n",
    "for t in templates:\n",
    "    print(t)\n",
    "    try:\n",
    "        show(test_template((t)))\n",
    "    except Exception:\n",
    "        pass\n",
    "pout = test_template(templates[0])    \n",
    "#export_png(pout, 'test.png')"
   ]
  },
  {
   "cell_type": "markdown",
   "metadata": {},
   "source": [
    "---\n",
    "## Test"
   ]
  },
  {
   "cell_type": "code",
   "execution_count": null,
   "metadata": {},
   "outputs": [],
   "source": [
    "def test2_template(t):\n",
    "    print('place r1 '+t)\n",
    "    print('set plot r1 visible = T')"
   ]
  },
  {
   "cell_type": "code",
   "execution_count": null,
   "metadata": {},
   "outputs": [],
   "source": [
    "for t in templates:\n",
    "    try:\n",
    "        test2_template((t))\n",
    "    except Exception:\n",
    "        pass"
   ]
  },
  {
   "cell_type": "code",
   "execution_count": null,
   "metadata": {},
   "outputs": [],
   "source": []
  }
 ],
 "metadata": {
  "kernelspec": {
   "display_name": "Python 3.10.7 64-bit",
   "language": "python",
   "name": "python3"
  },
  "language_info": {
   "codemirror_mode": {
    "name": "ipython",
    "version": 3
   },
   "file_extension": ".py",
   "mimetype": "text/x-python",
   "name": "python",
   "nbconvert_exporter": "python",
   "pygments_lexer": "ipython3",
   "version": "3.10.7"
  },
  "vscode": {
   "interpreter": {
    "hash": "610c699f0cd8c4f129acd9140687fff6866bed0eb8e82f249fc8848b827b628c"
   }
  }
 },
 "nbformat": 4,
 "nbformat_minor": 4
}
